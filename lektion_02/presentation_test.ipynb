{
 "cells": [
  {
   "cell_type": "markdown",
   "metadata": {},
   "source": [
    "# Test\n",
    "\n",
    "## `pytest`\n",
    "\n",
    "Tredjepartsbiblioteket `pytest` kan behöva installeras i vårt *environment*."
   ]
  },
  {
   "cell_type": "code",
   "execution_count": 10,
   "metadata": {},
   "outputs": [],
   "source": [
    "import subprocess\n",
    "\n",
    "try:\n",
    "    import pytest\n",
    "except ModuleNotFoundError:\n",
    "    # ! pip install pytest\n",
    "    subprocess.run(['pip', 'install', 'pytest']) # Alternativt sätt, fungerar även i .py-filer.\n",
    "    \n",
    "\n",
    "# \"!\" först i en notebook-cell innebär att vi vill köra koden i terminalen"
   ]
  },
  {
   "cell_type": "markdown",
   "metadata": {},
   "source": [
    "`assert` är ett nyckelord som bland annat används vid tester.\n",
    "\n",
    "Om uttrycket som följer ett `assert`-*statement* utvärderas till `False` lyfts ett `AssertionError`. Annars händer ingenting."
   ]
  },
  {
   "cell_type": "code",
   "execution_count": 12,
   "metadata": {},
   "outputs": [],
   "source": [
    "assert True"
   ]
  },
  {
   "cell_type": "code",
   "execution_count": 13,
   "metadata": {},
   "outputs": [
    {
     "ename": "AssertionError",
     "evalue": "",
     "output_type": "error",
     "traceback": [
      "\u001b[0;31m---------------------------------------------------------------------------\u001b[0m",
      "\u001b[0;31mAssertionError\u001b[0m                            Traceback (most recent call last)",
      "Cell \u001b[0;32mIn[13], line 1\u001b[0m\n\u001b[0;32m----> 1\u001b[0m \u001b[38;5;28;01massert\u001b[39;00m \u001b[38;5;28;01mFalse\u001b[39;00m\n",
      "\u001b[0;31mAssertionError\u001b[0m: "
     ]
    }
   ],
   "source": [
    "assert False"
   ]
  },
  {
   "cell_type": "markdown",
   "metadata": {},
   "source": [
    "Vi kan skapa tester och köra dem."
   ]
  },
  {
   "cell_type": "code",
   "execution_count": 14,
   "metadata": {},
   "outputs": [],
   "source": [
    "# test_example.py\n",
    "\n",
    "# Definiera en funktion. Den ska returnera argumentet plus ett.\n",
    "def add_one(x):\n",
    "    return x + 1\n",
    "\n",
    "# Definiera tester\n",
    "\n",
    "# Det här testet passerar eftersom 4 + 1 = 5\n",
    "def test_add_one():\n",
    "    assert add_one(4) == 5\n",
    "\n",
    "# Det här testet misslyckas eftersom 4 + 1 != 7\n",
    "def test_add_one_fail():\n",
    "    assert add_one(4) == 7\n",
    "\n",
    "# Här skickar vi in en textsträng som argument och kollar så att vi får ett TypeError.\n",
    "def test_add_one_with_str():\n",
    "    with pytest.raises(TypeError):\n",
    "        add_one('4')\n"
   ]
  },
  {
   "cell_type": "markdown",
   "metadata": {},
   "source": [
    "`pytest` körs inte i en notebook utan i terminalen. Om vi skriver `!` först i en rad förstår Jupyter att vi vill köra koden i terminalen istället."
   ]
  },
  {
   "cell_type": "code",
   "execution_count": 15,
   "metadata": {},
   "outputs": [
    {
     "name": "stdout",
     "output_type": "stream",
     "text": [
      "\u001b[1m============================= test session starts ==============================\u001b[0m\n",
      "platform linux -- Python 3.13.0, pytest-8.3.4, pluggy-1.5.0\n",
      "rootdir: /home/linus/documents/utbildning/tuc/data_science\n",
      "plugins: anyio-4.7.0\n",
      "collected 3 items                                                              \u001b[0m\n",
      "\n",
      "test_example.py \u001b[32m.\u001b[0m\u001b[31mF\u001b[0m\u001b[32m.\u001b[0m\u001b[31m                                                      [100%]\u001b[0m\n",
      "\n",
      "=================================== FAILURES ===================================\n",
      "\u001b[31m\u001b[1m______________________________ test_add_one_fail _______________________________\u001b[0m\n",
      "\n",
      "    \u001b[0m\u001b[94mdef\u001b[39;49;00m \u001b[92mtest_add_one_fail\u001b[39;49;00m():\u001b[90m\u001b[39;49;00m\n",
      ">       \u001b[94massert\u001b[39;49;00m add_one(\u001b[94m4\u001b[39;49;00m) == \u001b[94m7\u001b[39;49;00m\u001b[90m\u001b[39;49;00m\n",
      "\u001b[1m\u001b[31mE       assert 5 == 7\u001b[0m\n",
      "\u001b[1m\u001b[31mE        +  where 5 = add_one(4)\u001b[0m\n",
      "\n",
      "\u001b[1m\u001b[31mtest_example.py\u001b[0m:11: AssertionError\n",
      "\u001b[36m\u001b[1m=========================== short test summary info ============================\u001b[0m\n",
      "\u001b[31mFAILED\u001b[0m test_example.py::\u001b[1mtest_add_one_fail\u001b[0m - assert 5 == 7\n",
      "\u001b[31m========================= \u001b[31m\u001b[1m1 failed\u001b[0m, \u001b[32m2 passed\u001b[0m\u001b[31m in 0.25s\u001b[0m\u001b[31m ==========================\u001b[0m\n"
     ]
    }
   ],
   "source": [
    "! pytest test_example.py"
   ]
  },
  {
   "cell_type": "markdown",
   "metadata": {},
   "source": [
    "I en skriptfil (som slutar på `.py` och bara innehåller Pythonkod) kan vi istället använda modulen `subprocess`. Vi delar upp vårt kommando `pytest test_example.py` i en lista där varje del av kommandot är en egen textsträng."
   ]
  },
  {
   "cell_type": "code",
   "execution_count": 11,
   "metadata": {},
   "outputs": [
    {
     "name": "stdout",
     "output_type": "stream",
     "text": [
      "\u001b[1m============================= test session starts ==============================\u001b[0m\n",
      "platform linux -- Python 3.13.0, pytest-8.3.4, pluggy-1.5.0\n",
      "rootdir: /home/linus/documents/utbildning/tuc/data_science\n",
      "plugins: anyio-4.7.0\n",
      "collected 3 items\n",
      "\n",
      "test_example.py \u001b[32m.\u001b[0m\u001b[31mF\u001b[0m\u001b[32m.\u001b[0m\u001b[31m                                                      [100%]\u001b[0m\n",
      "\n",
      "=================================== FAILURES ===================================\n",
      "\u001b[31m\u001b[1m______________________________ test_add_one_fail _______________________________\u001b[0m\n",
      "\n",
      "    \u001b[0m\u001b[94mdef\u001b[39;49;00m \u001b[92mtest_add_one_fail\u001b[39;49;00m():\u001b[90m\u001b[39;49;00m\n",
      ">       \u001b[94massert\u001b[39;49;00m add_one(\u001b[94m4\u001b[39;49;00m) == \u001b[94m7\u001b[39;49;00m\u001b[90m\u001b[39;49;00m\n",
      "\u001b[1m\u001b[31mE       assert 5 == 7\u001b[0m\n",
      "\u001b[1m\u001b[31mE        +  where 5 = add_one(4)\u001b[0m\n",
      "\n",
      "\u001b[1m\u001b[31mtest_example.py\u001b[0m:11: AssertionError\n",
      "\u001b[36m\u001b[1m=========================== short test summary info ============================\u001b[0m\n",
      "\u001b[31mFAILED\u001b[0m test_example.py::\u001b[1mtest_add_one_fail\u001b[0m - assert 5 == 7\n",
      "\u001b[31m========================= \u001b[31m\u001b[1m1 failed\u001b[0m, \u001b[32m2 passed\u001b[0m\u001b[31m in 0.12s\u001b[0m\u001b[31m ==========================\u001b[0m\n"
     ]
    },
    {
     "data": {
      "text/plain": [
       "CompletedProcess(args=['pytest', 'test_example.py'], returncode=1)"
      ]
     },
     "execution_count": 11,
     "metadata": {},
     "output_type": "execute_result"
    }
   ],
   "source": [
    "subprocess.run([\"pytest\", \"test_example.py\"])"
   ]
  },
  {
   "cell_type": "code",
   "execution_count": null,
   "metadata": {},
   "outputs": [],
   "source": []
  }
 ],
 "metadata": {
  "kernelspec": {
   "display_name": "env",
   "language": "python",
   "name": "python3"
  },
  "language_info": {
   "codemirror_mode": {
    "name": "ipython",
    "version": 3
   },
   "file_extension": ".py",
   "mimetype": "text/x-python",
   "name": "python",
   "nbconvert_exporter": "python",
   "pygments_lexer": "ipython3",
   "version": "3.13.0"
  }
 },
 "nbformat": 4,
 "nbformat_minor": 2
}
