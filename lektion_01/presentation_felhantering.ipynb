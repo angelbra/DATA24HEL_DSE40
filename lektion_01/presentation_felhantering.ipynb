{
 "cells": [
  {
   "cell_type": "markdown",
   "metadata": {},
   "source": [
    "# Felhantering\n",
    "\n",
    "> Errors should never pass silently. Unless explicitly silenced.\n",
    "\n",
    "Tim Peters, *The Zen of Python*\n",
    "\n",
    "## Syntaxfel och *exceptions*\n",
    "\n",
    "### Syntaxfel\n",
    "\n",
    "Fel som uppstår när koden är skriven på ett sätt som Python-tolkaren inte kan tolka.\n"
   ]
  },
  {
   "cell_type": "code",
   "execution_count": null,
   "metadata": {},
   "outputs": [],
   "source": [
    "print('this string is unterminated)"
   ]
  },
  {
   "cell_type": "code",
   "execution_count": null,
   "metadata": {},
   "outputs": [],
   "source": [
    "for i in ['forgot', 'the', ':']\n",
    "    print('so this is a syntax error')"
   ]
  },
  {
   "cell_type": "markdown",
   "metadata": {},
   "source": [
    "### *Exceptions*\n",
    "\n",
    "Fel som uppstår när koden är korrekt rent syntaxmässigt, men ändå inte kan exekveras."
   ]
  },
  {
   "cell_type": "markdown",
   "metadata": {},
   "source": [
    "#### `NameError`"
   ]
  },
  {
   "cell_type": "code",
   "execution_count": null,
   "metadata": {},
   "outputs": [],
   "source": [
    "print(undefined_variable)  # pyright: ignore[reportUndefinedVariable]"
   ]
  },
  {
   "cell_type": "markdown",
   "metadata": {},
   "source": [
    "#### `AttributeError`"
   ]
  },
  {
   "cell_type": "code",
   "execution_count": null,
   "metadata": {},
   "outputs": [],
   "source": [
    "a = 42\n",
    "a.upper()  # pyright: ignore[reportAttributeAccessIssue]"
   ]
  },
  {
   "cell_type": "markdown",
   "metadata": {},
   "source": [
    "#### `ValueError`"
   ]
  },
  {
   "cell_type": "code",
   "execution_count": null,
   "metadata": {},
   "outputs": [],
   "source": [
    "int('fifty three')"
   ]
  },
  {
   "cell_type": "code",
   "execution_count": null,
   "metadata": {},
   "outputs": [],
   "source": [
    "int(\"53\")"
   ]
  },
  {
   "cell_type": "markdown",
   "metadata": {},
   "source": [
    "#### `TypeError`"
   ]
  },
  {
   "cell_type": "code",
   "execution_count": null,
   "metadata": {},
   "outputs": [],
   "source": [
    "1 + '2'  # pyright: ignore[reportOperatorIssue]"
   ]
  },
  {
   "cell_type": "code",
   "execution_count": null,
   "metadata": {},
   "outputs": [],
   "source": [
    "1 + int('2')  # pyright: ignore[reportOperatorIssue]"
   ]
  },
  {
   "cell_type": "markdown",
   "metadata": {},
   "source": [
    "#### `IndexError`"
   ]
  },
  {
   "cell_type": "code",
   "execution_count": null,
   "metadata": {},
   "outputs": [],
   "source": [
    "[2, 4, 6][4]"
   ]
  },
  {
   "cell_type": "markdown",
   "metadata": {},
   "source": [
    "`builtins` har alla inbyggda *exceptions*."
   ]
  },
  {
   "cell_type": "code",
   "execution_count": null,
   "metadata": {},
   "outputs": [],
   "source": [
    "[err for err in __builtins__.__dict__.keys() if 'Error' in err]"
   ]
  },
  {
   "cell_type": "markdown",
   "metadata": {},
   "source": [
    "## `try ... except ... else`"
   ]
  },
  {
   "cell_type": "markdown",
   "metadata": {},
   "source": [
    "### LBYL vs. EAFP\n",
    "\n",
    "#### **LBYL**: *Look Before You Leap*\n",
    "Försöker förutspå vad som kan gå fel och bygger logiska system med många `if ... else`-satser.\n",
    "\n",
    "#### **EAFP**: *Easier to Ask for Forgiveness than Permission*\n",
    "Förutsätter att allt är som det ska och hanterar *exceptions* med `try ... except` när de uppstår."
   ]
  },
  {
   "cell_type": "code",
   "execution_count": null,
   "metadata": {},
   "outputs": [],
   "source": [
    "a = 42\n",
    "b = '23'\n",
    "\n",
    "print(a + b)  # pyright: ignore[reportOperatorIssue]\n",
    "\n",
    "print('This is also important!')"
   ]
  },
  {
   "cell_type": "markdown",
   "metadata": {},
   "source": [
    "Vi kan tysta *exceptions* med `pass`."
   ]
  },
  {
   "cell_type": "code",
   "execution_count": null,
   "metadata": {},
   "outputs": [],
   "source": [
    "a = 42\n",
    "b = '23'\n",
    "\n",
    "try:\n",
    "    print(a + b)  # pyright: ignore[reportOperatorIssue]\n",
    "except:\n",
    "    pass  # Explicitly silenced\n",
    "\n",
    "print('This is also important!')"
   ]
  },
  {
   "cell_type": "markdown",
   "metadata": {},
   "source": [
    "Det viktiga är att vi vet vad vi håller på med. Oftast kommer en tystad *exception* tillbaka och biter oss senare."
   ]
  },
  {
   "cell_type": "code",
   "execution_count": 82,
   "metadata": {},
   "outputs": [],
   "source": [
    "a = 42\n",
    "b = '23'\n",
    "\n",
    "try:\n",
    "    s = a + b  # pyright: ignore[reportOperatorIssue]\n",
    "except:\n",
    "    pass  # Explicitly silenced"
   ]
  },
  {
   "cell_type": "code",
   "execution_count": null,
   "metadata": {},
   "outputs": [],
   "source": [
    "print(s)  # Variable is never defined"
   ]
  },
  {
   "cell_type": "code",
   "execution_count": null,
   "metadata": {},
   "outputs": [],
   "source": [
    "a = 42\n",
    "b = '23'\n",
    "\n",
    "try:\n",
    "    s = a + b  # pyright: ignore[reportOperatorIssue]\n",
    "except:\n",
    "    print('An exception occured!')\n",
    "else:\n",
    "    print(s)\n",
    "finally:\n",
    "    print('Hope it went well but this is executed either way.')\n",
    "\n",
    "# Other code"
   ]
  },
  {
   "cell_type": "code",
   "execution_count": null,
   "metadata": {},
   "outputs": [],
   "source": [
    "a = 42\n",
    "b = 23\n",
    "\n",
    "try:\n",
    "    s = a + b  # pyright: ignore[reportOperatorIssue]\n",
    "except:\n",
    "    print('An exception occured!')\n",
    "else:\n",
    "    print(s)\n",
    "finally:\n",
    "    print('Hope it went well but this is executed either way.')\n",
    "\n",
    "# Other code"
   ]
  },
  {
   "cell_type": "code",
   "execution_count": null,
   "metadata": {},
   "outputs": [],
   "source": [
    "a = 42\n",
    "b = '23'\n",
    "\n",
    "try:\n",
    "    print(a + b)  # pyright: ignore[reportOperatorIssue]\n",
    "except TypeError:\n",
    "    print(int(a) + int(b))\n",
    "except ValueError:\n",
    "    pass"
   ]
  },
  {
   "cell_type": "code",
   "execution_count": null,
   "metadata": {},
   "outputs": [],
   "source": [
    "a = 42\n",
    "b = 'tjugotre'\n",
    "\n",
    "try:\n",
    "    print(a + b)  # pyright: ignore[reportOperatorIssue]\n",
    "except TypeError:\n",
    "    print(int(a) + int(b))"
   ]
  },
  {
   "cell_type": "code",
   "execution_count": null,
   "metadata": {},
   "outputs": [],
   "source": [
    "a = 42\n",
    "b = 'tjugotre'\n",
    "\n",
    "try:\n",
    "    print(a + b)  # pyright: ignore[reportOperatorIssue]\n",
    "except TypeError:\n",
    "    try:\n",
    "        print(int(a) + int(b))\n",
    "    except ValueError as e:\n",
    "        print(e)\n",
    "        print('How do we handle this situation?')"
   ]
  },
  {
   "cell_type": "markdown",
   "metadata": {},
   "source": [
    "## Lyfta *exceptions* med `raise`"
   ]
  },
  {
   "cell_type": "markdown",
   "metadata": {},
   "source": [
    "Vi kan använda `isinstance` för att kolla om objektet vi hanterar är av en viss datatyp."
   ]
  },
  {
   "cell_type": "code",
   "execution_count": null,
   "metadata": {},
   "outputs": [],
   "source": [
    "a = 42\n",
    "if not isinstance(a, str):\n",
    "    raise TypeError(f'Object must be of type str but is of type {type(a)}')\n",
    "else:\n",
    "    print(a.upper())"
   ]
  },
  {
   "cell_type": "markdown",
   "metadata": {},
   "source": [
    "Eller motsvarande om man inte vill använda `not`:"
   ]
  },
  {
   "cell_type": "code",
   "execution_count": 96,
   "metadata": {},
   "outputs": [
    {
     "ename": "TypeError",
     "evalue": "Object must be of type str",
     "output_type": "error",
     "traceback": [
      "\u001b[0;31m---------------------------------------------------------------------------\u001b[0m",
      "\u001b[0;31mTypeError\u001b[0m                                 Traceback (most recent call last)",
      "Cell \u001b[0;32mIn[96], line 5\u001b[0m\n\u001b[1;32m      3\u001b[0m     \u001b[38;5;28mprint\u001b[39m(a\u001b[38;5;241m.\u001b[39mupper())\n\u001b[1;32m      4\u001b[0m \u001b[38;5;28;01melse\u001b[39;00m:\n\u001b[0;32m----> 5\u001b[0m     \u001b[38;5;28;01mraise\u001b[39;00m \u001b[38;5;167;01mTypeError\u001b[39;00m(\u001b[38;5;124m'\u001b[39m\u001b[38;5;124mObject must be of type str\u001b[39m\u001b[38;5;124m'\u001b[39m)\n",
      "\u001b[0;31mTypeError\u001b[0m: Object must be of type str"
     ]
    }
   ],
   "source": [
    "a = 42\n",
    "if isinstance(a, str):\n",
    "    print(a.upper())\n",
    "else:\n",
    "    raise TypeError('Object must be of type str')"
   ]
  },
  {
   "cell_type": "code",
   "execution_count": 97,
   "metadata": {},
   "outputs": [
    {
     "name": "stdout",
     "output_type": "stream",
     "text": [
      "FORTY-TWO\n"
     ]
    }
   ],
   "source": [
    "a = 'forty-two'\n",
    "if not isinstance(a, str):\n",
    "    raise TypeError('Object must be of type str')\n",
    "else:\n",
    "    print(a.upper())"
   ]
  },
  {
   "cell_type": "markdown",
   "metadata": {},
   "source": [
    "`hasattr` returnerar `True` om ett attribut finns på ett visst objekt. Vi ändrar typen av *exception* jämfört med exemplena ovan."
   ]
  },
  {
   "cell_type": "code",
   "execution_count": 98,
   "metadata": {},
   "outputs": [
    {
     "name": "stdout",
     "output_type": "stream",
     "text": [
      "FORTY-TWO\n"
     ]
    }
   ],
   "source": [
    "a = 'forty-two'\n",
    "if not hasattr(a, 'upper'):\n",
    "    raise AttributeError(\"Object must have attribute 'upper'\")\n",
    "else:\n",
    "    print(a.upper())"
   ]
  },
  {
   "cell_type": "code",
   "execution_count": 99,
   "metadata": {},
   "outputs": [
    {
     "ename": "AttributeError",
     "evalue": "Object must have attribute 'upper'",
     "output_type": "error",
     "traceback": [
      "\u001b[0;31m---------------------------------------------------------------------------\u001b[0m",
      "\u001b[0;31mAttributeError\u001b[0m                            Traceback (most recent call last)",
      "Cell \u001b[0;32mIn[99], line 3\u001b[0m\n\u001b[1;32m      1\u001b[0m b \u001b[38;5;241m=\u001b[39m \u001b[38;5;241m42\u001b[39m\n\u001b[1;32m      2\u001b[0m \u001b[38;5;28;01mif\u001b[39;00m \u001b[38;5;129;01mnot\u001b[39;00m \u001b[38;5;28mhasattr\u001b[39m(b, \u001b[38;5;124m'\u001b[39m\u001b[38;5;124mupper\u001b[39m\u001b[38;5;124m'\u001b[39m):\n\u001b[0;32m----> 3\u001b[0m     \u001b[38;5;28;01mraise\u001b[39;00m \u001b[38;5;167;01mAttributeError\u001b[39;00m(\u001b[38;5;124m\"\u001b[39m\u001b[38;5;124mObject must have attribute \u001b[39m\u001b[38;5;124m'\u001b[39m\u001b[38;5;124mupper\u001b[39m\u001b[38;5;124m'\u001b[39m\u001b[38;5;124m\"\u001b[39m)\n\u001b[1;32m      4\u001b[0m \u001b[38;5;28;01melse\u001b[39;00m:\n\u001b[1;32m      5\u001b[0m     \u001b[38;5;28mprint\u001b[39m(a\u001b[38;5;241m.\u001b[39mupper())\n",
      "\u001b[0;31mAttributeError\u001b[0m: Object must have attribute 'upper'"
     ]
    }
   ],
   "source": [
    "b = 42\n",
    "if not hasattr(b, 'upper'):\n",
    "    raise AttributeError(\"Object must have attribute 'upper'\")\n",
    "else:\n",
    "    print(a.upper())"
   ]
  },
  {
   "cell_type": "markdown",
   "metadata": {},
   "source": [
    "### Datatvätt med LBYL & EAFP\n"
   ]
  },
  {
   "cell_type": "markdown",
   "metadata": {},
   "source": [
    "\n",
    "Vi läser in ett dataset av lite sämre kvalitet.^[Jag kan ha råkat ha sönder lite data från SMHI. 🤷] Det är en lista av dictionaries med nycklarna `date` och `temp`.\n",
    "\n",
    "`date`-värdena beskriver datum i två olika format.\n",
    "\n",
    "En del `temp`-värden är  `None`, och dessutom är det blandat mellan `.` och `,` som decimalavgränsare.\n",
    "\n",
    "Vi ska här nedan se på två sätt att tvätta datan för att på sikt kunna göra ett linjediagram över temperaturerna."
   ]
  },
  {
   "cell_type": "code",
   "execution_count": 100,
   "metadata": {},
   "outputs": [
    {
     "data": {
      "text/plain": [
       "[{'date': '04/25/24', 'temp': '8.3'},\n",
       " {'date': '2024-04-26', 'temp': '8.1'},\n",
       " {'date': '2024-04-27', 'temp': '11.8'},\n",
       " {'date': '2024-04-28', 'temp': '17.6'},\n",
       " {'date': '04/29/24', 'temp': None},\n",
       " {'date': '2024-04-30', 'temp': '17,9'},\n",
       " {'date': '05/01/24', 'temp': '17.8'},\n",
       " {'date': '05/02/24', 'temp': '17.7'},\n",
       " {'date': '05/03/24', 'temp': '17.6'},\n",
       " {'date': '2024-05-04', 'temp': '16.1'},\n",
       " {'date': '05/05/24', 'temp': '16.9'},\n",
       " {'date': '2024-05-06', 'temp': '13.5'},\n",
       " {'date': '05/07/24', 'temp': '11,8'},\n",
       " {'date': '2024-05-08', 'temp': '14.3'},\n",
       " {'date': '2024-05-09', 'temp': None},\n",
       " {'date': '2024-05-10', 'temp': '13.2'},\n",
       " {'date': '2024-05-11', 'temp': '13.8'},\n",
       " {'date': '2024-05-12', 'temp': None},\n",
       " {'date': '05/13/24', 'temp': '17,3'},\n",
       " {'date': '05/14/24', 'temp': '19.9'},\n",
       " {'date': '2024-05-15', 'temp': '20.4'},\n",
       " {'date': '2024-05-16', 'temp': None},\n",
       " {'date': '2024-05-17', 'temp': None},\n",
       " {'date': '05/18/24', 'temp': '21.4'},\n",
       " {'date': '05/19/24', 'temp': '21.4'},\n",
       " {'date': '05/20/24', 'temp': '21.6'},\n",
       " {'date': '05/21/24', 'temp': None},\n",
       " {'date': '2024-05-22', 'temp': '21.6'},\n",
       " {'date': '05/23/24', 'temp': '18.7'},\n",
       " {'date': '2024-05-24', 'temp': None},\n",
       " {'date': '2024-05-25', 'temp': None},\n",
       " {'date': '2024-05-26', 'temp': '21.6'},\n",
       " {'date': '2024-05-27', 'temp': '20,4'},\n",
       " {'date': '05/28/24', 'temp': '20,0'},\n",
       " {'date': '2024-05-29', 'temp': '18,7'},\n",
       " {'date': '2024-05-30', 'temp': None},\n",
       " {'date': '2024-05-31', 'temp': '20.1'},\n",
       " {'date': '2024-06-01', 'temp': '25.2'},\n",
       " {'date': '2024-06-02', 'temp': '24.2'},\n",
       " {'date': '2024-06-03', 'temp': '16.5'},\n",
       " {'date': '2024-06-04', 'temp': None},\n",
       " {'date': '2024-06-05', 'temp': None},\n",
       " {'date': '2024-06-06', 'temp': '15.7'},\n",
       " {'date': '2024-06-07', 'temp': '14,4'},\n",
       " {'date': '2024-06-08', 'temp': '14.9'},\n",
       " {'date': '06/09/24', 'temp': '13.0'},\n",
       " {'date': '2024-06-10', 'temp': '15.6'},\n",
       " {'date': '06/11/24', 'temp': None},\n",
       " {'date': '06/12/24', 'temp': '13,3'},\n",
       " {'date': '06/13/24', 'temp': None},\n",
       " {'date': '06/14/24', 'temp': '16.8'},\n",
       " {'date': '2024-06-15', 'temp': '17.2'},\n",
       " {'date': '2024-06-16', 'temp': '19.9'},\n",
       " {'date': '2024-06-17', 'temp': '19.6'},\n",
       " {'date': '2024-06-18', 'temp': '18,8'},\n",
       " {'date': '06/19/24', 'temp': '15.6'},\n",
       " {'date': '06/20/24', 'temp': '18,7'},\n",
       " {'date': '06/21/24', 'temp': None},\n",
       " {'date': '06/22/24', 'temp': '17.1'},\n",
       " {'date': '06/23/24', 'temp': '16.3'},\n",
       " {'date': '2024-06-24', 'temp': '18.1'},\n",
       " {'date': '06/25/24', 'temp': '22.1'},\n",
       " {'date': '2024-06-26', 'temp': '25.1'},\n",
       " {'date': '06/27/24', 'temp': '27.2'},\n",
       " {'date': '2024-06-28', 'temp': '23,3'},\n",
       " {'date': '2024-06-29', 'temp': None},\n",
       " {'date': '06/30/24', 'temp': '17.3'},\n",
       " {'date': '2024-07-01', 'temp': '17.8'},\n",
       " {'date': '07/02/24', 'temp': '16.3'},\n",
       " {'date': '2024-07-03', 'temp': '16.2'},\n",
       " {'date': '07/04/24', 'temp': '15.8'},\n",
       " {'date': '2024-07-05', 'temp': None},\n",
       " {'date': '07/06/24', 'temp': '18.1'},\n",
       " {'date': '2024-07-07', 'temp': '16.9'},\n",
       " {'date': '2024-07-08', 'temp': '18.7'},\n",
       " {'date': '2024-07-09', 'temp': '19,1'},\n",
       " {'date': '2024-07-10', 'temp': '25.5'},\n",
       " {'date': '07/11/24', 'temp': '18.2'},\n",
       " {'date': '2024-07-12', 'temp': '21.1'},\n",
       " {'date': '07/13/24', 'temp': '16,5'},\n",
       " {'date': '2024-07-14', 'temp': '18.5'},\n",
       " {'date': '2024-07-15', 'temp': '20.4'},\n",
       " {'date': '2024-07-16', 'temp': '18.4'},\n",
       " {'date': '07/17/24', 'temp': None},\n",
       " {'date': '2024-07-18', 'temp': '20.1'},\n",
       " {'date': '07/19/24', 'temp': '21.5'},\n",
       " {'date': '07/20/24', 'temp': None},\n",
       " {'date': '2024-07-21', 'temp': '24.6'},\n",
       " {'date': '2024-07-22', 'temp': '21,1'},\n",
       " {'date': '07/23/24', 'temp': '20.6'},\n",
       " {'date': '2024-07-24', 'temp': '20,2'},\n",
       " {'date': '2024-07-25', 'temp': None},\n",
       " {'date': '2024-07-26', 'temp': None},\n",
       " {'date': '2024-07-27', 'temp': '19.0'},\n",
       " {'date': '07/28/24', 'temp': '20.7'},\n",
       " {'date': '2024-07-29', 'temp': '20,0'},\n",
       " {'date': '2024-07-30', 'temp': '20,7'},\n",
       " {'date': '2024-07-31', 'temp': '21,3'},\n",
       " {'date': '08/01/24', 'temp': '20.4'},\n",
       " {'date': '08/02/24', 'temp': '22.2'},\n",
       " {'date': '08/03/24', 'temp': '20.6'},\n",
       " {'date': '2024-08-04', 'temp': None},\n",
       " {'date': '2024-08-05', 'temp': '19.9'},\n",
       " {'date': '08/19/24', 'temp': None},\n",
       " {'date': '2024-08-20', 'temp': '21.7'},\n",
       " {'date': '2024-08-21', 'temp': '16.9'},\n",
       " {'date': '2024-08-22', 'temp': '16,3'},\n",
       " {'date': '08/23/24', 'temp': '19.8'},\n",
       " {'date': '2024-08-24', 'temp': '19.0'},\n",
       " {'date': '2024-08-25', 'temp': '17,3'},\n",
       " {'date': '2024-08-26', 'temp': '21.1'},\n",
       " {'date': '08/27/24', 'temp': '21,2'},\n",
       " {'date': '2024-08-28', 'temp': '23,7'},\n",
       " {'date': '2024-08-29', 'temp': None},\n",
       " {'date': '08/30/24', 'temp': '18,0'},\n",
       " {'date': '08/31/24', 'temp': '19,5'},\n",
       " {'date': '09/01/24', 'temp': '19.8'},\n",
       " {'date': '2024-09-02', 'temp': None}]"
      ]
     },
     "execution_count": 100,
     "metadata": {},
     "output_type": "execute_result"
    }
   ],
   "source": [
    "import json\n",
    "import pandas as pd\n",
    "\n",
    "temps = json.load(open('data/temps.json'))\n",
    "temps"
   ]
  },
  {
   "cell_type": "markdown",
   "metadata": {},
   "source": [
    "#### `date`"
   ]
  },
  {
   "cell_type": "code",
   "execution_count": 101,
   "metadata": {},
   "outputs": [
    {
     "data": {
      "text/plain": [
       "['2024', '09', '04']"
      ]
     },
     "execution_count": 101,
     "metadata": {},
     "output_type": "execute_result"
    }
   ],
   "source": [
    "'2024-09-04'.split('-')"
   ]
  },
  {
   "cell_type": "code",
   "execution_count": 102,
   "metadata": {},
   "outputs": [],
   "source": [
    "# Eftersom vi vet att det är två olika format lämpar sig LBYL bättre\n",
    "\n",
    "import datetime\n",
    "\n",
    "for row in temps:\n",
    "    if '-' in row['date']:  # Format YYYY-MM-DD\n",
    "        y, m, d = [int(x) for x in row['date'].split('-')]\n",
    "        new_date = datetime.date(y, m, d)\n",
    "    elif '/' in row['date']:  # Format MM/DD/YY\n",
    "        m, d, y = [int(x) for x in row['date'].split('/')]\n",
    "        new_date = datetime.date(2000 + y, m, d)  # Lägg till 2000 till året för att få 2024\n",
    "    else:\n",
    "        raise Exception(f'Could not parse date {row[\"date\"]}')  # Fånga eventuella undantag\n",
    "    row['date'] = new_date"
   ]
  },
  {
   "cell_type": "code",
   "execution_count": 103,
   "metadata": {},
   "outputs": [
    {
     "data": {
      "text/plain": [
       "[{'date': datetime.date(2024, 4, 25), 'temp': '8.3'},\n",
       " {'date': datetime.date(2024, 4, 26), 'temp': '8.1'},\n",
       " {'date': datetime.date(2024, 4, 27), 'temp': '11.8'},\n",
       " {'date': datetime.date(2024, 4, 28), 'temp': '17.6'},\n",
       " {'date': datetime.date(2024, 4, 29), 'temp': None},\n",
       " {'date': datetime.date(2024, 4, 30), 'temp': '17,9'},\n",
       " {'date': datetime.date(2024, 5, 1), 'temp': '17.8'},\n",
       " {'date': datetime.date(2024, 5, 2), 'temp': '17.7'},\n",
       " {'date': datetime.date(2024, 5, 3), 'temp': '17.6'},\n",
       " {'date': datetime.date(2024, 5, 4), 'temp': '16.1'},\n",
       " {'date': datetime.date(2024, 5, 5), 'temp': '16.9'},\n",
       " {'date': datetime.date(2024, 5, 6), 'temp': '13.5'},\n",
       " {'date': datetime.date(2024, 5, 7), 'temp': '11,8'},\n",
       " {'date': datetime.date(2024, 5, 8), 'temp': '14.3'},\n",
       " {'date': datetime.date(2024, 5, 9), 'temp': None},\n",
       " {'date': datetime.date(2024, 5, 10), 'temp': '13.2'},\n",
       " {'date': datetime.date(2024, 5, 11), 'temp': '13.8'},\n",
       " {'date': datetime.date(2024, 5, 12), 'temp': None},\n",
       " {'date': datetime.date(2024, 5, 13), 'temp': '17,3'},\n",
       " {'date': datetime.date(2024, 5, 14), 'temp': '19.9'},\n",
       " {'date': datetime.date(2024, 5, 15), 'temp': '20.4'},\n",
       " {'date': datetime.date(2024, 5, 16), 'temp': None},\n",
       " {'date': datetime.date(2024, 5, 17), 'temp': None},\n",
       " {'date': datetime.date(2024, 5, 18), 'temp': '21.4'},\n",
       " {'date': datetime.date(2024, 5, 19), 'temp': '21.4'},\n",
       " {'date': datetime.date(2024, 5, 20), 'temp': '21.6'},\n",
       " {'date': datetime.date(2024, 5, 21), 'temp': None},\n",
       " {'date': datetime.date(2024, 5, 22), 'temp': '21.6'},\n",
       " {'date': datetime.date(2024, 5, 23), 'temp': '18.7'},\n",
       " {'date': datetime.date(2024, 5, 24), 'temp': None},\n",
       " {'date': datetime.date(2024, 5, 25), 'temp': None},\n",
       " {'date': datetime.date(2024, 5, 26), 'temp': '21.6'},\n",
       " {'date': datetime.date(2024, 5, 27), 'temp': '20,4'},\n",
       " {'date': datetime.date(2024, 5, 28), 'temp': '20,0'},\n",
       " {'date': datetime.date(2024, 5, 29), 'temp': '18,7'},\n",
       " {'date': datetime.date(2024, 5, 30), 'temp': None},\n",
       " {'date': datetime.date(2024, 5, 31), 'temp': '20.1'},\n",
       " {'date': datetime.date(2024, 6, 1), 'temp': '25.2'},\n",
       " {'date': datetime.date(2024, 6, 2), 'temp': '24.2'},\n",
       " {'date': datetime.date(2024, 6, 3), 'temp': '16.5'},\n",
       " {'date': datetime.date(2024, 6, 4), 'temp': None},\n",
       " {'date': datetime.date(2024, 6, 5), 'temp': None},\n",
       " {'date': datetime.date(2024, 6, 6), 'temp': '15.7'},\n",
       " {'date': datetime.date(2024, 6, 7), 'temp': '14,4'},\n",
       " {'date': datetime.date(2024, 6, 8), 'temp': '14.9'},\n",
       " {'date': datetime.date(2024, 6, 9), 'temp': '13.0'},\n",
       " {'date': datetime.date(2024, 6, 10), 'temp': '15.6'},\n",
       " {'date': datetime.date(2024, 6, 11), 'temp': None},\n",
       " {'date': datetime.date(2024, 6, 12), 'temp': '13,3'},\n",
       " {'date': datetime.date(2024, 6, 13), 'temp': None},\n",
       " {'date': datetime.date(2024, 6, 14), 'temp': '16.8'},\n",
       " {'date': datetime.date(2024, 6, 15), 'temp': '17.2'},\n",
       " {'date': datetime.date(2024, 6, 16), 'temp': '19.9'},\n",
       " {'date': datetime.date(2024, 6, 17), 'temp': '19.6'},\n",
       " {'date': datetime.date(2024, 6, 18), 'temp': '18,8'},\n",
       " {'date': datetime.date(2024, 6, 19), 'temp': '15.6'},\n",
       " {'date': datetime.date(2024, 6, 20), 'temp': '18,7'},\n",
       " {'date': datetime.date(2024, 6, 21), 'temp': None},\n",
       " {'date': datetime.date(2024, 6, 22), 'temp': '17.1'},\n",
       " {'date': datetime.date(2024, 6, 23), 'temp': '16.3'},\n",
       " {'date': datetime.date(2024, 6, 24), 'temp': '18.1'},\n",
       " {'date': datetime.date(2024, 6, 25), 'temp': '22.1'},\n",
       " {'date': datetime.date(2024, 6, 26), 'temp': '25.1'},\n",
       " {'date': datetime.date(2024, 6, 27), 'temp': '27.2'},\n",
       " {'date': datetime.date(2024, 6, 28), 'temp': '23,3'},\n",
       " {'date': datetime.date(2024, 6, 29), 'temp': None},\n",
       " {'date': datetime.date(2024, 6, 30), 'temp': '17.3'},\n",
       " {'date': datetime.date(2024, 7, 1), 'temp': '17.8'},\n",
       " {'date': datetime.date(2024, 7, 2), 'temp': '16.3'},\n",
       " {'date': datetime.date(2024, 7, 3), 'temp': '16.2'},\n",
       " {'date': datetime.date(2024, 7, 4), 'temp': '15.8'},\n",
       " {'date': datetime.date(2024, 7, 5), 'temp': None},\n",
       " {'date': datetime.date(2024, 7, 6), 'temp': '18.1'},\n",
       " {'date': datetime.date(2024, 7, 7), 'temp': '16.9'},\n",
       " {'date': datetime.date(2024, 7, 8), 'temp': '18.7'},\n",
       " {'date': datetime.date(2024, 7, 9), 'temp': '19,1'},\n",
       " {'date': datetime.date(2024, 7, 10), 'temp': '25.5'},\n",
       " {'date': datetime.date(2024, 7, 11), 'temp': '18.2'},\n",
       " {'date': datetime.date(2024, 7, 12), 'temp': '21.1'},\n",
       " {'date': datetime.date(2024, 7, 13), 'temp': '16,5'},\n",
       " {'date': datetime.date(2024, 7, 14), 'temp': '18.5'},\n",
       " {'date': datetime.date(2024, 7, 15), 'temp': '20.4'},\n",
       " {'date': datetime.date(2024, 7, 16), 'temp': '18.4'},\n",
       " {'date': datetime.date(2024, 7, 17), 'temp': None},\n",
       " {'date': datetime.date(2024, 7, 18), 'temp': '20.1'},\n",
       " {'date': datetime.date(2024, 7, 19), 'temp': '21.5'},\n",
       " {'date': datetime.date(2024, 7, 20), 'temp': None},\n",
       " {'date': datetime.date(2024, 7, 21), 'temp': '24.6'},\n",
       " {'date': datetime.date(2024, 7, 22), 'temp': '21,1'},\n",
       " {'date': datetime.date(2024, 7, 23), 'temp': '20.6'},\n",
       " {'date': datetime.date(2024, 7, 24), 'temp': '20,2'},\n",
       " {'date': datetime.date(2024, 7, 25), 'temp': None},\n",
       " {'date': datetime.date(2024, 7, 26), 'temp': None},\n",
       " {'date': datetime.date(2024, 7, 27), 'temp': '19.0'},\n",
       " {'date': datetime.date(2024, 7, 28), 'temp': '20.7'},\n",
       " {'date': datetime.date(2024, 7, 29), 'temp': '20,0'},\n",
       " {'date': datetime.date(2024, 7, 30), 'temp': '20,7'},\n",
       " {'date': datetime.date(2024, 7, 31), 'temp': '21,3'},\n",
       " {'date': datetime.date(2024, 8, 1), 'temp': '20.4'},\n",
       " {'date': datetime.date(2024, 8, 2), 'temp': '22.2'},\n",
       " {'date': datetime.date(2024, 8, 3), 'temp': '20.6'},\n",
       " {'date': datetime.date(2024, 8, 4), 'temp': None},\n",
       " {'date': datetime.date(2024, 8, 5), 'temp': '19.9'},\n",
       " {'date': datetime.date(2024, 8, 19), 'temp': None},\n",
       " {'date': datetime.date(2024, 8, 20), 'temp': '21.7'},\n",
       " {'date': datetime.date(2024, 8, 21), 'temp': '16.9'},\n",
       " {'date': datetime.date(2024, 8, 22), 'temp': '16,3'},\n",
       " {'date': datetime.date(2024, 8, 23), 'temp': '19.8'},\n",
       " {'date': datetime.date(2024, 8, 24), 'temp': '19.0'},\n",
       " {'date': datetime.date(2024, 8, 25), 'temp': '17,3'},\n",
       " {'date': datetime.date(2024, 8, 26), 'temp': '21.1'},\n",
       " {'date': datetime.date(2024, 8, 27), 'temp': '21,2'},\n",
       " {'date': datetime.date(2024, 8, 28), 'temp': '23,7'},\n",
       " {'date': datetime.date(2024, 8, 29), 'temp': None},\n",
       " {'date': datetime.date(2024, 8, 30), 'temp': '18,0'},\n",
       " {'date': datetime.date(2024, 8, 31), 'temp': '19,5'},\n",
       " {'date': datetime.date(2024, 9, 1), 'temp': '19.8'},\n",
       " {'date': datetime.date(2024, 9, 2), 'temp': None}]"
      ]
     },
     "execution_count": 103,
     "metadata": {},
     "output_type": "execute_result"
    }
   ],
   "source": [
    "temps"
   ]
  },
  {
   "cell_type": "markdown",
   "metadata": {},
   "source": [
    "#### `temp`"
   ]
  },
  {
   "cell_type": "code",
   "execution_count": 104,
   "metadata": {},
   "outputs": [
    {
     "data": {
      "text/plain": [
       "17.9"
      ]
     },
     "execution_count": 104,
     "metadata": {},
     "output_type": "execute_result"
    }
   ],
   "source": [
    "float('17,9'.replace(',', '.'))"
   ]
  },
  {
   "cell_type": "code",
   "execution_count": 105,
   "metadata": {},
   "outputs": [
    {
     "data": {
      "text/plain": [
       "[{'date': datetime.date(2024, 4, 25), 'temp': '8.3'},\n",
       " {'date': datetime.date(2024, 4, 26), 'temp': '8.1'},\n",
       " {'date': datetime.date(2024, 4, 27), 'temp': '11.8'},\n",
       " {'date': datetime.date(2024, 4, 28), 'temp': '17.6'},\n",
       " {'date': datetime.date(2024, 4, 29), 'temp': None},\n",
       " {'date': datetime.date(2024, 4, 30), 'temp': '17,9'},\n",
       " {'date': datetime.date(2024, 5, 1), 'temp': '17.8'},\n",
       " {'date': datetime.date(2024, 5, 2), 'temp': '17.7'},\n",
       " {'date': datetime.date(2024, 5, 3), 'temp': '17.6'},\n",
       " {'date': datetime.date(2024, 5, 4), 'temp': '16.1'},\n",
       " {'date': datetime.date(2024, 5, 5), 'temp': '16.9'},\n",
       " {'date': datetime.date(2024, 5, 6), 'temp': '13.5'},\n",
       " {'date': datetime.date(2024, 5, 7), 'temp': '11,8'},\n",
       " {'date': datetime.date(2024, 5, 8), 'temp': '14.3'},\n",
       " {'date': datetime.date(2024, 5, 9), 'temp': None},\n",
       " {'date': datetime.date(2024, 5, 10), 'temp': '13.2'},\n",
       " {'date': datetime.date(2024, 5, 11), 'temp': '13.8'},\n",
       " {'date': datetime.date(2024, 5, 12), 'temp': None},\n",
       " {'date': datetime.date(2024, 5, 13), 'temp': '17,3'},\n",
       " {'date': datetime.date(2024, 5, 14), 'temp': '19.9'},\n",
       " {'date': datetime.date(2024, 5, 15), 'temp': '20.4'},\n",
       " {'date': datetime.date(2024, 5, 16), 'temp': None},\n",
       " {'date': datetime.date(2024, 5, 17), 'temp': None},\n",
       " {'date': datetime.date(2024, 5, 18), 'temp': '21.4'},\n",
       " {'date': datetime.date(2024, 5, 19), 'temp': '21.4'},\n",
       " {'date': datetime.date(2024, 5, 20), 'temp': '21.6'},\n",
       " {'date': datetime.date(2024, 5, 21), 'temp': None},\n",
       " {'date': datetime.date(2024, 5, 22), 'temp': '21.6'},\n",
       " {'date': datetime.date(2024, 5, 23), 'temp': '18.7'},\n",
       " {'date': datetime.date(2024, 5, 24), 'temp': None},\n",
       " {'date': datetime.date(2024, 5, 25), 'temp': None},\n",
       " {'date': datetime.date(2024, 5, 26), 'temp': '21.6'},\n",
       " {'date': datetime.date(2024, 5, 27), 'temp': '20,4'},\n",
       " {'date': datetime.date(2024, 5, 28), 'temp': '20,0'},\n",
       " {'date': datetime.date(2024, 5, 29), 'temp': '18,7'},\n",
       " {'date': datetime.date(2024, 5, 30), 'temp': None},\n",
       " {'date': datetime.date(2024, 5, 31), 'temp': '20.1'},\n",
       " {'date': datetime.date(2024, 6, 1), 'temp': '25.2'},\n",
       " {'date': datetime.date(2024, 6, 2), 'temp': '24.2'},\n",
       " {'date': datetime.date(2024, 6, 3), 'temp': '16.5'},\n",
       " {'date': datetime.date(2024, 6, 4), 'temp': None},\n",
       " {'date': datetime.date(2024, 6, 5), 'temp': None},\n",
       " {'date': datetime.date(2024, 6, 6), 'temp': '15.7'},\n",
       " {'date': datetime.date(2024, 6, 7), 'temp': '14,4'},\n",
       " {'date': datetime.date(2024, 6, 8), 'temp': '14.9'},\n",
       " {'date': datetime.date(2024, 6, 9), 'temp': '13.0'},\n",
       " {'date': datetime.date(2024, 6, 10), 'temp': '15.6'},\n",
       " {'date': datetime.date(2024, 6, 11), 'temp': None},\n",
       " {'date': datetime.date(2024, 6, 12), 'temp': '13,3'},\n",
       " {'date': datetime.date(2024, 6, 13), 'temp': None},\n",
       " {'date': datetime.date(2024, 6, 14), 'temp': '16.8'},\n",
       " {'date': datetime.date(2024, 6, 15), 'temp': '17.2'},\n",
       " {'date': datetime.date(2024, 6, 16), 'temp': '19.9'},\n",
       " {'date': datetime.date(2024, 6, 17), 'temp': '19.6'},\n",
       " {'date': datetime.date(2024, 6, 18), 'temp': '18,8'},\n",
       " {'date': datetime.date(2024, 6, 19), 'temp': '15.6'},\n",
       " {'date': datetime.date(2024, 6, 20), 'temp': '18,7'},\n",
       " {'date': datetime.date(2024, 6, 21), 'temp': None},\n",
       " {'date': datetime.date(2024, 6, 22), 'temp': '17.1'},\n",
       " {'date': datetime.date(2024, 6, 23), 'temp': '16.3'},\n",
       " {'date': datetime.date(2024, 6, 24), 'temp': '18.1'},\n",
       " {'date': datetime.date(2024, 6, 25), 'temp': '22.1'},\n",
       " {'date': datetime.date(2024, 6, 26), 'temp': '25.1'},\n",
       " {'date': datetime.date(2024, 6, 27), 'temp': '27.2'},\n",
       " {'date': datetime.date(2024, 6, 28), 'temp': '23,3'},\n",
       " {'date': datetime.date(2024, 6, 29), 'temp': None},\n",
       " {'date': datetime.date(2024, 6, 30), 'temp': '17.3'},\n",
       " {'date': datetime.date(2024, 7, 1), 'temp': '17.8'},\n",
       " {'date': datetime.date(2024, 7, 2), 'temp': '16.3'},\n",
       " {'date': datetime.date(2024, 7, 3), 'temp': '16.2'},\n",
       " {'date': datetime.date(2024, 7, 4), 'temp': '15.8'},\n",
       " {'date': datetime.date(2024, 7, 5), 'temp': None},\n",
       " {'date': datetime.date(2024, 7, 6), 'temp': '18.1'},\n",
       " {'date': datetime.date(2024, 7, 7), 'temp': '16.9'},\n",
       " {'date': datetime.date(2024, 7, 8), 'temp': '18.7'},\n",
       " {'date': datetime.date(2024, 7, 9), 'temp': '19,1'},\n",
       " {'date': datetime.date(2024, 7, 10), 'temp': '25.5'},\n",
       " {'date': datetime.date(2024, 7, 11), 'temp': '18.2'},\n",
       " {'date': datetime.date(2024, 7, 12), 'temp': '21.1'},\n",
       " {'date': datetime.date(2024, 7, 13), 'temp': '16,5'},\n",
       " {'date': datetime.date(2024, 7, 14), 'temp': '18.5'},\n",
       " {'date': datetime.date(2024, 7, 15), 'temp': '20.4'},\n",
       " {'date': datetime.date(2024, 7, 16), 'temp': '18.4'},\n",
       " {'date': datetime.date(2024, 7, 17), 'temp': None},\n",
       " {'date': datetime.date(2024, 7, 18), 'temp': '20.1'},\n",
       " {'date': datetime.date(2024, 7, 19), 'temp': '21.5'},\n",
       " {'date': datetime.date(2024, 7, 20), 'temp': None},\n",
       " {'date': datetime.date(2024, 7, 21), 'temp': '24.6'},\n",
       " {'date': datetime.date(2024, 7, 22), 'temp': '21,1'},\n",
       " {'date': datetime.date(2024, 7, 23), 'temp': '20.6'},\n",
       " {'date': datetime.date(2024, 7, 24), 'temp': '20,2'},\n",
       " {'date': datetime.date(2024, 7, 25), 'temp': None},\n",
       " {'date': datetime.date(2024, 7, 26), 'temp': None},\n",
       " {'date': datetime.date(2024, 7, 27), 'temp': '19.0'},\n",
       " {'date': datetime.date(2024, 7, 28), 'temp': '20.7'},\n",
       " {'date': datetime.date(2024, 7, 29), 'temp': '20,0'},\n",
       " {'date': datetime.date(2024, 7, 30), 'temp': '20,7'},\n",
       " {'date': datetime.date(2024, 7, 31), 'temp': '21,3'},\n",
       " {'date': datetime.date(2024, 8, 1), 'temp': '20.4'},\n",
       " {'date': datetime.date(2024, 8, 2), 'temp': '22.2'},\n",
       " {'date': datetime.date(2024, 8, 3), 'temp': '20.6'},\n",
       " {'date': datetime.date(2024, 8, 4), 'temp': None},\n",
       " {'date': datetime.date(2024, 8, 5), 'temp': '19.9'},\n",
       " {'date': datetime.date(2024, 8, 19), 'temp': None},\n",
       " {'date': datetime.date(2024, 8, 20), 'temp': '21.7'},\n",
       " {'date': datetime.date(2024, 8, 21), 'temp': '16.9'},\n",
       " {'date': datetime.date(2024, 8, 22), 'temp': '16,3'},\n",
       " {'date': datetime.date(2024, 8, 23), 'temp': '19.8'},\n",
       " {'date': datetime.date(2024, 8, 24), 'temp': '19.0'},\n",
       " {'date': datetime.date(2024, 8, 25), 'temp': '17,3'},\n",
       " {'date': datetime.date(2024, 8, 26), 'temp': '21.1'},\n",
       " {'date': datetime.date(2024, 8, 27), 'temp': '21,2'},\n",
       " {'date': datetime.date(2024, 8, 28), 'temp': '23,7'},\n",
       " {'date': datetime.date(2024, 8, 29), 'temp': None},\n",
       " {'date': datetime.date(2024, 8, 30), 'temp': '18,0'},\n",
       " {'date': datetime.date(2024, 8, 31), 'temp': '19,5'},\n",
       " {'date': datetime.date(2024, 9, 1), 'temp': '19.8'},\n",
       " {'date': datetime.date(2024, 9, 2), 'temp': None}]"
      ]
     },
     "execution_count": 105,
     "metadata": {},
     "output_type": "execute_result"
    }
   ],
   "source": [
    "temps"
   ]
  },
  {
   "cell_type": "code",
   "execution_count": 106,
   "metadata": {},
   "outputs": [],
   "source": [
    "# Här är det bättre med EAFP\n",
    "\n",
    "for row in temps:\n",
    "    try:\n",
    "        new_temp = float(row['temp'])\n",
    "    except TypeError:  # Om värdet är None får vi ett TypeError\n",
    "        new_temp = pd.NA\n",
    "    except ValueError:  # Om decimalavgränsaren är ett , får vi ett ValueError\n",
    "        new_temp = float(row['temp'].replace(',', '.'))\n",
    "    except Exception as e:  # Fånga eventuella andra exceptions, lyft dem just nu\n",
    "        raise e\n",
    "    \n",
    "    row['temp'] = new_temp"
   ]
  },
  {
   "cell_type": "code",
   "execution_count": 107,
   "metadata": {},
   "outputs": [
    {
     "data": {
      "text/plain": [
       "[{'date': datetime.date(2024, 4, 25), 'temp': 8.3},\n",
       " {'date': datetime.date(2024, 4, 26), 'temp': 8.1},\n",
       " {'date': datetime.date(2024, 4, 27), 'temp': 11.8},\n",
       " {'date': datetime.date(2024, 4, 28), 'temp': 17.6},\n",
       " {'date': datetime.date(2024, 4, 29), 'temp': <NA>},\n",
       " {'date': datetime.date(2024, 4, 30), 'temp': 17.9},\n",
       " {'date': datetime.date(2024, 5, 1), 'temp': 17.8},\n",
       " {'date': datetime.date(2024, 5, 2), 'temp': 17.7},\n",
       " {'date': datetime.date(2024, 5, 3), 'temp': 17.6},\n",
       " {'date': datetime.date(2024, 5, 4), 'temp': 16.1},\n",
       " {'date': datetime.date(2024, 5, 5), 'temp': 16.9},\n",
       " {'date': datetime.date(2024, 5, 6), 'temp': 13.5},\n",
       " {'date': datetime.date(2024, 5, 7), 'temp': 11.8},\n",
       " {'date': datetime.date(2024, 5, 8), 'temp': 14.3},\n",
       " {'date': datetime.date(2024, 5, 9), 'temp': <NA>},\n",
       " {'date': datetime.date(2024, 5, 10), 'temp': 13.2},\n",
       " {'date': datetime.date(2024, 5, 11), 'temp': 13.8},\n",
       " {'date': datetime.date(2024, 5, 12), 'temp': <NA>},\n",
       " {'date': datetime.date(2024, 5, 13), 'temp': 17.3},\n",
       " {'date': datetime.date(2024, 5, 14), 'temp': 19.9},\n",
       " {'date': datetime.date(2024, 5, 15), 'temp': 20.4},\n",
       " {'date': datetime.date(2024, 5, 16), 'temp': <NA>},\n",
       " {'date': datetime.date(2024, 5, 17), 'temp': <NA>},\n",
       " {'date': datetime.date(2024, 5, 18), 'temp': 21.4},\n",
       " {'date': datetime.date(2024, 5, 19), 'temp': 21.4},\n",
       " {'date': datetime.date(2024, 5, 20), 'temp': 21.6},\n",
       " {'date': datetime.date(2024, 5, 21), 'temp': <NA>},\n",
       " {'date': datetime.date(2024, 5, 22), 'temp': 21.6},\n",
       " {'date': datetime.date(2024, 5, 23), 'temp': 18.7},\n",
       " {'date': datetime.date(2024, 5, 24), 'temp': <NA>},\n",
       " {'date': datetime.date(2024, 5, 25), 'temp': <NA>},\n",
       " {'date': datetime.date(2024, 5, 26), 'temp': 21.6},\n",
       " {'date': datetime.date(2024, 5, 27), 'temp': 20.4},\n",
       " {'date': datetime.date(2024, 5, 28), 'temp': 20.0},\n",
       " {'date': datetime.date(2024, 5, 29), 'temp': 18.7},\n",
       " {'date': datetime.date(2024, 5, 30), 'temp': <NA>},\n",
       " {'date': datetime.date(2024, 5, 31), 'temp': 20.1},\n",
       " {'date': datetime.date(2024, 6, 1), 'temp': 25.2},\n",
       " {'date': datetime.date(2024, 6, 2), 'temp': 24.2},\n",
       " {'date': datetime.date(2024, 6, 3), 'temp': 16.5},\n",
       " {'date': datetime.date(2024, 6, 4), 'temp': <NA>},\n",
       " {'date': datetime.date(2024, 6, 5), 'temp': <NA>},\n",
       " {'date': datetime.date(2024, 6, 6), 'temp': 15.7},\n",
       " {'date': datetime.date(2024, 6, 7), 'temp': 14.4},\n",
       " {'date': datetime.date(2024, 6, 8), 'temp': 14.9},\n",
       " {'date': datetime.date(2024, 6, 9), 'temp': 13.0},\n",
       " {'date': datetime.date(2024, 6, 10), 'temp': 15.6},\n",
       " {'date': datetime.date(2024, 6, 11), 'temp': <NA>},\n",
       " {'date': datetime.date(2024, 6, 12), 'temp': 13.3},\n",
       " {'date': datetime.date(2024, 6, 13), 'temp': <NA>},\n",
       " {'date': datetime.date(2024, 6, 14), 'temp': 16.8},\n",
       " {'date': datetime.date(2024, 6, 15), 'temp': 17.2},\n",
       " {'date': datetime.date(2024, 6, 16), 'temp': 19.9},\n",
       " {'date': datetime.date(2024, 6, 17), 'temp': 19.6},\n",
       " {'date': datetime.date(2024, 6, 18), 'temp': 18.8},\n",
       " {'date': datetime.date(2024, 6, 19), 'temp': 15.6},\n",
       " {'date': datetime.date(2024, 6, 20), 'temp': 18.7},\n",
       " {'date': datetime.date(2024, 6, 21), 'temp': <NA>},\n",
       " {'date': datetime.date(2024, 6, 22), 'temp': 17.1},\n",
       " {'date': datetime.date(2024, 6, 23), 'temp': 16.3},\n",
       " {'date': datetime.date(2024, 6, 24), 'temp': 18.1},\n",
       " {'date': datetime.date(2024, 6, 25), 'temp': 22.1},\n",
       " {'date': datetime.date(2024, 6, 26), 'temp': 25.1},\n",
       " {'date': datetime.date(2024, 6, 27), 'temp': 27.2},\n",
       " {'date': datetime.date(2024, 6, 28), 'temp': 23.3},\n",
       " {'date': datetime.date(2024, 6, 29), 'temp': <NA>},\n",
       " {'date': datetime.date(2024, 6, 30), 'temp': 17.3},\n",
       " {'date': datetime.date(2024, 7, 1), 'temp': 17.8},\n",
       " {'date': datetime.date(2024, 7, 2), 'temp': 16.3},\n",
       " {'date': datetime.date(2024, 7, 3), 'temp': 16.2},\n",
       " {'date': datetime.date(2024, 7, 4), 'temp': 15.8},\n",
       " {'date': datetime.date(2024, 7, 5), 'temp': <NA>},\n",
       " {'date': datetime.date(2024, 7, 6), 'temp': 18.1},\n",
       " {'date': datetime.date(2024, 7, 7), 'temp': 16.9},\n",
       " {'date': datetime.date(2024, 7, 8), 'temp': 18.7},\n",
       " {'date': datetime.date(2024, 7, 9), 'temp': 19.1},\n",
       " {'date': datetime.date(2024, 7, 10), 'temp': 25.5},\n",
       " {'date': datetime.date(2024, 7, 11), 'temp': 18.2},\n",
       " {'date': datetime.date(2024, 7, 12), 'temp': 21.1},\n",
       " {'date': datetime.date(2024, 7, 13), 'temp': 16.5},\n",
       " {'date': datetime.date(2024, 7, 14), 'temp': 18.5},\n",
       " {'date': datetime.date(2024, 7, 15), 'temp': 20.4},\n",
       " {'date': datetime.date(2024, 7, 16), 'temp': 18.4},\n",
       " {'date': datetime.date(2024, 7, 17), 'temp': <NA>},\n",
       " {'date': datetime.date(2024, 7, 18), 'temp': 20.1},\n",
       " {'date': datetime.date(2024, 7, 19), 'temp': 21.5},\n",
       " {'date': datetime.date(2024, 7, 20), 'temp': <NA>},\n",
       " {'date': datetime.date(2024, 7, 21), 'temp': 24.6},\n",
       " {'date': datetime.date(2024, 7, 22), 'temp': 21.1},\n",
       " {'date': datetime.date(2024, 7, 23), 'temp': 20.6},\n",
       " {'date': datetime.date(2024, 7, 24), 'temp': 20.2},\n",
       " {'date': datetime.date(2024, 7, 25), 'temp': <NA>},\n",
       " {'date': datetime.date(2024, 7, 26), 'temp': <NA>},\n",
       " {'date': datetime.date(2024, 7, 27), 'temp': 19.0},\n",
       " {'date': datetime.date(2024, 7, 28), 'temp': 20.7},\n",
       " {'date': datetime.date(2024, 7, 29), 'temp': 20.0},\n",
       " {'date': datetime.date(2024, 7, 30), 'temp': 20.7},\n",
       " {'date': datetime.date(2024, 7, 31), 'temp': 21.3},\n",
       " {'date': datetime.date(2024, 8, 1), 'temp': 20.4},\n",
       " {'date': datetime.date(2024, 8, 2), 'temp': 22.2},\n",
       " {'date': datetime.date(2024, 8, 3), 'temp': 20.6},\n",
       " {'date': datetime.date(2024, 8, 4), 'temp': <NA>},\n",
       " {'date': datetime.date(2024, 8, 5), 'temp': 19.9},\n",
       " {'date': datetime.date(2024, 8, 19), 'temp': <NA>},\n",
       " {'date': datetime.date(2024, 8, 20), 'temp': 21.7},\n",
       " {'date': datetime.date(2024, 8, 21), 'temp': 16.9},\n",
       " {'date': datetime.date(2024, 8, 22), 'temp': 16.3},\n",
       " {'date': datetime.date(2024, 8, 23), 'temp': 19.8},\n",
       " {'date': datetime.date(2024, 8, 24), 'temp': 19.0},\n",
       " {'date': datetime.date(2024, 8, 25), 'temp': 17.3},\n",
       " {'date': datetime.date(2024, 8, 26), 'temp': 21.1},\n",
       " {'date': datetime.date(2024, 8, 27), 'temp': 21.2},\n",
       " {'date': datetime.date(2024, 8, 28), 'temp': 23.7},\n",
       " {'date': datetime.date(2024, 8, 29), 'temp': <NA>},\n",
       " {'date': datetime.date(2024, 8, 30), 'temp': 18.0},\n",
       " {'date': datetime.date(2024, 8, 31), 'temp': 19.5},\n",
       " {'date': datetime.date(2024, 9, 1), 'temp': 19.8},\n",
       " {'date': datetime.date(2024, 9, 2), 'temp': <NA>}]"
      ]
     },
     "execution_count": 107,
     "metadata": {},
     "output_type": "execute_result"
    }
   ],
   "source": [
    "temps"
   ]
  },
  {
   "cell_type": "code",
   "execution_count": 108,
   "metadata": {},
   "outputs": [],
   "source": [
    "df = pd.DataFrame(data=temps)\n"
   ]
  },
  {
   "cell_type": "code",
   "execution_count": 109,
   "metadata": {},
   "outputs": [
    {
     "data": {
      "text/html": [
       "<div>\n",
       "<style scoped>\n",
       "    .dataframe tbody tr th:only-of-type {\n",
       "        vertical-align: middle;\n",
       "    }\n",
       "\n",
       "    .dataframe tbody tr th {\n",
       "        vertical-align: top;\n",
       "    }\n",
       "\n",
       "    .dataframe thead th {\n",
       "        text-align: right;\n",
       "    }\n",
       "</style>\n",
       "<table border=\"1\" class=\"dataframe\">\n",
       "  <thead>\n",
       "    <tr style=\"text-align: right;\">\n",
       "      <th></th>\n",
       "      <th>date</th>\n",
       "      <th>temp</th>\n",
       "    </tr>\n",
       "  </thead>\n",
       "  <tbody>\n",
       "    <tr>\n",
       "      <th>0</th>\n",
       "      <td>2024-04-25</td>\n",
       "      <td>8.3</td>\n",
       "    </tr>\n",
       "    <tr>\n",
       "      <th>1</th>\n",
       "      <td>2024-04-26</td>\n",
       "      <td>8.1</td>\n",
       "    </tr>\n",
       "    <tr>\n",
       "      <th>2</th>\n",
       "      <td>2024-04-27</td>\n",
       "      <td>11.8</td>\n",
       "    </tr>\n",
       "    <tr>\n",
       "      <th>3</th>\n",
       "      <td>2024-04-28</td>\n",
       "      <td>17.6</td>\n",
       "    </tr>\n",
       "    <tr>\n",
       "      <th>4</th>\n",
       "      <td>2024-04-29</td>\n",
       "      <td>&lt;NA&gt;</td>\n",
       "    </tr>\n",
       "    <tr>\n",
       "      <th>...</th>\n",
       "      <td>...</td>\n",
       "      <td>...</td>\n",
       "    </tr>\n",
       "    <tr>\n",
       "      <th>113</th>\n",
       "      <td>2024-08-29</td>\n",
       "      <td>&lt;NA&gt;</td>\n",
       "    </tr>\n",
       "    <tr>\n",
       "      <th>114</th>\n",
       "      <td>2024-08-30</td>\n",
       "      <td>18.0</td>\n",
       "    </tr>\n",
       "    <tr>\n",
       "      <th>115</th>\n",
       "      <td>2024-08-31</td>\n",
       "      <td>19.5</td>\n",
       "    </tr>\n",
       "    <tr>\n",
       "      <th>116</th>\n",
       "      <td>2024-09-01</td>\n",
       "      <td>19.8</td>\n",
       "    </tr>\n",
       "    <tr>\n",
       "      <th>117</th>\n",
       "      <td>2024-09-02</td>\n",
       "      <td>&lt;NA&gt;</td>\n",
       "    </tr>\n",
       "  </tbody>\n",
       "</table>\n",
       "<p>118 rows × 2 columns</p>\n",
       "</div>"
      ],
      "text/plain": [
       "           date  temp\n",
       "0    2024-04-25   8.3\n",
       "1    2024-04-26   8.1\n",
       "2    2024-04-27  11.8\n",
       "3    2024-04-28  17.6\n",
       "4    2024-04-29  <NA>\n",
       "..          ...   ...\n",
       "113  2024-08-29  <NA>\n",
       "114  2024-08-30  18.0\n",
       "115  2024-08-31  19.5\n",
       "116  2024-09-01  19.8\n",
       "117  2024-09-02  <NA>\n",
       "\n",
       "[118 rows x 2 columns]"
      ]
     },
     "execution_count": 109,
     "metadata": {},
     "output_type": "execute_result"
    }
   ],
   "source": [
    "df"
   ]
  },
  {
   "cell_type": "code",
   "execution_count": 110,
   "metadata": {},
   "outputs": [
    {
     "name": "stdout",
     "output_type": "stream",
     "text": [
      "<class 'pandas.core.frame.DataFrame'>\n",
      "RangeIndex: 118 entries, 0 to 117\n",
      "Data columns (total 2 columns):\n",
      " #   Column  Non-Null Count  Dtype \n",
      "---  ------  --------------  ----- \n",
      " 0   date    118 non-null    object\n",
      " 1   temp    94 non-null     object\n",
      "dtypes: object(2)\n",
      "memory usage: 2.0+ KB\n"
     ]
    }
   ],
   "source": [
    "df.info()"
   ]
  },
  {
   "cell_type": "code",
   "execution_count": 111,
   "metadata": {},
   "outputs": [],
   "source": [
    "df['date'] = pd.to_datetime(df.date)"
   ]
  },
  {
   "cell_type": "code",
   "execution_count": 113,
   "metadata": {},
   "outputs": [
    {
     "name": "stdout",
     "output_type": "stream",
     "text": [
      "<class 'pandas.core.frame.DataFrame'>\n",
      "RangeIndex: 118 entries, 0 to 117\n",
      "Data columns (total 2 columns):\n",
      " #   Column  Non-Null Count  Dtype         \n",
      "---  ------  --------------  -----         \n",
      " 0   date    118 non-null    datetime64[ns]\n",
      " 1   temp    94 non-null     object        \n",
      "dtypes: datetime64[ns](1), object(1)\n",
      "memory usage: 2.0+ KB\n"
     ]
    }
   ],
   "source": [
    "df.info()"
   ]
  },
  {
   "cell_type": "code",
   "execution_count": 114,
   "metadata": {},
   "outputs": [],
   "source": [
    "df = df.dropna(axis=0)\n",
    "\n",
    "df.loc[:, 'temp'] = df.temp.astype(float)\n"
   ]
  },
  {
   "cell_type": "code",
   "execution_count": 115,
   "metadata": {},
   "outputs": [
    {
     "data": {
      "text/html": [
       "<div>\n",
       "<style scoped>\n",
       "    .dataframe tbody tr th:only-of-type {\n",
       "        vertical-align: middle;\n",
       "    }\n",
       "\n",
       "    .dataframe tbody tr th {\n",
       "        vertical-align: top;\n",
       "    }\n",
       "\n",
       "    .dataframe thead th {\n",
       "        text-align: right;\n",
       "    }\n",
       "</style>\n",
       "<table border=\"1\" class=\"dataframe\">\n",
       "  <thead>\n",
       "    <tr style=\"text-align: right;\">\n",
       "      <th></th>\n",
       "      <th>date</th>\n",
       "      <th>temp</th>\n",
       "    </tr>\n",
       "  </thead>\n",
       "  <tbody>\n",
       "    <tr>\n",
       "      <th>0</th>\n",
       "      <td>2024-04-25</td>\n",
       "      <td>8.3</td>\n",
       "    </tr>\n",
       "    <tr>\n",
       "      <th>1</th>\n",
       "      <td>2024-04-26</td>\n",
       "      <td>8.1</td>\n",
       "    </tr>\n",
       "    <tr>\n",
       "      <th>2</th>\n",
       "      <td>2024-04-27</td>\n",
       "      <td>11.8</td>\n",
       "    </tr>\n",
       "    <tr>\n",
       "      <th>3</th>\n",
       "      <td>2024-04-28</td>\n",
       "      <td>17.6</td>\n",
       "    </tr>\n",
       "    <tr>\n",
       "      <th>5</th>\n",
       "      <td>2024-04-30</td>\n",
       "      <td>17.9</td>\n",
       "    </tr>\n",
       "    <tr>\n",
       "      <th>...</th>\n",
       "      <td>...</td>\n",
       "      <td>...</td>\n",
       "    </tr>\n",
       "    <tr>\n",
       "      <th>111</th>\n",
       "      <td>2024-08-27</td>\n",
       "      <td>21.2</td>\n",
       "    </tr>\n",
       "    <tr>\n",
       "      <th>112</th>\n",
       "      <td>2024-08-28</td>\n",
       "      <td>23.7</td>\n",
       "    </tr>\n",
       "    <tr>\n",
       "      <th>114</th>\n",
       "      <td>2024-08-30</td>\n",
       "      <td>18.0</td>\n",
       "    </tr>\n",
       "    <tr>\n",
       "      <th>115</th>\n",
       "      <td>2024-08-31</td>\n",
       "      <td>19.5</td>\n",
       "    </tr>\n",
       "    <tr>\n",
       "      <th>116</th>\n",
       "      <td>2024-09-01</td>\n",
       "      <td>19.8</td>\n",
       "    </tr>\n",
       "  </tbody>\n",
       "</table>\n",
       "<p>94 rows × 2 columns</p>\n",
       "</div>"
      ],
      "text/plain": [
       "          date  temp\n",
       "0   2024-04-25   8.3\n",
       "1   2024-04-26   8.1\n",
       "2   2024-04-27  11.8\n",
       "3   2024-04-28  17.6\n",
       "5   2024-04-30  17.9\n",
       "..         ...   ...\n",
       "111 2024-08-27  21.2\n",
       "112 2024-08-28  23.7\n",
       "114 2024-08-30  18.0\n",
       "115 2024-08-31  19.5\n",
       "116 2024-09-01  19.8\n",
       "\n",
       "[94 rows x 2 columns]"
      ]
     },
     "execution_count": 115,
     "metadata": {},
     "output_type": "execute_result"
    }
   ],
   "source": [
    "df"
   ]
  },
  {
   "cell_type": "code",
   "execution_count": 118,
   "metadata": {},
   "outputs": [
    {
     "data": {
      "text/plain": [
       "<Axes: xlabel='date'>"
      ]
     },
     "execution_count": 118,
     "metadata": {},
     "output_type": "execute_result"
    },
    {
     "data": {
      "image/png": "[encoded data removed]",
      "text/plain": [
       "<Figure size 800x400 with 1 Axes>"
      ]
     },
     "metadata": {},
     "output_type": "display_data"
    }
   ],
   "source": [
    "\n",
    "df.plot(kind='line', x='date', y='temp', figsize=(8, 4))"
   ]
  },
  {
   "cell_type": "markdown",
   "metadata": {},
   "source": [
    "Sen ska vi inte glömma att Pandas är helt underbart och att det vi gjort ovan också kan göras med fyra rader kod:"
   ]
  },
  {
   "cell_type": "code",
   "execution_count": 119,
   "metadata": {},
   "outputs": [
    {
     "data": {
      "text/plain": [
       "<Axes: xlabel='date'>"
      ]
     },
     "execution_count": 119,
     "metadata": {},
     "output_type": "execute_result"
    },
    {
     "data": {
      "image/png": "[encoded data removed]",
      "text/plain": [
       "<Figure size 800x400 with 1 Axes>"
      ]
     },
     "metadata": {},
     "output_type": "display_data"
    }
   ],
   "source": [
    "df2 = pd.read_json('data/temps.json')\n",
    "df2['temp'] = df2.temp.str.replace(',', '.').astype(float)\n",
    "df2.dropna(inplace=True)\n",
    "df2.plot(kind='line', x= 'date', y='temp', figsize=(8, 4))"
   ]
  },
  {
   "cell_type": "markdown",
   "metadata": {},
   "source": [
    "### Datatvätt med Pandas\n",
    "\n",
    "Pandas kan automatiskt ändra de olika datumformaten till ett enhetligt format och göra om dem till sin egen `datetime64`-datatyp."
   ]
  },
  {
   "cell_type": "code",
   "execution_count": null,
   "metadata": {},
   "outputs": [],
   "source": [
    "df3 = pd.read_json('data/temps.json')\n",
    "df3.date"
   ]
  },
  {
   "cell_type": "markdown",
   "metadata": {},
   "source": [
    "`temp`-kolumnen är av `object`-datatypen och behöver lite hjälp att omvandlas till `float`."
   ]
  },
  {
   "cell_type": "code",
   "execution_count": null,
   "metadata": {},
   "outputs": [],
   "source": [
    "df3.temp"
   ]
  },
  {
   "cell_type": "markdown",
   "metadata": {},
   "source": [
    "Vi kan komma åt `str`-metoder på värdena i en kolumn genom att ange `.str` efter kolumnens namn. Då kan vi köra `replace()` på `temp`-kolumnen och omvandla värdena till `float`. Pandas hanterar automatisk `None`-värden."
   ]
  },
  {
   "cell_type": "code",
   "execution_count": null,
   "metadata": {},
   "outputs": [],
   "source": [
    "df3.temp.str.replace(',', '.').astype(float)"
   ]
  },
  {
   "cell_type": "markdown",
   "metadata": {},
   "source": [
    "Vi skriver över värdena i `temp`-kolumnen med de nya."
   ]
  },
  {
   "cell_type": "code",
   "execution_count": 59,
   "metadata": {},
   "outputs": [],
   "source": [
    "df3['temp'] = df3.temp.str.replace(',', '.').astype(float)"
   ]
  },
  {
   "cell_type": "code",
   "execution_count": null,
   "metadata": {},
   "outputs": [],
   "source": [
    "df3.temp"
   ]
  },
  {
   "cell_type": "markdown",
   "metadata": {},
   "source": [
    "Nu kan vi droppa raderna med saknade värden."
   ]
  },
  {
   "cell_type": "code",
   "execution_count": 61,
   "metadata": {},
   "outputs": [],
   "source": [
    "df3.dropna(inplace=True)\n"
   ]
  },
  {
   "cell_type": "code",
   "execution_count": null,
   "metadata": {},
   "outputs": [],
   "source": [
    "df3"
   ]
  },
  {
   "cell_type": "code",
   "execution_count": null,
   "metadata": {},
   "outputs": [],
   "source": [
    "df3.plot(kind='line', x= 'date', y='temp', figsize=(8, 4))"
   ]
  },
  {
   "cell_type": "code",
   "execution_count": null,
   "metadata": {},
   "outputs": [],
   "source": []
  }
 ],
 "metadata": {
  "kernelspec": {
   "display_name": "env",
   "language": "python",
   "name": "python3"
  },
  "language_info": {
   "codemirror_mode": {
    "name": "ipython",
    "version": 3
   },
   "file_extension": ".py",
   "mimetype": "text/x-python",
   "name": "python",
   "nbconvert_exporter": "python",
   "pygments_lexer": "ipython3",
   "version": "3.10.12"
  }
 },
 "nbformat": 4,
 "nbformat_minor": 2
}
