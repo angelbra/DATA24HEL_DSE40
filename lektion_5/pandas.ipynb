{
 "cells": [
  {
   "cell_type": "markdown",
   "metadata": {},
   "source": [
    "# Pandas"
   ]
  },
  {
   "cell_type": "code",
   "execution_count": 102,
   "metadata": {},
   "outputs": [],
   "source": [
    "import pandas as pd"
   ]
  },
  {
   "cell_type": "markdown",
   "metadata": {},
   "source": [
    "Pandas har i huvudsak två sorters objekt: `Series` som är en endimensionell datastruktur, och `DataFrame` som är tvådimensionell och påminner om en tabell med rader och kolumner."
   ]
  },
  {
   "cell_type": "code",
   "execution_count": 103,
   "metadata": {},
   "outputs": [],
   "source": [
    "data = [2.72, \"3.14\", \"4\", 23.12]\n",
    "\n",
    "s = pd.Series(data)\n",
    "\n",
    "s = s.astype(float)"
   ]
  },
  {
   "cell_type": "code",
   "execution_count": 104,
   "metadata": {},
   "outputs": [
    {
     "data": {
      "text/plain": [
       "0     2.72\n",
       "1     3.14\n",
       "2     4.00\n",
       "3    23.12\n",
       "dtype: float64"
      ]
     },
     "execution_count": 104,
     "metadata": {},
     "output_type": "execute_result"
    }
   ],
   "source": [
    "s"
   ]
  },
  {
   "cell_type": "code",
   "execution_count": 105,
   "metadata": {},
   "outputs": [
    {
     "name": "stdout",
     "output_type": "stream",
     "text": [
      "32.980000000000004\n",
      "8.245000000000001\n",
      "3.5700000000000003\n",
      "23.12\n",
      "2.72\n"
     ]
    }
   ],
   "source": [
    "print(s.sum())  # Summan av värdena i vår Series\n",
    "print(s.mean())  # Medelvärdet av värdena i vår Series\n",
    "print(s.median())  # Medelvärdet av värdena i vår Series\n",
    "print(s.max())  # Det högsta värdet i vår Series\n",
    "print(s.min())  # Det lägsta värdet i vår Series"
   ]
  },
  {
   "cell_type": "code",
   "execution_count": 106,
   "metadata": {},
   "outputs": [
    {
     "data": {
      "text/plain": [
       "count     4.000000\n",
       "mean      8.245000\n",
       "std       9.930967\n",
       "min       2.720000\n",
       "25%       3.035000\n",
       "50%       3.570000\n",
       "75%       8.780000\n",
       "max      23.120000\n",
       "dtype: float64"
      ]
     },
     "execution_count": 106,
     "metadata": {},
     "output_type": "execute_result"
    }
   ],
   "source": [
    "s.describe()"
   ]
  },
  {
   "cell_type": "code",
   "execution_count": 107,
   "metadata": {},
   "outputs": [
    {
     "data": {
      "text/plain": [
       "np.float64(3.035)"
      ]
     },
     "execution_count": 107,
     "metadata": {},
     "output_type": "execute_result"
    }
   ],
   "source": [
    "s.describe()[\"25%\"]"
   ]
  },
  {
   "cell_type": "code",
   "execution_count": 108,
   "metadata": {},
   "outputs": [
    {
     "data": {
      "text/html": [
       "<div>\n",
       "<style scoped>\n",
       "    .dataframe tbody tr th:only-of-type {\n",
       "        vertical-align: middle;\n",
       "    }\n",
       "\n",
       "    .dataframe tbody tr th {\n",
       "        vertical-align: top;\n",
       "    }\n",
       "\n",
       "    .dataframe thead th {\n",
       "        text-align: right;\n",
       "    }\n",
       "</style>\n",
       "<table border=\"1\" class=\"dataframe\">\n",
       "  <thead>\n",
       "    <tr style=\"text-align: right;\">\n",
       "      <th></th>\n",
       "      <th>A</th>\n",
       "      <th>B</th>\n",
       "      <th>C</th>\n",
       "    </tr>\n",
       "  </thead>\n",
       "  <tbody>\n",
       "    <tr>\n",
       "      <th>ett</th>\n",
       "      <td>1</td>\n",
       "      <td>4</td>\n",
       "      <td>25</td>\n",
       "    </tr>\n",
       "    <tr>\n",
       "      <th>två</th>\n",
       "      <td>3</td>\n",
       "      <td>4</td>\n",
       "      <td>5</td>\n",
       "    </tr>\n",
       "    <tr>\n",
       "      <th>tre</th>\n",
       "      <td>8</td>\n",
       "      <td>9</td>\n",
       "      <td>12</td>\n",
       "    </tr>\n",
       "  </tbody>\n",
       "</table>\n",
       "</div>"
      ],
      "text/plain": [
       "     A  B   C\n",
       "ett  1  4  25\n",
       "två  3  4   5\n",
       "tre  8  9  12"
      ]
     },
     "execution_count": 108,
     "metadata": {},
     "output_type": "execute_result"
    }
   ],
   "source": [
    "# Data som rader\n",
    "df = pd.DataFrame([\n",
    "        [1, 4, 25], \n",
    "        [3, 4, 5], \n",
    "        [8, 9, 12]], index=[\"ett\", \"två\", \"tre\"], columns=[\"A\", \"B\", \"C\"])\n",
    "\n",
    "df"
   ]
  },
  {
   "cell_type": "code",
   "execution_count": 109,
   "metadata": {},
   "outputs": [
    {
     "data": {
      "text/html": [
       "<div>\n",
       "<style scoped>\n",
       "    .dataframe tbody tr th:only-of-type {\n",
       "        vertical-align: middle;\n",
       "    }\n",
       "\n",
       "    .dataframe tbody tr th {\n",
       "        vertical-align: top;\n",
       "    }\n",
       "\n",
       "    .dataframe thead th {\n",
       "        text-align: right;\n",
       "    }\n",
       "</style>\n",
       "<table border=\"1\" class=\"dataframe\">\n",
       "  <thead>\n",
       "    <tr style=\"text-align: right;\">\n",
       "      <th></th>\n",
       "      <th>A</th>\n",
       "      <th>B</th>\n",
       "      <th>C</th>\n",
       "    </tr>\n",
       "  </thead>\n",
       "  <tbody>\n",
       "    <tr>\n",
       "      <th>0</th>\n",
       "      <td>1</td>\n",
       "      <td>3</td>\n",
       "      <td>8</td>\n",
       "    </tr>\n",
       "    <tr>\n",
       "      <th>1</th>\n",
       "      <td>4</td>\n",
       "      <td>4</td>\n",
       "      <td>9</td>\n",
       "    </tr>\n",
       "    <tr>\n",
       "      <th>2</th>\n",
       "      <td>25</td>\n",
       "      <td>5</td>\n",
       "      <td>12</td>\n",
       "    </tr>\n",
       "  </tbody>\n",
       "</table>\n",
       "</div>"
      ],
      "text/plain": [
       "    A  B   C\n",
       "0   1  3   8\n",
       "1   4  4   9\n",
       "2  25  5  12"
      ]
     },
     "execution_count": 109,
     "metadata": {},
     "output_type": "execute_result"
    }
   ],
   "source": [
    "# Data som kolumner\n",
    "data = {\"A\": [1, 4, 25], \n",
    "        \"B\": [3, 4, 5], \n",
    "        \"C\": [8, 9, 12]}\n",
    "\n",
    "df = pd.DataFrame(data)\n",
    "df"
   ]
  },
  {
   "cell_type": "code",
   "execution_count": 110,
   "metadata": {},
   "outputs": [
    {
     "data": {
      "text/plain": [
       "0     1\n",
       "1     4\n",
       "2    25\n",
       "Name: A, dtype: int64"
      ]
     },
     "execution_count": 110,
     "metadata": {},
     "output_type": "execute_result"
    }
   ],
   "source": [
    "df[\"A\"]\n"
   ]
  },
  {
   "cell_type": "code",
   "execution_count": 111,
   "metadata": {},
   "outputs": [
    {
     "data": {
      "text/plain": [
       "0     1\n",
       "1     4\n",
       "2    25\n",
       "Name: A, dtype: int64"
      ]
     },
     "execution_count": 111,
     "metadata": {},
     "output_type": "execute_result"
    }
   ],
   "source": [
    "df.A"
   ]
  },
  {
   "cell_type": "code",
   "execution_count": 112,
   "metadata": {},
   "outputs": [
    {
     "data": {
      "text/plain": [
       "A    1\n",
       "B    3\n",
       "C    8\n",
       "Name: 0, dtype: int64"
      ]
     },
     "execution_count": 112,
     "metadata": {},
     "output_type": "execute_result"
    }
   ],
   "source": [
    "df.iloc[0]"
   ]
  },
  {
   "cell_type": "code",
   "execution_count": 113,
   "metadata": {},
   "outputs": [
    {
     "data": {
      "text/html": [
       "<div>\n",
       "<style scoped>\n",
       "    .dataframe tbody tr th:only-of-type {\n",
       "        vertical-align: middle;\n",
       "    }\n",
       "\n",
       "    .dataframe tbody tr th {\n",
       "        vertical-align: top;\n",
       "    }\n",
       "\n",
       "    .dataframe thead th {\n",
       "        text-align: right;\n",
       "    }\n",
       "</style>\n",
       "<table border=\"1\" class=\"dataframe\">\n",
       "  <thead>\n",
       "    <tr style=\"text-align: right;\">\n",
       "      <th></th>\n",
       "      <th>A</th>\n",
       "      <th>B</th>\n",
       "      <th>C</th>\n",
       "    </tr>\n",
       "  </thead>\n",
       "  <tbody>\n",
       "    <tr>\n",
       "      <th>0</th>\n",
       "      <td>1</td>\n",
       "      <td>3</td>\n",
       "      <td>8</td>\n",
       "    </tr>\n",
       "    <tr>\n",
       "      <th>1</th>\n",
       "      <td>4</td>\n",
       "      <td>4</td>\n",
       "      <td>9</td>\n",
       "    </tr>\n",
       "    <tr>\n",
       "      <th>2</th>\n",
       "      <td>25</td>\n",
       "      <td>5</td>\n",
       "      <td>12</td>\n",
       "    </tr>\n",
       "  </tbody>\n",
       "</table>\n",
       "</div>"
      ],
      "text/plain": [
       "    A  B   C\n",
       "0   1  3   8\n",
       "1   4  4   9\n",
       "2  25  5  12"
      ]
     },
     "execution_count": 113,
     "metadata": {},
     "output_type": "execute_result"
    }
   ],
   "source": [
    "df"
   ]
  },
  {
   "cell_type": "code",
   "execution_count": 114,
   "metadata": {},
   "outputs": [
    {
     "name": "stdout",
     "output_type": "stream",
     "text": [
      "30\n",
      "4.0\n",
      "12\n"
     ]
    }
   ],
   "source": [
    "print(df.A.sum())  # Summan av värdena i kolumn A\n",
    "print(df.B.mean())  # Medelvärdet av värdena i kolumn B\n",
    "print(df.C.max())  # Det högsta värdet i kolumn C"
   ]
  },
  {
   "cell_type": "code",
   "execution_count": 115,
   "metadata": {},
   "outputs": [
    {
     "data": {
      "text/html": [
       "<div>\n",
       "<style scoped>\n",
       "    .dataframe tbody tr th:only-of-type {\n",
       "        vertical-align: middle;\n",
       "    }\n",
       "\n",
       "    .dataframe tbody tr th {\n",
       "        vertical-align: top;\n",
       "    }\n",
       "\n",
       "    .dataframe thead th {\n",
       "        text-align: right;\n",
       "    }\n",
       "</style>\n",
       "<table border=\"1\" class=\"dataframe\">\n",
       "  <thead>\n",
       "    <tr style=\"text-align: right;\">\n",
       "      <th></th>\n",
       "      <th>A</th>\n",
       "      <th>B</th>\n",
       "      <th>C</th>\n",
       "    </tr>\n",
       "  </thead>\n",
       "  <tbody>\n",
       "    <tr>\n",
       "      <th>count</th>\n",
       "      <td>3.000000</td>\n",
       "      <td>3.0</td>\n",
       "      <td>3.000000</td>\n",
       "    </tr>\n",
       "    <tr>\n",
       "      <th>mean</th>\n",
       "      <td>10.000000</td>\n",
       "      <td>4.0</td>\n",
       "      <td>9.666667</td>\n",
       "    </tr>\n",
       "    <tr>\n",
       "      <th>std</th>\n",
       "      <td>13.076697</td>\n",
       "      <td>1.0</td>\n",
       "      <td>2.081666</td>\n",
       "    </tr>\n",
       "    <tr>\n",
       "      <th>min</th>\n",
       "      <td>1.000000</td>\n",
       "      <td>3.0</td>\n",
       "      <td>8.000000</td>\n",
       "    </tr>\n",
       "    <tr>\n",
       "      <th>25%</th>\n",
       "      <td>2.500000</td>\n",
       "      <td>3.5</td>\n",
       "      <td>8.500000</td>\n",
       "    </tr>\n",
       "    <tr>\n",
       "      <th>50%</th>\n",
       "      <td>4.000000</td>\n",
       "      <td>4.0</td>\n",
       "      <td>9.000000</td>\n",
       "    </tr>\n",
       "    <tr>\n",
       "      <th>75%</th>\n",
       "      <td>14.500000</td>\n",
       "      <td>4.5</td>\n",
       "      <td>10.500000</td>\n",
       "    </tr>\n",
       "    <tr>\n",
       "      <th>max</th>\n",
       "      <td>25.000000</td>\n",
       "      <td>5.0</td>\n",
       "      <td>12.000000</td>\n",
       "    </tr>\n",
       "  </tbody>\n",
       "</table>\n",
       "</div>"
      ],
      "text/plain": [
       "               A    B          C\n",
       "count   3.000000  3.0   3.000000\n",
       "mean   10.000000  4.0   9.666667\n",
       "std    13.076697  1.0   2.081666\n",
       "min     1.000000  3.0   8.000000\n",
       "25%     2.500000  3.5   8.500000\n",
       "50%     4.000000  4.0   9.000000\n",
       "75%    14.500000  4.5  10.500000\n",
       "max    25.000000  5.0  12.000000"
      ]
     },
     "execution_count": 115,
     "metadata": {},
     "output_type": "execute_result"
    }
   ],
   "source": [
    "df.describe()"
   ]
  },
  {
   "cell_type": "markdown",
   "metadata": {},
   "source": [
    "Vi kan läsa in data från andra källor och skapa `DataFrame`:s. Ett vanligt format är `csv`, *comma separated values*."
   ]
  },
  {
   "cell_type": "code",
   "execution_count": 116,
   "metadata": {},
   "outputs": [],
   "source": [
    "df = pd.read_csv('video_games.csv', index_col=False)  # Läs in data från filen video_games.csv\n"
   ]
  },
  {
   "cell_type": "code",
   "execution_count": 117,
   "metadata": {},
   "outputs": [
    {
     "name": "stdout",
     "output_type": "stream",
     "text": [
      "<class 'pandas.core.frame.DataFrame'>\n",
      "RangeIndex: 2873 entries, 0 to 2872\n",
      "Data columns (total 6 columns):\n",
      " #   Column        Non-Null Count  Dtype  \n",
      "---  ------        --------------  -----  \n",
      " 0   title         2873 non-null   object \n",
      " 1   genre         2873 non-null   object \n",
      " 2   developer     2873 non-null   object \n",
      " 3   critic_score  2873 non-null   float64\n",
      " 4   total_sales   2873 non-null   float64\n",
      " 5   release_date  2873 non-null   object \n",
      "dtypes: float64(2), object(4)\n",
      "memory usage: 134.8+ KB\n"
     ]
    }
   ],
   "source": [
    "df.info()"
   ]
  },
  {
   "cell_type": "code",
   "execution_count": 118,
   "metadata": {},
   "outputs": [],
   "source": [
    "df['release_date'] = pd.to_datetime(df['release_date'])  # Ändra datatypen för kolumnen release_date"
   ]
  },
  {
   "cell_type": "code",
   "execution_count": 119,
   "metadata": {},
   "outputs": [
    {
     "name": "stdout",
     "output_type": "stream",
     "text": [
      "<class 'pandas.core.frame.DataFrame'>\n",
      "RangeIndex: 2873 entries, 0 to 2872\n",
      "Data columns (total 6 columns):\n",
      " #   Column        Non-Null Count  Dtype         \n",
      "---  ------        --------------  -----         \n",
      " 0   title         2873 non-null   object        \n",
      " 1   genre         2873 non-null   object        \n",
      " 2   developer     2873 non-null   object        \n",
      " 3   critic_score  2873 non-null   float64       \n",
      " 4   total_sales   2873 non-null   float64       \n",
      " 5   release_date  2873 non-null   datetime64[ns]\n",
      "dtypes: datetime64[ns](1), float64(2), object(3)\n",
      "memory usage: 134.8+ KB\n"
     ]
    }
   ],
   "source": [
    "df.info()"
   ]
  },
  {
   "cell_type": "code",
   "execution_count": 120,
   "metadata": {},
   "outputs": [
    {
     "data": {
      "text/html": [
       "<div>\n",
       "<style scoped>\n",
       "    .dataframe tbody tr th:only-of-type {\n",
       "        vertical-align: middle;\n",
       "    }\n",
       "\n",
       "    .dataframe tbody tr th {\n",
       "        vertical-align: top;\n",
       "    }\n",
       "\n",
       "    .dataframe thead th {\n",
       "        text-align: right;\n",
       "    }\n",
       "</style>\n",
       "<table border=\"1\" class=\"dataframe\">\n",
       "  <thead>\n",
       "    <tr style=\"text-align: right;\">\n",
       "      <th></th>\n",
       "      <th>title</th>\n",
       "      <th>genre</th>\n",
       "      <th>developer</th>\n",
       "      <th>critic_score</th>\n",
       "      <th>total_sales</th>\n",
       "      <th>release_date</th>\n",
       "    </tr>\n",
       "  </thead>\n",
       "  <tbody>\n",
       "    <tr>\n",
       "      <th>0</th>\n",
       "      <td>Grand Theft Auto V</td>\n",
       "      <td>Action</td>\n",
       "      <td>Rockstar North</td>\n",
       "      <td>9.366667</td>\n",
       "      <td>48.43</td>\n",
       "      <td>2013-09-17</td>\n",
       "    </tr>\n",
       "    <tr>\n",
       "      <th>1</th>\n",
       "      <td>Call of Duty: Black Ops</td>\n",
       "      <td>Shooter</td>\n",
       "      <td>Treyarch</td>\n",
       "      <td>8.100000</td>\n",
       "      <td>30.99</td>\n",
       "      <td>2010-11-09</td>\n",
       "    </tr>\n",
       "    <tr>\n",
       "      <th>2</th>\n",
       "      <td>Call of Duty: Modern Warfare 3</td>\n",
       "      <td>Shooter</td>\n",
       "      <td>Infinity Ward</td>\n",
       "      <td>7.500000</td>\n",
       "      <td>30.71</td>\n",
       "      <td>2011-11-08</td>\n",
       "    </tr>\n",
       "    <tr>\n",
       "      <th>3</th>\n",
       "      <td>Call of Duty: Ghosts</td>\n",
       "      <td>Shooter</td>\n",
       "      <td>Infinity Ward</td>\n",
       "      <td>7.833333</td>\n",
       "      <td>28.80</td>\n",
       "      <td>2013-11-05</td>\n",
       "    </tr>\n",
       "    <tr>\n",
       "      <th>4</th>\n",
       "      <td>Call of Duty: Black Ops II</td>\n",
       "      <td>Shooter</td>\n",
       "      <td>Treyarch</td>\n",
       "      <td>8.333333</td>\n",
       "      <td>28.08</td>\n",
       "      <td>2012-11-13</td>\n",
       "    </tr>\n",
       "    <tr>\n",
       "      <th>...</th>\n",
       "      <td>...</td>\n",
       "      <td>...</td>\n",
       "      <td>...</td>\n",
       "      <td>...</td>\n",
       "      <td>...</td>\n",
       "      <td>...</td>\n",
       "    </tr>\n",
       "    <tr>\n",
       "      <th>2868</th>\n",
       "      <td>Still Life</td>\n",
       "      <td>Adventure</td>\n",
       "      <td>Microids</td>\n",
       "      <td>6.400000</td>\n",
       "      <td>0.00</td>\n",
       "      <td>2005-05-04</td>\n",
       "    </tr>\n",
       "    <tr>\n",
       "      <th>2869</th>\n",
       "      <td>Zoo Tycoon 2: Endangered Species</td>\n",
       "      <td>Strategy</td>\n",
       "      <td>Blue Fang Games</td>\n",
       "      <td>6.200000</td>\n",
       "      <td>0.00</td>\n",
       "      <td>2005-10-19</td>\n",
       "    </tr>\n",
       "    <tr>\n",
       "      <th>2870</th>\n",
       "      <td>Zoo Tycoon 2: African Adventure</td>\n",
       "      <td>Strategy</td>\n",
       "      <td>Blue Fang Games</td>\n",
       "      <td>4.000000</td>\n",
       "      <td>0.00</td>\n",
       "      <td>2006-05-22</td>\n",
       "    </tr>\n",
       "    <tr>\n",
       "      <th>2871</th>\n",
       "      <td>echoshift</td>\n",
       "      <td>Puzzle</td>\n",
       "      <td>JAPAN Studio / Artoon</td>\n",
       "      <td>7.500000</td>\n",
       "      <td>0.00</td>\n",
       "      <td>2010-02-24</td>\n",
       "    </tr>\n",
       "    <tr>\n",
       "      <th>2872</th>\n",
       "      <td>bit Generations: Boundish</td>\n",
       "      <td>Action</td>\n",
       "      <td>skip Ltd.</td>\n",
       "      <td>4.000000</td>\n",
       "      <td>0.00</td>\n",
       "      <td>2006-07-13</td>\n",
       "    </tr>\n",
       "  </tbody>\n",
       "</table>\n",
       "<p>2873 rows × 6 columns</p>\n",
       "</div>"
      ],
      "text/plain": [
       "                                 title      genre              developer  \\\n",
       "0                   Grand Theft Auto V     Action         Rockstar North   \n",
       "1              Call of Duty: Black Ops    Shooter               Treyarch   \n",
       "2       Call of Duty: Modern Warfare 3    Shooter          Infinity Ward   \n",
       "3                 Call of Duty: Ghosts    Shooter          Infinity Ward   \n",
       "4           Call of Duty: Black Ops II    Shooter               Treyarch   \n",
       "...                                ...        ...                    ...   \n",
       "2868                        Still Life  Adventure               Microids   \n",
       "2869  Zoo Tycoon 2: Endangered Species   Strategy        Blue Fang Games   \n",
       "2870   Zoo Tycoon 2: African Adventure   Strategy        Blue Fang Games   \n",
       "2871                         echoshift     Puzzle  JAPAN Studio / Artoon   \n",
       "2872         bit Generations: Boundish     Action              skip Ltd.   \n",
       "\n",
       "      critic_score  total_sales release_date  \n",
       "0         9.366667        48.43   2013-09-17  \n",
       "1         8.100000        30.99   2010-11-09  \n",
       "2         7.500000        30.71   2011-11-08  \n",
       "3         7.833333        28.80   2013-11-05  \n",
       "4         8.333333        28.08   2012-11-13  \n",
       "...            ...          ...          ...  \n",
       "2868      6.400000         0.00   2005-05-04  \n",
       "2869      6.200000         0.00   2005-10-19  \n",
       "2870      4.000000         0.00   2006-05-22  \n",
       "2871      7.500000         0.00   2010-02-24  \n",
       "2872      4.000000         0.00   2006-07-13  \n",
       "\n",
       "[2873 rows x 6 columns]"
      ]
     },
     "execution_count": 120,
     "metadata": {},
     "output_type": "execute_result"
    }
   ],
   "source": [
    "df"
   ]
  },
  {
   "cell_type": "code",
   "execution_count": 121,
   "metadata": {},
   "outputs": [
    {
     "data": {
      "text/html": [
       "<div>\n",
       "<style scoped>\n",
       "    .dataframe tbody tr th:only-of-type {\n",
       "        vertical-align: middle;\n",
       "    }\n",
       "\n",
       "    .dataframe tbody tr th {\n",
       "        vertical-align: top;\n",
       "    }\n",
       "\n",
       "    .dataframe thead th {\n",
       "        text-align: right;\n",
       "    }\n",
       "</style>\n",
       "<table border=\"1\" class=\"dataframe\">\n",
       "  <thead>\n",
       "    <tr style=\"text-align: right;\">\n",
       "      <th></th>\n",
       "      <th>title</th>\n",
       "      <th>genre</th>\n",
       "      <th>developer</th>\n",
       "      <th>critic_score</th>\n",
       "      <th>total_sales</th>\n",
       "      <th>release_date</th>\n",
       "    </tr>\n",
       "  </thead>\n",
       "  <tbody>\n",
       "    <tr>\n",
       "      <th>0</th>\n",
       "      <td>Grand Theft Auto V</td>\n",
       "      <td>Action</td>\n",
       "      <td>Rockstar North</td>\n",
       "      <td>9.366667</td>\n",
       "      <td>48.43</td>\n",
       "      <td>2013-09-17</td>\n",
       "    </tr>\n",
       "    <tr>\n",
       "      <th>1</th>\n",
       "      <td>Call of Duty: Black Ops</td>\n",
       "      <td>Shooter</td>\n",
       "      <td>Treyarch</td>\n",
       "      <td>8.100000</td>\n",
       "      <td>30.99</td>\n",
       "      <td>2010-11-09</td>\n",
       "    </tr>\n",
       "    <tr>\n",
       "      <th>2</th>\n",
       "      <td>Call of Duty: Modern Warfare 3</td>\n",
       "      <td>Shooter</td>\n",
       "      <td>Infinity Ward</td>\n",
       "      <td>7.500000</td>\n",
       "      <td>30.71</td>\n",
       "      <td>2011-11-08</td>\n",
       "    </tr>\n",
       "    <tr>\n",
       "      <th>3</th>\n",
       "      <td>Call of Duty: Ghosts</td>\n",
       "      <td>Shooter</td>\n",
       "      <td>Infinity Ward</td>\n",
       "      <td>7.833333</td>\n",
       "      <td>28.80</td>\n",
       "      <td>2013-11-05</td>\n",
       "    </tr>\n",
       "    <tr>\n",
       "      <th>4</th>\n",
       "      <td>Call of Duty: Black Ops II</td>\n",
       "      <td>Shooter</td>\n",
       "      <td>Treyarch</td>\n",
       "      <td>8.333333</td>\n",
       "      <td>28.08</td>\n",
       "      <td>2012-11-13</td>\n",
       "    </tr>\n",
       "    <tr>\n",
       "      <th>5</th>\n",
       "      <td>Call of Duty: Modern Warfare 2</td>\n",
       "      <td>Shooter</td>\n",
       "      <td>Infinity Ward</td>\n",
       "      <td>9.333333</td>\n",
       "      <td>25.02</td>\n",
       "      <td>2009-11-10</td>\n",
       "    </tr>\n",
       "    <tr>\n",
       "      <th>6</th>\n",
       "      <td>Grand Theft Auto IV</td>\n",
       "      <td>Action</td>\n",
       "      <td>Rockstar North</td>\n",
       "      <td>9.733333</td>\n",
       "      <td>22.53</td>\n",
       "      <td>2008-04-29</td>\n",
       "    </tr>\n",
       "    <tr>\n",
       "      <th>7</th>\n",
       "      <td>Call of Duty: Advanced Warfare</td>\n",
       "      <td>Shooter</td>\n",
       "      <td>Sledgehammer Games</td>\n",
       "      <td>8.720000</td>\n",
       "      <td>21.78</td>\n",
       "      <td>2014-11-04</td>\n",
       "    </tr>\n",
       "    <tr>\n",
       "      <th>8</th>\n",
       "      <td>The Elder Scrolls V: Skyrim</td>\n",
       "      <td>Role-Playing</td>\n",
       "      <td>Bethesda Game Studios</td>\n",
       "      <td>9.025000</td>\n",
       "      <td>20.51</td>\n",
       "      <td>2011-11-11</td>\n",
       "    </tr>\n",
       "    <tr>\n",
       "      <th>9</th>\n",
       "      <td>Call of Duty 4: Modern Warfare</td>\n",
       "      <td>Shooter</td>\n",
       "      <td>Infinity Ward</td>\n",
       "      <td>8.925000</td>\n",
       "      <td>18.33</td>\n",
       "      <td>2007-11-05</td>\n",
       "    </tr>\n",
       "  </tbody>\n",
       "</table>\n",
       "</div>"
      ],
      "text/plain": [
       "                            title         genre              developer  \\\n",
       "0              Grand Theft Auto V        Action         Rockstar North   \n",
       "1         Call of Duty: Black Ops       Shooter               Treyarch   \n",
       "2  Call of Duty: Modern Warfare 3       Shooter          Infinity Ward   \n",
       "3            Call of Duty: Ghosts       Shooter          Infinity Ward   \n",
       "4      Call of Duty: Black Ops II       Shooter               Treyarch   \n",
       "5  Call of Duty: Modern Warfare 2       Shooter          Infinity Ward   \n",
       "6             Grand Theft Auto IV        Action         Rockstar North   \n",
       "7  Call of Duty: Advanced Warfare       Shooter     Sledgehammer Games   \n",
       "8     The Elder Scrolls V: Skyrim  Role-Playing  Bethesda Game Studios   \n",
       "9  Call of Duty 4: Modern Warfare       Shooter          Infinity Ward   \n",
       "\n",
       "   critic_score  total_sales release_date  \n",
       "0      9.366667        48.43   2013-09-17  \n",
       "1      8.100000        30.99   2010-11-09  \n",
       "2      7.500000        30.71   2011-11-08  \n",
       "3      7.833333        28.80   2013-11-05  \n",
       "4      8.333333        28.08   2012-11-13  \n",
       "5      9.333333        25.02   2009-11-10  \n",
       "6      9.733333        22.53   2008-04-29  \n",
       "7      8.720000        21.78   2014-11-04  \n",
       "8      9.025000        20.51   2011-11-11  \n",
       "9      8.925000        18.33   2007-11-05  "
      ]
     },
     "execution_count": 121,
     "metadata": {},
     "output_type": "execute_result"
    }
   ],
   "source": [
    "df.head(10)"
   ]
  },
  {
   "cell_type": "code",
   "execution_count": 122,
   "metadata": {},
   "outputs": [
    {
     "data": {
      "text/html": [
       "<div>\n",
       "<style scoped>\n",
       "    .dataframe tbody tr th:only-of-type {\n",
       "        vertical-align: middle;\n",
       "    }\n",
       "\n",
       "    .dataframe tbody tr th {\n",
       "        vertical-align: top;\n",
       "    }\n",
       "\n",
       "    .dataframe thead th {\n",
       "        text-align: right;\n",
       "    }\n",
       "</style>\n",
       "<table border=\"1\" class=\"dataframe\">\n",
       "  <thead>\n",
       "    <tr style=\"text-align: right;\">\n",
       "      <th></th>\n",
       "      <th>title</th>\n",
       "      <th>genre</th>\n",
       "      <th>developer</th>\n",
       "      <th>critic_score</th>\n",
       "      <th>total_sales</th>\n",
       "      <th>release_date</th>\n",
       "    </tr>\n",
       "  </thead>\n",
       "  <tbody>\n",
       "    <tr>\n",
       "      <th>2863</th>\n",
       "      <td>System Shock 2</td>\n",
       "      <td>Role-Playing</td>\n",
       "      <td>Irrational Games / Looking Glass Studios</td>\n",
       "      <td>8.9</td>\n",
       "      <td>0.0</td>\n",
       "      <td>1999-08-11</td>\n",
       "    </tr>\n",
       "    <tr>\n",
       "      <th>2864</th>\n",
       "      <td>Gothic 3: Forsaken Gods</td>\n",
       "      <td>Role-Playing</td>\n",
       "      <td>Trine Games</td>\n",
       "      <td>4.4</td>\n",
       "      <td>0.0</td>\n",
       "      <td>2008-11-20</td>\n",
       "    </tr>\n",
       "    <tr>\n",
       "      <th>2865</th>\n",
       "      <td>Teslagrad</td>\n",
       "      <td>Platform</td>\n",
       "      <td>Rain Games</td>\n",
       "      <td>7.0</td>\n",
       "      <td>0.0</td>\n",
       "      <td>2014-09-11</td>\n",
       "    </tr>\n",
       "    <tr>\n",
       "      <th>2866</th>\n",
       "      <td>Team Fortress 2</td>\n",
       "      <td>Shooter</td>\n",
       "      <td>Valve Corporation</td>\n",
       "      <td>9.2</td>\n",
       "      <td>0.0</td>\n",
       "      <td>2008-04-08</td>\n",
       "    </tr>\n",
       "    <tr>\n",
       "      <th>2867</th>\n",
       "      <td>World in Conflict: Soviet Assault</td>\n",
       "      <td>Strategy</td>\n",
       "      <td>Massive Entertainment / Swordfish Studios</td>\n",
       "      <td>6.1</td>\n",
       "      <td>0.0</td>\n",
       "      <td>2009-03-10</td>\n",
       "    </tr>\n",
       "    <tr>\n",
       "      <th>2868</th>\n",
       "      <td>Still Life</td>\n",
       "      <td>Adventure</td>\n",
       "      <td>Microids</td>\n",
       "      <td>6.4</td>\n",
       "      <td>0.0</td>\n",
       "      <td>2005-05-04</td>\n",
       "    </tr>\n",
       "    <tr>\n",
       "      <th>2869</th>\n",
       "      <td>Zoo Tycoon 2: Endangered Species</td>\n",
       "      <td>Strategy</td>\n",
       "      <td>Blue Fang Games</td>\n",
       "      <td>6.2</td>\n",
       "      <td>0.0</td>\n",
       "      <td>2005-10-19</td>\n",
       "    </tr>\n",
       "    <tr>\n",
       "      <th>2870</th>\n",
       "      <td>Zoo Tycoon 2: African Adventure</td>\n",
       "      <td>Strategy</td>\n",
       "      <td>Blue Fang Games</td>\n",
       "      <td>4.0</td>\n",
       "      <td>0.0</td>\n",
       "      <td>2006-05-22</td>\n",
       "    </tr>\n",
       "    <tr>\n",
       "      <th>2871</th>\n",
       "      <td>echoshift</td>\n",
       "      <td>Puzzle</td>\n",
       "      <td>JAPAN Studio / Artoon</td>\n",
       "      <td>7.5</td>\n",
       "      <td>0.0</td>\n",
       "      <td>2010-02-24</td>\n",
       "    </tr>\n",
       "    <tr>\n",
       "      <th>2872</th>\n",
       "      <td>bit Generations: Boundish</td>\n",
       "      <td>Action</td>\n",
       "      <td>skip Ltd.</td>\n",
       "      <td>4.0</td>\n",
       "      <td>0.0</td>\n",
       "      <td>2006-07-13</td>\n",
       "    </tr>\n",
       "  </tbody>\n",
       "</table>\n",
       "</div>"
      ],
      "text/plain": [
       "                                  title         genre  \\\n",
       "2863                     System Shock 2  Role-Playing   \n",
       "2864            Gothic 3: Forsaken Gods  Role-Playing   \n",
       "2865                          Teslagrad      Platform   \n",
       "2866                    Team Fortress 2       Shooter   \n",
       "2867  World in Conflict: Soviet Assault      Strategy   \n",
       "2868                         Still Life     Adventure   \n",
       "2869   Zoo Tycoon 2: Endangered Species      Strategy   \n",
       "2870    Zoo Tycoon 2: African Adventure      Strategy   \n",
       "2871                          echoshift        Puzzle   \n",
       "2872          bit Generations: Boundish        Action   \n",
       "\n",
       "                                      developer  critic_score  total_sales  \\\n",
       "2863   Irrational Games / Looking Glass Studios           8.9          0.0   \n",
       "2864                                Trine Games           4.4          0.0   \n",
       "2865                                 Rain Games           7.0          0.0   \n",
       "2866                          Valve Corporation           9.2          0.0   \n",
       "2867  Massive Entertainment / Swordfish Studios           6.1          0.0   \n",
       "2868                                   Microids           6.4          0.0   \n",
       "2869                            Blue Fang Games           6.2          0.0   \n",
       "2870                            Blue Fang Games           4.0          0.0   \n",
       "2871                      JAPAN Studio / Artoon           7.5          0.0   \n",
       "2872                                  skip Ltd.           4.0          0.0   \n",
       "\n",
       "     release_date  \n",
       "2863   1999-08-11  \n",
       "2864   2008-11-20  \n",
       "2865   2014-09-11  \n",
       "2866   2008-04-08  \n",
       "2867   2009-03-10  \n",
       "2868   2005-05-04  \n",
       "2869   2005-10-19  \n",
       "2870   2006-05-22  \n",
       "2871   2010-02-24  \n",
       "2872   2006-07-13  "
      ]
     },
     "execution_count": 122,
     "metadata": {},
     "output_type": "execute_result"
    }
   ],
   "source": [
    "df.tail(10)"
   ]
  },
  {
   "cell_type": "markdown",
   "metadata": {},
   "source": [
    "Vi kan skriva ut en statistisk sammanfattning av datan med metoden `describe()`."
   ]
  },
  {
   "cell_type": "code",
   "execution_count": 123,
   "metadata": {},
   "outputs": [
    {
     "data": {
      "text/html": [
       "<div>\n",
       "<style scoped>\n",
       "    .dataframe tbody tr th:only-of-type {\n",
       "        vertical-align: middle;\n",
       "    }\n",
       "\n",
       "    .dataframe tbody tr th {\n",
       "        vertical-align: top;\n",
       "    }\n",
       "\n",
       "    .dataframe thead th {\n",
       "        text-align: right;\n",
       "    }\n",
       "</style>\n",
       "<table border=\"1\" class=\"dataframe\">\n",
       "  <thead>\n",
       "    <tr style=\"text-align: right;\">\n",
       "      <th></th>\n",
       "      <th>critic_score</th>\n",
       "      <th>total_sales</th>\n",
       "      <th>release_date</th>\n",
       "    </tr>\n",
       "  </thead>\n",
       "  <tbody>\n",
       "    <tr>\n",
       "      <th>count</th>\n",
       "      <td>2873.000000</td>\n",
       "      <td>2873.000000</td>\n",
       "      <td>2873</td>\n",
       "    </tr>\n",
       "    <tr>\n",
       "      <th>mean</th>\n",
       "      <td>7.009445</td>\n",
       "      <td>1.058730</td>\n",
       "      <td>2007-05-28 02:28:21.635920640</td>\n",
       "    </tr>\n",
       "    <tr>\n",
       "      <th>min</th>\n",
       "      <td>1.000000</td>\n",
       "      <td>0.000000</td>\n",
       "      <td>1989-06-01 00:00:00</td>\n",
       "    </tr>\n",
       "    <tr>\n",
       "      <th>25%</th>\n",
       "      <td>6.233333</td>\n",
       "      <td>0.110000</td>\n",
       "      <td>2003-10-30 00:00:00</td>\n",
       "    </tr>\n",
       "    <tr>\n",
       "      <th>50%</th>\n",
       "      <td>7.266667</td>\n",
       "      <td>0.320000</td>\n",
       "      <td>2007-09-18 00:00:00</td>\n",
       "    </tr>\n",
       "    <tr>\n",
       "      <th>75%</th>\n",
       "      <td>8.000000</td>\n",
       "      <td>0.900000</td>\n",
       "      <td>2010-06-27 00:00:00</td>\n",
       "    </tr>\n",
       "    <tr>\n",
       "      <th>max</th>\n",
       "      <td>10.000000</td>\n",
       "      <td>48.430000</td>\n",
       "      <td>2020-12-31 00:00:00</td>\n",
       "    </tr>\n",
       "    <tr>\n",
       "      <th>std</th>\n",
       "      <td>1.452588</td>\n",
       "      <td>2.488819</td>\n",
       "      <td>NaN</td>\n",
       "    </tr>\n",
       "  </tbody>\n",
       "</table>\n",
       "</div>"
      ],
      "text/plain": [
       "       critic_score  total_sales                   release_date\n",
       "count   2873.000000  2873.000000                           2873\n",
       "mean       7.009445     1.058730  2007-05-28 02:28:21.635920640\n",
       "min        1.000000     0.000000            1989-06-01 00:00:00\n",
       "25%        6.233333     0.110000            2003-10-30 00:00:00\n",
       "50%        7.266667     0.320000            2007-09-18 00:00:00\n",
       "75%        8.000000     0.900000            2010-06-27 00:00:00\n",
       "max       10.000000    48.430000            2020-12-31 00:00:00\n",
       "std        1.452588     2.488819                            NaN"
      ]
     },
     "execution_count": 123,
     "metadata": {},
     "output_type": "execute_result"
    }
   ],
   "source": [
    "df.describe()"
   ]
  },
  {
   "cell_type": "markdown",
   "metadata": {},
   "source": [
    "Vi kan välja ut en viss kolumn på två olika sätt."
   ]
  },
  {
   "cell_type": "code",
   "execution_count": 124,
   "metadata": {},
   "outputs": [
    {
     "data": {
      "text/plain": [
       "0       9.366667\n",
       "1       8.100000\n",
       "2       7.500000\n",
       "3       7.833333\n",
       "4       8.333333\n",
       "          ...   \n",
       "2868    6.400000\n",
       "2869    6.200000\n",
       "2870    4.000000\n",
       "2871    7.500000\n",
       "2872    4.000000\n",
       "Name: critic_score, Length: 2873, dtype: float64"
      ]
     },
     "execution_count": 124,
     "metadata": {},
     "output_type": "execute_result"
    }
   ],
   "source": [
    "df['critic_score']"
   ]
  },
  {
   "cell_type": "code",
   "execution_count": 125,
   "metadata": {},
   "outputs": [
    {
     "data": {
      "text/plain": [
       "0       9.366667\n",
       "1       8.100000\n",
       "2       7.500000\n",
       "3       7.833333\n",
       "4       8.333333\n",
       "          ...   \n",
       "2868    6.400000\n",
       "2869    6.200000\n",
       "2870    4.000000\n",
       "2871    7.500000\n",
       "2872    4.000000\n",
       "Name: critic_score, Length: 2873, dtype: float64"
      ]
     },
     "execution_count": 125,
     "metadata": {},
     "output_type": "execute_result"
    }
   ],
   "source": [
    "df.critic_score"
   ]
  },
  {
   "cell_type": "markdown",
   "metadata": {},
   "source": [
    "## Visualisering\n",
    "\n",
    "Pandas-objekt har metoden `plot()` som vi kan använda för att skapa exempelvis lådagram över datan."
   ]
  },
  {
   "cell_type": "code",
   "execution_count": 126,
   "metadata": {},
   "outputs": [
    {
     "data": {
      "text/plain": [
       "<Axes: title={'center': 'Critic scores'}>"
      ]
     },
     "execution_count": 126,
     "metadata": {},
     "output_type": "execute_result"
    },
    {
     "data": {
      "image/png": "[encoded data removed]",
      "text/plain": [
       "<Figure size 640x480 with 1 Axes>"
      ]
     },
     "metadata": {},
     "output_type": "display_data"
    }
   ],
   "source": [
    "df.critic_score.plot(kind='box', title=\"Critic scores\", vert=False)"
   ]
  },
  {
   "cell_type": "code",
   "execution_count": 127,
   "metadata": {},
   "outputs": [
    {
     "data": {
      "text/plain": [
       "count    2873.000000\n",
       "mean        1.058730\n",
       "std         2.488819\n",
       "min         0.000000\n",
       "25%         0.110000\n",
       "50%         0.320000\n",
       "75%         0.900000\n",
       "max        48.430000\n",
       "Name: total_sales, dtype: float64"
      ]
     },
     "execution_count": 127,
     "metadata": {},
     "output_type": "execute_result"
    }
   ],
   "source": [
    "df.total_sales.describe()"
   ]
  },
  {
   "cell_type": "code",
   "execution_count": 128,
   "metadata": {},
   "outputs": [
    {
     "data": {
      "text/plain": [
       "<Axes: title={'center': 'Critic scores'}>"
      ]
     },
     "execution_count": 128,
     "metadata": {},
     "output_type": "execute_result"
    },
    {
     "data": {
      "image/png": "[encoded data removed]",
      "text/plain": [
       "<Figure size 640x480 with 1 Axes>"
      ]
     },
     "metadata": {},
     "output_type": "display_data"
    }
   ],
   "source": [
    "df.total_sales.plot(kind='box', title=\"Critic scores\", vert=False)"
   ]
  },
  {
   "cell_type": "markdown",
   "metadata": {},
   "source": [
    "De runda ringarna till vänster är *outliers*."
   ]
  },
  {
   "cell_type": "code",
   "execution_count": 129,
   "metadata": {},
   "outputs": [
    {
     "data": {
      "text/plain": [
       "count    2873.000000\n",
       "mean        7.009445\n",
       "std         1.452588\n",
       "min         1.000000\n",
       "25%         6.233333\n",
       "50%         7.266667\n",
       "75%         8.000000\n",
       "max        10.000000\n",
       "Name: critic_score, dtype: float64"
      ]
     },
     "execution_count": 129,
     "metadata": {},
     "output_type": "execute_result"
    }
   ],
   "source": [
    "df.critic_score.describe()"
   ]
  },
  {
   "cell_type": "markdown",
   "metadata": {},
   "source": [
    "En annan typ av plot är ett *histogram*, som visar hur värdena i datan är fördelade."
   ]
  },
  {
   "cell_type": "code",
   "execution_count": 130,
   "metadata": {},
   "outputs": [
    {
     "data": {
      "text/plain": [
       "<Axes: >"
      ]
     },
     "execution_count": 130,
     "metadata": {},
     "output_type": "execute_result"
    },
    {
     "data": {
      "image/png": "[encoded data removed]",
      "text/plain": [
       "<Figure size 640x480 with 1 Axes>"
      ]
     },
     "metadata": {},
     "output_type": "display_data"
    }
   ],
   "source": [
    "df.critic_score.hist(bins=50)"
   ]
  },
  {
   "cell_type": "code",
   "execution_count": 131,
   "metadata": {},
   "outputs": [
    {
     "data": {
      "text/plain": [
       "<Axes: >"
      ]
     },
     "execution_count": 131,
     "metadata": {},
     "output_type": "execute_result"
    },
    {
     "data": {
      "image/png": "[encoded data removed]",
      "text/plain": [
       "<Figure size 640x480 with 1 Axes>"
      ]
     },
     "metadata": {},
     "output_type": "display_data"
    }
   ],
   "source": [
    "df.total_sales.hist(bins=50)"
   ]
  },
  {
   "cell_type": "markdown",
   "metadata": {},
   "source": [
    "## Sortera och filtrera\n",
    "\n",
    "Vi kan sortera datan med `sort_values()`, och få de fem översta raderna med `head()`.\n",
    "\n",
    "`ascending=False` gör att vi sorterar datan fallande, alltså med det högsta värdet först."
   ]
  },
  {
   "cell_type": "code",
   "execution_count": 132,
   "metadata": {},
   "outputs": [
    {
     "data": {
      "text/html": [
       "<div>\n",
       "<style scoped>\n",
       "    .dataframe tbody tr th:only-of-type {\n",
       "        vertical-align: middle;\n",
       "    }\n",
       "\n",
       "    .dataframe tbody tr th {\n",
       "        vertical-align: top;\n",
       "    }\n",
       "\n",
       "    .dataframe thead th {\n",
       "        text-align: right;\n",
       "    }\n",
       "</style>\n",
       "<table border=\"1\" class=\"dataframe\">\n",
       "  <thead>\n",
       "    <tr style=\"text-align: right;\">\n",
       "      <th></th>\n",
       "      <th>title</th>\n",
       "      <th>genre</th>\n",
       "      <th>developer</th>\n",
       "      <th>critic_score</th>\n",
       "      <th>total_sales</th>\n",
       "      <th>release_date</th>\n",
       "    </tr>\n",
       "  </thead>\n",
       "  <tbody>\n",
       "    <tr>\n",
       "      <th>157</th>\n",
       "      <td>Teenage Mutant Ninja Turtles</td>\n",
       "      <td>Platform</td>\n",
       "      <td>Konami</td>\n",
       "      <td>5.9</td>\n",
       "      <td>4.17</td>\n",
       "      <td>1989-06-01</td>\n",
       "    </tr>\n",
       "    <tr>\n",
       "      <th>1301</th>\n",
       "      <td>Final Fantasy Adventure</td>\n",
       "      <td>Adventure</td>\n",
       "      <td>Square</td>\n",
       "      <td>9.0</td>\n",
       "      <td>0.38</td>\n",
       "      <td>1991-11-01</td>\n",
       "    </tr>\n",
       "    <tr>\n",
       "      <th>342</th>\n",
       "      <td>SimCity 2000</td>\n",
       "      <td>Simulation</td>\n",
       "      <td>Maxis</td>\n",
       "      <td>8.0</td>\n",
       "      <td>2.14</td>\n",
       "      <td>1993-01-01</td>\n",
       "    </tr>\n",
       "    <tr>\n",
       "      <th>2820</th>\n",
       "      <td>Sam &amp; Max Hit the Road</td>\n",
       "      <td>Adventure</td>\n",
       "      <td>LucasArts</td>\n",
       "      <td>9.0</td>\n",
       "      <td>0.00</td>\n",
       "      <td>1993-01-01</td>\n",
       "    </tr>\n",
       "    <tr>\n",
       "      <th>813</th>\n",
       "      <td>Final Fantasy Legend III</td>\n",
       "      <td>Role-Playing</td>\n",
       "      <td>SquareSoft</td>\n",
       "      <td>7.0</td>\n",
       "      <td>0.76</td>\n",
       "      <td>1993-09-29</td>\n",
       "    </tr>\n",
       "  </tbody>\n",
       "</table>\n",
       "</div>"
      ],
      "text/plain": [
       "                             title         genre   developer  critic_score  \\\n",
       "157   Teenage Mutant Ninja Turtles      Platform      Konami           5.9   \n",
       "1301       Final Fantasy Adventure     Adventure      Square           9.0   \n",
       "342                   SimCity 2000    Simulation       Maxis           8.0   \n",
       "2820        Sam & Max Hit the Road     Adventure   LucasArts           9.0   \n",
       "813       Final Fantasy Legend III  Role-Playing  SquareSoft           7.0   \n",
       "\n",
       "      total_sales release_date  \n",
       "157          4.17   1989-06-01  \n",
       "1301         0.38   1991-11-01  \n",
       "342          2.14   1993-01-01  \n",
       "2820         0.00   1993-01-01  \n",
       "813          0.76   1993-09-29  "
      ]
     },
     "execution_count": 132,
     "metadata": {},
     "output_type": "execute_result"
    }
   ],
   "source": [
    "df.sort_values('release_date', ascending=True).head()"
   ]
  },
  {
   "cell_type": "markdown",
   "metadata": {},
   "source": [
    "Vi kan filtrera raderna efter ett eller flera villkor."
   ]
  },
  {
   "cell_type": "code",
   "execution_count": 133,
   "metadata": {},
   "outputs": [
    {
     "data": {
      "text/html": [
       "<div>\n",
       "<style scoped>\n",
       "    .dataframe tbody tr th:only-of-type {\n",
       "        vertical-align: middle;\n",
       "    }\n",
       "\n",
       "    .dataframe tbody tr th {\n",
       "        vertical-align: top;\n",
       "    }\n",
       "\n",
       "    .dataframe thead th {\n",
       "        text-align: right;\n",
       "    }\n",
       "</style>\n",
       "<table border=\"1\" class=\"dataframe\">\n",
       "  <thead>\n",
       "    <tr style=\"text-align: right;\">\n",
       "      <th></th>\n",
       "      <th>title</th>\n",
       "      <th>genre</th>\n",
       "      <th>developer</th>\n",
       "      <th>critic_score</th>\n",
       "      <th>total_sales</th>\n",
       "      <th>release_date</th>\n",
       "    </tr>\n",
       "  </thead>\n",
       "  <tbody>\n",
       "    <tr>\n",
       "      <th>1666</th>\n",
       "      <td>Spawn the Eternal</td>\n",
       "      <td>Action</td>\n",
       "      <td>Sony Computer Entertainment</td>\n",
       "      <td>1.9</td>\n",
       "      <td>0.24</td>\n",
       "      <td>1997-12-01</td>\n",
       "    </tr>\n",
       "    <tr>\n",
       "      <th>1884</th>\n",
       "      <td>Iron Chef America: Supreme Cuisine</td>\n",
       "      <td>Simulation</td>\n",
       "      <td>Black Lantern Studios</td>\n",
       "      <td>2.0</td>\n",
       "      <td>0.17</td>\n",
       "      <td>2008-11-25</td>\n",
       "    </tr>\n",
       "    <tr>\n",
       "      <th>2050</th>\n",
       "      <td>Nickelodeon Kart Racers</td>\n",
       "      <td>Racing</td>\n",
       "      <td>Bamtang</td>\n",
       "      <td>2.0</td>\n",
       "      <td>0.13</td>\n",
       "      <td>2018-10-23</td>\n",
       "    </tr>\n",
       "    <tr>\n",
       "      <th>2291</th>\n",
       "      <td>Batman Beyond: Return of the Joker</td>\n",
       "      <td>Action</td>\n",
       "      <td>Kemco</td>\n",
       "      <td>2.0</td>\n",
       "      <td>0.09</td>\n",
       "      <td>2000-12-13</td>\n",
       "    </tr>\n",
       "    <tr>\n",
       "      <th>2348</th>\n",
       "      <td>Anubis II</td>\n",
       "      <td>Platform</td>\n",
       "      <td>Data Design Interactive</td>\n",
       "      <td>1.5</td>\n",
       "      <td>0.07</td>\n",
       "      <td>2007-09-18</td>\n",
       "    </tr>\n",
       "    <tr>\n",
       "      <th>2403</th>\n",
       "      <td>Risen 3: Titan Lords Enhanced Edition</td>\n",
       "      <td>Role-Playing</td>\n",
       "      <td>Piranha Bytes</td>\n",
       "      <td>1.0</td>\n",
       "      <td>0.07</td>\n",
       "      <td>2015-08-21</td>\n",
       "    </tr>\n",
       "    <tr>\n",
       "      <th>2418</th>\n",
       "      <td>Spy Games: Elevator Mission</td>\n",
       "      <td>Shooter</td>\n",
       "      <td>Tommo</td>\n",
       "      <td>2.0</td>\n",
       "      <td>0.06</td>\n",
       "      <td>2007-11-16</td>\n",
       "    </tr>\n",
       "    <tr>\n",
       "      <th>2425</th>\n",
       "      <td>Kabuki Warriors</td>\n",
       "      <td>Action</td>\n",
       "      <td>Light Weight</td>\n",
       "      <td>1.0</td>\n",
       "      <td>0.06</td>\n",
       "      <td>2001-11-19</td>\n",
       "    </tr>\n",
       "    <tr>\n",
       "      <th>2516</th>\n",
       "      <td>Jenga World Tour</td>\n",
       "      <td>Misc</td>\n",
       "      <td>Atomic Planet Entertainment</td>\n",
       "      <td>2.0</td>\n",
       "      <td>0.05</td>\n",
       "      <td>2007-12-07</td>\n",
       "    </tr>\n",
       "    <tr>\n",
       "      <th>2562</th>\n",
       "      <td>Langrisser: Re:Incarnation Tensei</td>\n",
       "      <td>Role-Playing</td>\n",
       "      <td>NCS</td>\n",
       "      <td>1.5</td>\n",
       "      <td>0.04</td>\n",
       "      <td>2016-04-19</td>\n",
       "    </tr>\n",
       "    <tr>\n",
       "      <th>2613</th>\n",
       "      <td>Elf Bowling 1 &amp; 2</td>\n",
       "      <td>Sports</td>\n",
       "      <td>Ignition Entertainment</td>\n",
       "      <td>1.4</td>\n",
       "      <td>0.03</td>\n",
       "      <td>2005-11-28</td>\n",
       "    </tr>\n",
       "    <tr>\n",
       "      <th>2678</th>\n",
       "      <td>Trigger Man</td>\n",
       "      <td>Shooter</td>\n",
       "      <td>Point of View</td>\n",
       "      <td>2.0</td>\n",
       "      <td>0.02</td>\n",
       "      <td>2004-10-05</td>\n",
       "    </tr>\n",
       "    <tr>\n",
       "      <th>2752</th>\n",
       "      <td>Carmageddon 64</td>\n",
       "      <td>Action</td>\n",
       "      <td>SCi</td>\n",
       "      <td>1.3</td>\n",
       "      <td>0.01</td>\n",
       "      <td>1999-12-05</td>\n",
       "    </tr>\n",
       "    <tr>\n",
       "      <th>2753</th>\n",
       "      <td>Street Cleaning Simulator</td>\n",
       "      <td>Simulation</td>\n",
       "      <td>TML Studios</td>\n",
       "      <td>1.5</td>\n",
       "      <td>0.01</td>\n",
       "      <td>2011-07-01</td>\n",
       "    </tr>\n",
       "    <tr>\n",
       "      <th>2786</th>\n",
       "      <td>The Sims 2 Holiday Edition</td>\n",
       "      <td>Simulation</td>\n",
       "      <td>Maxis</td>\n",
       "      <td>2.0</td>\n",
       "      <td>0.00</td>\n",
       "      <td>2005-11-15</td>\n",
       "    </tr>\n",
       "    <tr>\n",
       "      <th>2842</th>\n",
       "      <td>A-Train HX</td>\n",
       "      <td>Simulation</td>\n",
       "      <td>ArtDink</td>\n",
       "      <td>2.0</td>\n",
       "      <td>0.00</td>\n",
       "      <td>2008-03-07</td>\n",
       "    </tr>\n",
       "  </tbody>\n",
       "</table>\n",
       "</div>"
      ],
      "text/plain": [
       "                                      title         genre  \\\n",
       "1666                      Spawn the Eternal        Action   \n",
       "1884     Iron Chef America: Supreme Cuisine    Simulation   \n",
       "2050                Nickelodeon Kart Racers        Racing   \n",
       "2291     Batman Beyond: Return of the Joker        Action   \n",
       "2348                              Anubis II      Platform   \n",
       "2403  Risen 3: Titan Lords Enhanced Edition  Role-Playing   \n",
       "2418            Spy Games: Elevator Mission       Shooter   \n",
       "2425                        Kabuki Warriors        Action   \n",
       "2516                       Jenga World Tour          Misc   \n",
       "2562      Langrisser: Re:Incarnation Tensei  Role-Playing   \n",
       "2613                      Elf Bowling 1 & 2        Sports   \n",
       "2678                            Trigger Man       Shooter   \n",
       "2752                         Carmageddon 64        Action   \n",
       "2753              Street Cleaning Simulator    Simulation   \n",
       "2786             The Sims 2 Holiday Edition    Simulation   \n",
       "2842                             A-Train HX    Simulation   \n",
       "\n",
       "                        developer  critic_score  total_sales release_date  \n",
       "1666  Sony Computer Entertainment           1.9         0.24   1997-12-01  \n",
       "1884        Black Lantern Studios           2.0         0.17   2008-11-25  \n",
       "2050                      Bamtang           2.0         0.13   2018-10-23  \n",
       "2291                        Kemco           2.0         0.09   2000-12-13  \n",
       "2348      Data Design Interactive           1.5         0.07   2007-09-18  \n",
       "2403                Piranha Bytes           1.0         0.07   2015-08-21  \n",
       "2418                        Tommo           2.0         0.06   2007-11-16  \n",
       "2425                 Light Weight           1.0         0.06   2001-11-19  \n",
       "2516  Atomic Planet Entertainment           2.0         0.05   2007-12-07  \n",
       "2562                          NCS           1.5         0.04   2016-04-19  \n",
       "2613       Ignition Entertainment           1.4         0.03   2005-11-28  \n",
       "2678                Point of View           2.0         0.02   2004-10-05  \n",
       "2752                          SCi           1.3         0.01   1999-12-05  \n",
       "2753                  TML Studios           1.5         0.01   2011-07-01  \n",
       "2786                        Maxis           2.0         0.00   2005-11-15  \n",
       "2842                      ArtDink           2.0         0.00   2008-03-07  "
      ]
     },
     "execution_count": 133,
     "metadata": {},
     "output_type": "execute_result"
    }
   ],
   "source": [
    "df[df.critic_score <= 2]"
   ]
  },
  {
   "cell_type": "code",
   "execution_count": 134,
   "metadata": {},
   "outputs": [
    {
     "data": {
      "text/html": [
       "<div>\n",
       "<style scoped>\n",
       "    .dataframe tbody tr th:only-of-type {\n",
       "        vertical-align: middle;\n",
       "    }\n",
       "\n",
       "    .dataframe tbody tr th {\n",
       "        vertical-align: top;\n",
       "    }\n",
       "\n",
       "    .dataframe thead th {\n",
       "        text-align: right;\n",
       "    }\n",
       "</style>\n",
       "<table border=\"1\" class=\"dataframe\">\n",
       "  <thead>\n",
       "    <tr style=\"text-align: right;\">\n",
       "      <th></th>\n",
       "      <th>title</th>\n",
       "      <th>genre</th>\n",
       "      <th>developer</th>\n",
       "      <th>critic_score</th>\n",
       "      <th>total_sales</th>\n",
       "      <th>release_date</th>\n",
       "    </tr>\n",
       "  </thead>\n",
       "  <tbody>\n",
       "    <tr>\n",
       "      <th>1666</th>\n",
       "      <td>Spawn the Eternal</td>\n",
       "      <td>Action</td>\n",
       "      <td>Sony Computer Entertainment</td>\n",
       "      <td>1.9</td>\n",
       "      <td>0.24</td>\n",
       "      <td>1997-12-01</td>\n",
       "    </tr>\n",
       "    <tr>\n",
       "      <th>2291</th>\n",
       "      <td>Batman Beyond: Return of the Joker</td>\n",
       "      <td>Action</td>\n",
       "      <td>Kemco</td>\n",
       "      <td>2.0</td>\n",
       "      <td>0.09</td>\n",
       "      <td>2000-12-13</td>\n",
       "    </tr>\n",
       "    <tr>\n",
       "      <th>2425</th>\n",
       "      <td>Kabuki Warriors</td>\n",
       "      <td>Action</td>\n",
       "      <td>Light Weight</td>\n",
       "      <td>1.0</td>\n",
       "      <td>0.06</td>\n",
       "      <td>2001-11-19</td>\n",
       "    </tr>\n",
       "    <tr>\n",
       "      <th>2752</th>\n",
       "      <td>Carmageddon 64</td>\n",
       "      <td>Action</td>\n",
       "      <td>SCi</td>\n",
       "      <td>1.3</td>\n",
       "      <td>0.01</td>\n",
       "      <td>1999-12-05</td>\n",
       "    </tr>\n",
       "  </tbody>\n",
       "</table>\n",
       "</div>"
      ],
      "text/plain": [
       "                                   title   genre                    developer  \\\n",
       "1666                   Spawn the Eternal  Action  Sony Computer Entertainment   \n",
       "2291  Batman Beyond: Return of the Joker  Action                        Kemco   \n",
       "2425                     Kabuki Warriors  Action                 Light Weight   \n",
       "2752                      Carmageddon 64  Action                          SCi   \n",
       "\n",
       "      critic_score  total_sales release_date  \n",
       "1666           1.9         0.24   1997-12-01  \n",
       "2291           2.0         0.09   2000-12-13  \n",
       "2425           1.0         0.06   2001-11-19  \n",
       "2752           1.3         0.01   1999-12-05  "
      ]
     },
     "execution_count": 134,
     "metadata": {},
     "output_type": "execute_result"
    }
   ],
   "source": [
    "df[(df.critic_score <= 2) & (df.genre == \"Action\")]"
   ]
  },
  {
   "cell_type": "code",
   "execution_count": 135,
   "metadata": {},
   "outputs": [
    {
     "data": {
      "text/html": [
       "<div>\n",
       "<style scoped>\n",
       "    .dataframe tbody tr th:only-of-type {\n",
       "        vertical-align: middle;\n",
       "    }\n",
       "\n",
       "    .dataframe tbody tr th {\n",
       "        vertical-align: top;\n",
       "    }\n",
       "\n",
       "    .dataframe thead th {\n",
       "        text-align: right;\n",
       "    }\n",
       "</style>\n",
       "<table border=\"1\" class=\"dataframe\">\n",
       "  <thead>\n",
       "    <tr style=\"text-align: right;\">\n",
       "      <th></th>\n",
       "      <th>title</th>\n",
       "      <th>genre</th>\n",
       "      <th>developer</th>\n",
       "      <th>critic_score</th>\n",
       "      <th>total_sales</th>\n",
       "      <th>release_date</th>\n",
       "    </tr>\n",
       "  </thead>\n",
       "  <tbody>\n",
       "    <tr>\n",
       "      <th>2291</th>\n",
       "      <td>Batman Beyond: Return of the Joker</td>\n",
       "      <td>Action</td>\n",
       "      <td>Kemco</td>\n",
       "      <td>2.0</td>\n",
       "      <td>0.09</td>\n",
       "      <td>2000-12-13</td>\n",
       "    </tr>\n",
       "    <tr>\n",
       "      <th>2425</th>\n",
       "      <td>Kabuki Warriors</td>\n",
       "      <td>Action</td>\n",
       "      <td>Light Weight</td>\n",
       "      <td>1.0</td>\n",
       "      <td>0.06</td>\n",
       "      <td>2001-11-19</td>\n",
       "    </tr>\n",
       "    <tr>\n",
       "      <th>2752</th>\n",
       "      <td>Carmageddon 64</td>\n",
       "      <td>Action</td>\n",
       "      <td>SCi</td>\n",
       "      <td>1.3</td>\n",
       "      <td>0.01</td>\n",
       "      <td>1999-12-05</td>\n",
       "    </tr>\n",
       "  </tbody>\n",
       "</table>\n",
       "</div>"
      ],
      "text/plain": [
       "                                   title   genre     developer  critic_score  \\\n",
       "2291  Batman Beyond: Return of the Joker  Action         Kemco           2.0   \n",
       "2425                     Kabuki Warriors  Action  Light Weight           1.0   \n",
       "2752                      Carmageddon 64  Action           SCi           1.3   \n",
       "\n",
       "      total_sales release_date  \n",
       "2291         0.09   2000-12-13  \n",
       "2425         0.06   2001-11-19  \n",
       "2752         0.01   1999-12-05  "
      ]
     },
     "execution_count": 135,
     "metadata": {},
     "output_type": "execute_result"
    }
   ],
   "source": [
    "df[(df.critic_score <= 2) & (df.genre == \"Action\") & (df.total_sales < .1)]"
   ]
  },
  {
   "cell_type": "code",
   "execution_count": 136,
   "metadata": {},
   "outputs": [
    {
     "data": {
      "text/plain": [
       "<Axes: ylabel='Frequency'>"
      ]
     },
     "execution_count": 136,
     "metadata": {},
     "output_type": "execute_result"
    },
    {
     "data": {
      "image/png": "[encoded data removed]",
      "text/plain": [
       "<Figure size 640x480 with 1 Axes>"
      ]
     },
     "metadata": {},
     "output_type": "display_data"
    }
   ],
   "source": [
    "df[df.total_sales > 5].total_sales.plot(kind=\"hist\", bins=50)"
   ]
  },
  {
   "cell_type": "code",
   "execution_count": 137,
   "metadata": {},
   "outputs": [
    {
     "data": {
      "text/html": [
       "<div>\n",
       "<style scoped>\n",
       "    .dataframe tbody tr th:only-of-type {\n",
       "        vertical-align: middle;\n",
       "    }\n",
       "\n",
       "    .dataframe tbody tr th {\n",
       "        vertical-align: top;\n",
       "    }\n",
       "\n",
       "    .dataframe thead th {\n",
       "        text-align: right;\n",
       "    }\n",
       "</style>\n",
       "<table border=\"1\" class=\"dataframe\">\n",
       "  <thead>\n",
       "    <tr style=\"text-align: right;\">\n",
       "      <th></th>\n",
       "      <th>title</th>\n",
       "      <th>genre</th>\n",
       "      <th>developer</th>\n",
       "      <th>critic_score</th>\n",
       "      <th>total_sales</th>\n",
       "      <th>release_date</th>\n",
       "    </tr>\n",
       "  </thead>\n",
       "  <tbody>\n",
       "    <tr>\n",
       "      <th>14</th>\n",
       "      <td>FIFA 18</td>\n",
       "      <td>Sports</td>\n",
       "      <td>EA Vancouver</td>\n",
       "      <td>7.525000</td>\n",
       "      <td>16.12</td>\n",
       "      <td>2017-09-29</td>\n",
       "    </tr>\n",
       "    <tr>\n",
       "      <th>19</th>\n",
       "      <td>Red Dead Redemption 2</td>\n",
       "      <td>Action-Adventure</td>\n",
       "      <td>Rockstar Games</td>\n",
       "      <td>9.800000</td>\n",
       "      <td>13.94</td>\n",
       "      <td>2018-10-26</td>\n",
       "    </tr>\n",
       "    <tr>\n",
       "      <th>24</th>\n",
       "      <td>Call of Duty: WWII</td>\n",
       "      <td>Shooter</td>\n",
       "      <td>Sledgehammer Games</td>\n",
       "      <td>8.100000</td>\n",
       "      <td>13.40</td>\n",
       "      <td>2017-11-03</td>\n",
       "    </tr>\n",
       "    <tr>\n",
       "      <th>89</th>\n",
       "      <td>NBA 2K18</td>\n",
       "      <td>Sports</td>\n",
       "      <td>Visual Concepts</td>\n",
       "      <td>7.460000</td>\n",
       "      <td>5.99</td>\n",
       "      <td>2017-09-19</td>\n",
       "    </tr>\n",
       "    <tr>\n",
       "      <th>94</th>\n",
       "      <td>Far Cry 5</td>\n",
       "      <td>Action</td>\n",
       "      <td>Ubisoft</td>\n",
       "      <td>7.133333</td>\n",
       "      <td>5.80</td>\n",
       "      <td>2018-03-27</td>\n",
       "    </tr>\n",
       "    <tr>\n",
       "      <th>...</th>\n",
       "      <td>...</td>\n",
       "      <td>...</td>\n",
       "      <td>...</td>\n",
       "      <td>...</td>\n",
       "      <td>...</td>\n",
       "      <td>...</td>\n",
       "    </tr>\n",
       "    <tr>\n",
       "      <th>2731</th>\n",
       "      <td>Flipping Death</td>\n",
       "      <td>Adventure</td>\n",
       "      <td>Zoink Games</td>\n",
       "      <td>7.500000</td>\n",
       "      <td>0.01</td>\n",
       "      <td>2018-10-16</td>\n",
       "    </tr>\n",
       "    <tr>\n",
       "      <th>2734</th>\n",
       "      <td>Musynx</td>\n",
       "      <td>Music</td>\n",
       "      <td>PM Studios</td>\n",
       "      <td>7.500000</td>\n",
       "      <td>0.01</td>\n",
       "      <td>2018-06-19</td>\n",
       "    </tr>\n",
       "    <tr>\n",
       "      <th>2749</th>\n",
       "      <td>Hotel Transylvania 3: Monsters Overboard</td>\n",
       "      <td>Action-Adventure</td>\n",
       "      <td>Torus Games</td>\n",
       "      <td>6.500000</td>\n",
       "      <td>0.01</td>\n",
       "      <td>2018-07-10</td>\n",
       "    </tr>\n",
       "    <tr>\n",
       "      <th>2771</th>\n",
       "      <td>Legend of Kay Anniversary</td>\n",
       "      <td>Action-Adventure</td>\n",
       "      <td>THQ Nordic</td>\n",
       "      <td>6.500000</td>\n",
       "      <td>0.01</td>\n",
       "      <td>2018-05-29</td>\n",
       "    </tr>\n",
       "    <tr>\n",
       "      <th>2819</th>\n",
       "      <td>Dillon's Dead-Heat Breakers</td>\n",
       "      <td>Action</td>\n",
       "      <td>Nintendo</td>\n",
       "      <td>7.000000</td>\n",
       "      <td>0.00</td>\n",
       "      <td>2018-04-26</td>\n",
       "    </tr>\n",
       "  </tbody>\n",
       "</table>\n",
       "<p>146 rows × 6 columns</p>\n",
       "</div>"
      ],
      "text/plain": [
       "                                         title             genre  \\\n",
       "14                                     FIFA 18            Sports   \n",
       "19                       Red Dead Redemption 2  Action-Adventure   \n",
       "24                          Call of Duty: WWII           Shooter   \n",
       "89                                    NBA 2K18            Sports   \n",
       "94                                   Far Cry 5            Action   \n",
       "...                                        ...               ...   \n",
       "2731                            Flipping Death         Adventure   \n",
       "2734                                    Musynx             Music   \n",
       "2749  Hotel Transylvania 3: Monsters Overboard  Action-Adventure   \n",
       "2771                 Legend of Kay Anniversary  Action-Adventure   \n",
       "2819               Dillon's Dead-Heat Breakers            Action   \n",
       "\n",
       "               developer  critic_score  total_sales release_date  \n",
       "14          EA Vancouver      7.525000        16.12   2017-09-29  \n",
       "19        Rockstar Games      9.800000        13.94   2018-10-26  \n",
       "24    Sledgehammer Games      8.100000        13.40   2017-11-03  \n",
       "89       Visual Concepts      7.460000         5.99   2017-09-19  \n",
       "94               Ubisoft      7.133333         5.80   2018-03-27  \n",
       "...                  ...           ...          ...          ...  \n",
       "2731         Zoink Games      7.500000         0.01   2018-10-16  \n",
       "2734          PM Studios      7.500000         0.01   2018-06-19  \n",
       "2749         Torus Games      6.500000         0.01   2018-07-10  \n",
       "2771          THQ Nordic      6.500000         0.01   2018-05-29  \n",
       "2819            Nintendo      7.000000         0.00   2018-04-26  \n",
       "\n",
       "[146 rows x 6 columns]"
      ]
     },
     "execution_count": 137,
     "metadata": {},
     "output_type": "execute_result"
    }
   ],
   "source": [
    "df[(df.release_date.dt.year > 2016) & (df.release_date.dt.year <= 2019)]"
   ]
  },
  {
   "cell_type": "code",
   "execution_count": 138,
   "metadata": {},
   "outputs": [
    {
     "data": {
      "text/html": [
       "<div>\n",
       "<style scoped>\n",
       "    .dataframe tbody tr th:only-of-type {\n",
       "        vertical-align: middle;\n",
       "    }\n",
       "\n",
       "    .dataframe tbody tr th {\n",
       "        vertical-align: top;\n",
       "    }\n",
       "\n",
       "    .dataframe thead th {\n",
       "        text-align: right;\n",
       "    }\n",
       "</style>\n",
       "<table border=\"1\" class=\"dataframe\">\n",
       "  <thead>\n",
       "    <tr style=\"text-align: right;\">\n",
       "      <th></th>\n",
       "      <th>title</th>\n",
       "      <th>genre</th>\n",
       "      <th>developer</th>\n",
       "      <th>critic_score</th>\n",
       "      <th>total_sales</th>\n",
       "      <th>release_date</th>\n",
       "    </tr>\n",
       "  </thead>\n",
       "  <tbody>\n",
       "    <tr>\n",
       "      <th>0</th>\n",
       "      <td>Grand Theft Auto V</td>\n",
       "      <td>Action</td>\n",
       "      <td>Rockstar North</td>\n",
       "      <td>9.366667</td>\n",
       "      <td>48.43</td>\n",
       "      <td>2013-09-17</td>\n",
       "    </tr>\n",
       "    <tr>\n",
       "      <th>6</th>\n",
       "      <td>Grand Theft Auto IV</td>\n",
       "      <td>Action</td>\n",
       "      <td>Rockstar North</td>\n",
       "      <td>9.733333</td>\n",
       "      <td>22.53</td>\n",
       "      <td>2008-04-29</td>\n",
       "    </tr>\n",
       "    <tr>\n",
       "      <th>13</th>\n",
       "      <td>Grand Theft Auto: Vice City</td>\n",
       "      <td>Action</td>\n",
       "      <td>Rockstar North</td>\n",
       "      <td>9.300000</td>\n",
       "      <td>16.19</td>\n",
       "      <td>2002-10-28</td>\n",
       "    </tr>\n",
       "    <tr>\n",
       "      <th>140</th>\n",
       "      <td>Grand Theft Auto: Episodes from Liberty City</td>\n",
       "      <td>Adventure</td>\n",
       "      <td>Rockstar North</td>\n",
       "      <td>9.000000</td>\n",
       "      <td>4.69</td>\n",
       "      <td>2009-10-29</td>\n",
       "    </tr>\n",
       "    <tr>\n",
       "      <th>156</th>\n",
       "      <td>Rockstar Games Double Pack: Grand Theft Auto I...</td>\n",
       "      <td>Action</td>\n",
       "      <td>Rockstar North</td>\n",
       "      <td>9.750000</td>\n",
       "      <td>4.21</td>\n",
       "      <td>2003-10-31</td>\n",
       "    </tr>\n",
       "    <tr>\n",
       "      <th>260</th>\n",
       "      <td>Grand Theft Auto: San Andreas</td>\n",
       "      <td>Action</td>\n",
       "      <td>Rockstar North</td>\n",
       "      <td>9.300000</td>\n",
       "      <td>2.92</td>\n",
       "      <td>2005-06-07</td>\n",
       "    </tr>\n",
       "    <tr>\n",
       "      <th>481</th>\n",
       "      <td>Manhunt</td>\n",
       "      <td>Action</td>\n",
       "      <td>Rockstar North</td>\n",
       "      <td>7.850000</td>\n",
       "      <td>1.47</td>\n",
       "      <td>2003-11-18</td>\n",
       "    </tr>\n",
       "  </tbody>\n",
       "</table>\n",
       "</div>"
      ],
      "text/plain": [
       "                                                 title      genre  \\\n",
       "0                                   Grand Theft Auto V     Action   \n",
       "6                                  Grand Theft Auto IV     Action   \n",
       "13                         Grand Theft Auto: Vice City     Action   \n",
       "140       Grand Theft Auto: Episodes from Liberty City  Adventure   \n",
       "156  Rockstar Games Double Pack: Grand Theft Auto I...     Action   \n",
       "260                      Grand Theft Auto: San Andreas     Action   \n",
       "481                                            Manhunt     Action   \n",
       "\n",
       "          developer  critic_score  total_sales release_date  \n",
       "0    Rockstar North      9.366667        48.43   2013-09-17  \n",
       "6    Rockstar North      9.733333        22.53   2008-04-29  \n",
       "13   Rockstar North      9.300000        16.19   2002-10-28  \n",
       "140  Rockstar North      9.000000         4.69   2009-10-29  \n",
       "156  Rockstar North      9.750000         4.21   2003-10-31  \n",
       "260  Rockstar North      9.300000         2.92   2005-06-07  \n",
       "481  Rockstar North      7.850000         1.47   2003-11-18  "
      ]
     },
     "execution_count": 138,
     "metadata": {},
     "output_type": "execute_result"
    }
   ],
   "source": [
    "df[df.developer == \"Rockstar North\"]"
   ]
  },
  {
   "cell_type": "code",
   "execution_count": 139,
   "metadata": {},
   "outputs": [],
   "source": [
    "ea = df[df.developer.str.contains(r\"^EA\")]"
   ]
  },
  {
   "cell_type": "code",
   "execution_count": 140,
   "metadata": {},
   "outputs": [],
   "source": [
    "ea_rockstar = df[(df.developer.str.contains(r\"^EA\")) | (df.developer.str.contains(r\"Rockstar\"))]"
   ]
  },
  {
   "cell_type": "code",
   "execution_count": 141,
   "metadata": {},
   "outputs": [
    {
     "data": {
      "text/html": [
       "<div>\n",
       "<style scoped>\n",
       "    .dataframe tbody tr th:only-of-type {\n",
       "        vertical-align: middle;\n",
       "    }\n",
       "\n",
       "    .dataframe tbody tr th {\n",
       "        vertical-align: top;\n",
       "    }\n",
       "\n",
       "    .dataframe thead th {\n",
       "        text-align: right;\n",
       "    }\n",
       "</style>\n",
       "<table border=\"1\" class=\"dataframe\">\n",
       "  <thead>\n",
       "    <tr style=\"text-align: right;\">\n",
       "      <th></th>\n",
       "      <th>title</th>\n",
       "      <th>genre</th>\n",
       "      <th>developer</th>\n",
       "      <th>critic_score</th>\n",
       "      <th>total_sales</th>\n",
       "      <th>release_date</th>\n",
       "    </tr>\n",
       "  </thead>\n",
       "  <tbody>\n",
       "    <tr>\n",
       "      <th>0</th>\n",
       "      <td>Grand Theft Auto V</td>\n",
       "      <td>Action</td>\n",
       "      <td>Rockstar North</td>\n",
       "      <td>9.366667</td>\n",
       "      <td>48.43</td>\n",
       "      <td>2013-09-17</td>\n",
       "    </tr>\n",
       "    <tr>\n",
       "      <th>6</th>\n",
       "      <td>Grand Theft Auto IV</td>\n",
       "      <td>Action</td>\n",
       "      <td>Rockstar North</td>\n",
       "      <td>9.733333</td>\n",
       "      <td>22.53</td>\n",
       "      <td>2008-04-29</td>\n",
       "    </tr>\n",
       "    <tr>\n",
       "      <th>12</th>\n",
       "      <td>FIFA 15</td>\n",
       "      <td>Sports</td>\n",
       "      <td>EA Canada</td>\n",
       "      <td>7.360000</td>\n",
       "      <td>16.28</td>\n",
       "      <td>2014-09-23</td>\n",
       "    </tr>\n",
       "    <tr>\n",
       "      <th>13</th>\n",
       "      <td>Grand Theft Auto: Vice City</td>\n",
       "      <td>Action</td>\n",
       "      <td>Rockstar North</td>\n",
       "      <td>9.300000</td>\n",
       "      <td>16.19</td>\n",
       "      <td>2002-10-28</td>\n",
       "    </tr>\n",
       "    <tr>\n",
       "      <th>14</th>\n",
       "      <td>FIFA 18</td>\n",
       "      <td>Sports</td>\n",
       "      <td>EA Vancouver</td>\n",
       "      <td>7.525000</td>\n",
       "      <td>16.12</td>\n",
       "      <td>2017-09-29</td>\n",
       "    </tr>\n",
       "    <tr>\n",
       "      <th>...</th>\n",
       "      <td>...</td>\n",
       "      <td>...</td>\n",
       "      <td>...</td>\n",
       "      <td>...</td>\n",
       "      <td>...</td>\n",
       "      <td>...</td>\n",
       "    </tr>\n",
       "    <tr>\n",
       "      <th>2640</th>\n",
       "      <td>FIFA World Cup: Germany 2006</td>\n",
       "      <td>Sports</td>\n",
       "      <td>EA Canada</td>\n",
       "      <td>4.300000</td>\n",
       "      <td>0.03</td>\n",
       "      <td>2006-04-24</td>\n",
       "    </tr>\n",
       "    <tr>\n",
       "      <th>2740</th>\n",
       "      <td>Command &amp; Conquer 4: Tiberian Twilight</td>\n",
       "      <td>Strategy</td>\n",
       "      <td>EA Los Angeles</td>\n",
       "      <td>6.600000</td>\n",
       "      <td>0.01</td>\n",
       "      <td>2010-03-16</td>\n",
       "    </tr>\n",
       "    <tr>\n",
       "      <th>2741</th>\n",
       "      <td>Command &amp; Conquer: Generals</td>\n",
       "      <td>Strategy</td>\n",
       "      <td>EA Pacific</td>\n",
       "      <td>8.600000</td>\n",
       "      <td>0.01</td>\n",
       "      <td>2003-02-10</td>\n",
       "    </tr>\n",
       "    <tr>\n",
       "      <th>2837</th>\n",
       "      <td>Madden NFL 09 All-Play (weekly US sales)</td>\n",
       "      <td>Sports</td>\n",
       "      <td>EA Tiburon</td>\n",
       "      <td>8.000000</td>\n",
       "      <td>0.00</td>\n",
       "      <td>2008-08-12</td>\n",
       "    </tr>\n",
       "    <tr>\n",
       "      <th>2843</th>\n",
       "      <td>A Sound of Thunder</td>\n",
       "      <td>Action</td>\n",
       "      <td>Rockstar Leeds</td>\n",
       "      <td>6.800000</td>\n",
       "      <td>0.00</td>\n",
       "      <td>2005-02-01</td>\n",
       "    </tr>\n",
       "  </tbody>\n",
       "</table>\n",
       "<p>174 rows × 6 columns</p>\n",
       "</div>"
      ],
      "text/plain": [
       "                                         title     genre       developer  \\\n",
       "0                           Grand Theft Auto V    Action  Rockstar North   \n",
       "6                          Grand Theft Auto IV    Action  Rockstar North   \n",
       "12                                     FIFA 15    Sports       EA Canada   \n",
       "13                 Grand Theft Auto: Vice City    Action  Rockstar North   \n",
       "14                                     FIFA 18    Sports    EA Vancouver   \n",
       "...                                        ...       ...             ...   \n",
       "2640              FIFA World Cup: Germany 2006    Sports       EA Canada   \n",
       "2740    Command & Conquer 4: Tiberian Twilight  Strategy  EA Los Angeles   \n",
       "2741               Command & Conquer: Generals  Strategy      EA Pacific   \n",
       "2837  Madden NFL 09 All-Play (weekly US sales)    Sports      EA Tiburon   \n",
       "2843                        A Sound of Thunder    Action  Rockstar Leeds   \n",
       "\n",
       "      critic_score  total_sales release_date  \n",
       "0         9.366667        48.43   2013-09-17  \n",
       "6         9.733333        22.53   2008-04-29  \n",
       "12        7.360000        16.28   2014-09-23  \n",
       "13        9.300000        16.19   2002-10-28  \n",
       "14        7.525000        16.12   2017-09-29  \n",
       "...            ...          ...          ...  \n",
       "2640      4.300000         0.03   2006-04-24  \n",
       "2740      6.600000         0.01   2010-03-16  \n",
       "2741      8.600000         0.01   2003-02-10  \n",
       "2837      8.000000         0.00   2008-08-12  \n",
       "2843      6.800000         0.00   2005-02-01  \n",
       "\n",
       "[174 rows x 6 columns]"
      ]
     },
     "execution_count": 141,
     "metadata": {},
     "output_type": "execute_result"
    }
   ],
   "source": [
    "ea_rockstar"
   ]
  },
  {
   "cell_type": "markdown",
   "metadata": {},
   "source": [
    "`contains()` stödjer *regular expressions*."
   ]
  },
  {
   "cell_type": "code",
   "execution_count": 142,
   "metadata": {},
   "outputs": [
    {
     "data": {
      "text/html": [
       "<div>\n",
       "<style scoped>\n",
       "    .dataframe tbody tr th:only-of-type {\n",
       "        vertical-align: middle;\n",
       "    }\n",
       "\n",
       "    .dataframe tbody tr th {\n",
       "        vertical-align: top;\n",
       "    }\n",
       "\n",
       "    .dataframe thead th {\n",
       "        text-align: right;\n",
       "    }\n",
       "</style>\n",
       "<table border=\"1\" class=\"dataframe\">\n",
       "  <thead>\n",
       "    <tr style=\"text-align: right;\">\n",
       "      <th></th>\n",
       "      <th>title</th>\n",
       "      <th>genre</th>\n",
       "      <th>developer</th>\n",
       "      <th>critic_score</th>\n",
       "      <th>total_sales</th>\n",
       "      <th>release_date</th>\n",
       "    </tr>\n",
       "  </thead>\n",
       "  <tbody>\n",
       "    <tr>\n",
       "      <th>108</th>\n",
       "      <td>Forza Motorsport 3</td>\n",
       "      <td>Racing</td>\n",
       "      <td>Turn 10 Studios</td>\n",
       "      <td>9.20</td>\n",
       "      <td>5.50</td>\n",
       "      <td>2009-10-27</td>\n",
       "    </tr>\n",
       "    <tr>\n",
       "      <th>145</th>\n",
       "      <td>Forza Motorsport 4</td>\n",
       "      <td>Racing</td>\n",
       "      <td>Turn 10 Studio</td>\n",
       "      <td>9.10</td>\n",
       "      <td>4.60</td>\n",
       "      <td>2011-10-11</td>\n",
       "    </tr>\n",
       "    <tr>\n",
       "      <th>154</th>\n",
       "      <td>BioShock</td>\n",
       "      <td>Shooter</td>\n",
       "      <td>2K Australia / 2K Boston</td>\n",
       "      <td>9.45</td>\n",
       "      <td>4.27</td>\n",
       "      <td>2007-08-21</td>\n",
       "    </tr>\n",
       "    <tr>\n",
       "      <th>165</th>\n",
       "      <td>Forza Motorsport 2</td>\n",
       "      <td>Racing</td>\n",
       "      <td>Turn 10 Studios</td>\n",
       "      <td>9.10</td>\n",
       "      <td>4.05</td>\n",
       "      <td>2007-05-29</td>\n",
       "    </tr>\n",
       "    <tr>\n",
       "      <th>170</th>\n",
       "      <td>Mafia III</td>\n",
       "      <td>Action-Adventure</td>\n",
       "      <td>Hangar 13</td>\n",
       "      <td>6.85</td>\n",
       "      <td>3.98</td>\n",
       "      <td>2016-10-07</td>\n",
       "    </tr>\n",
       "    <tr>\n",
       "      <th>...</th>\n",
       "      <td>...</td>\n",
       "      <td>...</td>\n",
       "      <td>...</td>\n",
       "      <td>...</td>\n",
       "      <td>...</td>\n",
       "      <td>...</td>\n",
       "    </tr>\n",
       "    <tr>\n",
       "      <th>2720</th>\n",
       "      <td>Banjo-Kazooie</td>\n",
       "      <td>Platform</td>\n",
       "      <td>4J Studios</td>\n",
       "      <td>7.00</td>\n",
       "      <td>0.01</td>\n",
       "      <td>2008-12-03</td>\n",
       "    </tr>\n",
       "    <tr>\n",
       "      <th>2739</th>\n",
       "      <td>Army Men: Air Combat - The Elite Missions</td>\n",
       "      <td>Shooter</td>\n",
       "      <td>3DO</td>\n",
       "      <td>3.80</td>\n",
       "      <td>0.01</td>\n",
       "      <td>2003-03-25</td>\n",
       "    </tr>\n",
       "    <tr>\n",
       "      <th>2824</th>\n",
       "      <td>Dual Blades</td>\n",
       "      <td>Fighting</td>\n",
       "      <td>Metro3D</td>\n",
       "      <td>6.00</td>\n",
       "      <td>0.00</td>\n",
       "      <td>2002-10-07</td>\n",
       "    </tr>\n",
       "    <tr>\n",
       "      <th>2825</th>\n",
       "      <td>The Mark</td>\n",
       "      <td>Shooter</td>\n",
       "      <td>T7 Games</td>\n",
       "      <td>3.00</td>\n",
       "      <td>0.00</td>\n",
       "      <td>2007-02-26</td>\n",
       "    </tr>\n",
       "    <tr>\n",
       "      <th>2828</th>\n",
       "      <td>Medal of Honor: Allied Assault</td>\n",
       "      <td>Shooter</td>\n",
       "      <td>2015, Inc.</td>\n",
       "      <td>9.30</td>\n",
       "      <td>0.00</td>\n",
       "      <td>2002-01-20</td>\n",
       "    </tr>\n",
       "  </tbody>\n",
       "</table>\n",
       "<p>124 rows × 6 columns</p>\n",
       "</div>"
      ],
      "text/plain": [
       "                                          title             genre  \\\n",
       "108                          Forza Motorsport 3            Racing   \n",
       "145                          Forza Motorsport 4            Racing   \n",
       "154                                    BioShock           Shooter   \n",
       "165                          Forza Motorsport 2            Racing   \n",
       "170                                   Mafia III  Action-Adventure   \n",
       "...                                         ...               ...   \n",
       "2720                              Banjo-Kazooie          Platform   \n",
       "2739  Army Men: Air Combat - The Elite Missions           Shooter   \n",
       "2824                                Dual Blades          Fighting   \n",
       "2825                                   The Mark           Shooter   \n",
       "2828             Medal of Honor: Allied Assault           Shooter   \n",
       "\n",
       "                     developer  critic_score  total_sales release_date  \n",
       "108            Turn 10 Studios          9.20         5.50   2009-10-27  \n",
       "145             Turn 10 Studio          9.10         4.60   2011-10-11  \n",
       "154   2K Australia / 2K Boston          9.45         4.27   2007-08-21  \n",
       "165            Turn 10 Studios          9.10         4.05   2007-05-29  \n",
       "170                  Hangar 13          6.85         3.98   2016-10-07  \n",
       "...                        ...           ...          ...          ...  \n",
       "2720                4J Studios          7.00         0.01   2008-12-03  \n",
       "2739                       3DO          3.80         0.01   2003-03-25  \n",
       "2824                   Metro3D          6.00         0.00   2002-10-07  \n",
       "2825                  T7 Games          3.00         0.00   2007-02-26  \n",
       "2828                2015, Inc.          9.30         0.00   2002-01-20  \n",
       "\n",
       "[124 rows x 6 columns]"
      ]
     },
     "execution_count": 142,
     "metadata": {},
     "output_type": "execute_result"
    }
   ],
   "source": [
    "df[df.developer.str.contains(r\"\\d+\", regex=True)]"
   ]
  },
  {
   "cell_type": "markdown",
   "metadata": {},
   "source": [
    "### Vilka utvecklare har sålt flest spel?\n",
    "\n",
    "Vi kan gruppera datan efter värdena i en eller flera kolumner med `groupby()`.\n",
    "\n",
    "För att få ut ett resultat behöver vi också *aggregera* på en eller flera kolumner. Här nedan använder vi `sum()` som aggregeringsfunktion på `total_sales`-kolumnen."
   ]
  },
  {
   "cell_type": "code",
   "execution_count": 143,
   "metadata": {},
   "outputs": [
    {
     "data": {
      "text/plain": [
       "array(['EA Canada', 'EA Vancouver', 'EA Redwood Shores', 'EA DICE',\n",
       "       'EA Black Box', 'EA Los Angeles', 'EA Tiburon',\n",
       "       'EA Digital Illusions CE', 'EA Seattle', 'EA Sports',\n",
       "       'EA Montreal', 'EA Chicago', 'EA Salt Lake', 'EA Bright Light',\n",
       "       'EA UK', 'EA Freestyle', 'EA Pacific'], dtype=object)"
      ]
     },
     "execution_count": 143,
     "metadata": {},
     "output_type": "execute_result"
    }
   ],
   "source": [
    "ea.developer.unique()"
   ]
  },
  {
   "cell_type": "code",
   "execution_count": 144,
   "metadata": {},
   "outputs": [
    {
     "data": {
      "text/plain": [
       "np.float64(440.30999999999995)"
      ]
     },
     "execution_count": 144,
     "metadata": {},
     "output_type": "execute_result"
    }
   ],
   "source": [
    "ea.total_sales.sum()"
   ]
  },
  {
   "cell_type": "code",
   "execution_count": 145,
   "metadata": {},
   "outputs": [
    {
     "data": {
      "text/plain": [
       "developer\n",
       "10tacle Studios AG               0.16\n",
       "1C: Maddox Games                 0.05\n",
       "1st Playable Productions         3.14\n",
       "2015, Inc.                       0.00\n",
       "2D Boy                           0.03\n",
       "                                 ... \n",
       "skip Ltd.                        0.42\n",
       "syn Sophia                       0.45\n",
       "tri-Ace                          1.80\n",
       "tri-Crescendo / Monolith Soft    0.37\n",
       "zSlide                           0.03\n",
       "Name: total_sales, Length: 1014, dtype: float64"
      ]
     },
     "execution_count": 145,
     "metadata": {},
     "output_type": "execute_result"
    }
   ],
   "source": [
    "df.groupby('developer').total_sales.sum()"
   ]
  },
  {
   "cell_type": "markdown",
   "metadata": {},
   "source": [
    "Vi sorterar fallande."
   ]
  },
  {
   "cell_type": "code",
   "execution_count": 146,
   "metadata": {},
   "outputs": [],
   "source": [
    "dev_group = df.groupby(\"developer\")"
   ]
  },
  {
   "cell_type": "code",
   "execution_count": 147,
   "metadata": {},
   "outputs": [],
   "source": [
    "dev_total_sales = dev_group.total_sales.sum()"
   ]
  },
  {
   "cell_type": "code",
   "execution_count": 148,
   "metadata": {},
   "outputs": [
    {
     "data": {
      "text/plain": [
       "developer\n",
       "EA Canada            136.40\n",
       "Treyarch             122.02\n",
       "Infinity Ward        114.29\n",
       "EA Tiburon           104.13\n",
       "Ubisoft Montreal     102.91\n",
       "                      ...  \n",
       "Rage Software          0.00\n",
       "Rain Games             0.00\n",
       "Valve Corporation      0.00\n",
       "Vision Works           0.00\n",
       "2015, Inc.             0.00\n",
       "Name: total_sales, Length: 1014, dtype: float64"
      ]
     },
     "execution_count": 148,
     "metadata": {},
     "output_type": "execute_result"
    }
   ],
   "source": [
    "dev_total_sales.sort_values(ascending=False)"
   ]
  },
  {
   "cell_type": "code",
   "execution_count": 149,
   "metadata": {},
   "outputs": [
    {
     "data": {
      "text/plain": [
       "developer\n",
       "EA Canada                136.40\n",
       "Treyarch                 122.02\n",
       "Infinity Ward            114.29\n",
       "EA Tiburon               104.13\n",
       "Ubisoft Montreal         102.91\n",
       "Rockstar North           100.44\n",
       "Traveller's Tales         85.97\n",
       "Bethesda Game Studios     46.42\n",
       "Visual Concepts           43.54\n",
       "Konami                    41.58\n",
       "Name: total_sales, dtype: float64"
      ]
     },
     "execution_count": 149,
     "metadata": {},
     "output_type": "execute_result"
    }
   ],
   "source": [
    "df.groupby('developer').total_sales.sum().sort_values(ascending=False).head(10)"
   ]
  },
  {
   "cell_type": "markdown",
   "metadata": {},
   "source": [
    "Nu börjar vi få en ganska lång rad med metoder. Vi skapar en `Series` med de fem första raderna i vår grupperade, summerade och sorterade data."
   ]
  },
  {
   "cell_type": "code",
   "execution_count": 150,
   "metadata": {},
   "outputs": [],
   "source": [
    "developer_sales = df.groupby('developer').total_sales.sum().sort_values(ascending=False)"
   ]
  },
  {
   "cell_type": "code",
   "execution_count": 151,
   "metadata": {},
   "outputs": [
    {
     "data": {
      "text/plain": [
       "developer\n",
       "EA Canada            136.40\n",
       "Treyarch             122.02\n",
       "Infinity Ward        114.29\n",
       "EA Tiburon           104.13\n",
       "Ubisoft Montreal     102.91\n",
       "                      ...  \n",
       "Rage Software          0.00\n",
       "Rain Games             0.00\n",
       "Valve Corporation      0.00\n",
       "Vision Works           0.00\n",
       "2015, Inc.             0.00\n",
       "Name: total_sales, Length: 1014, dtype: float64"
      ]
     },
     "execution_count": 151,
     "metadata": {},
     "output_type": "execute_result"
    }
   ],
   "source": [
    "developer_sales"
   ]
  },
  {
   "cell_type": "code",
   "execution_count": 152,
   "metadata": {},
   "outputs": [
    {
     "data": {
      "text/plain": [
       "<Axes: xlabel='developer'>"
      ]
     },
     "execution_count": 152,
     "metadata": {},
     "output_type": "execute_result"
    },
    {
     "data": {
      "image/png": "[encoded data removed]",
      "text/plain": [
       "<Figure size 640x480 with 1 Axes>"
      ]
     },
     "metadata": {},
     "output_type": "display_data"
    }
   ],
   "source": [
    "developer_sales.head(10).plot(kind='bar')"
   ]
  },
  {
   "cell_type": "markdown",
   "metadata": {},
   "source": [
    "Vi kan snygga till diagrammet med titel och bättre etiketter på x- och y-axlarna. Vi kan också rotera texten på x-axeln lite så den blir lättare att läsa."
   ]
  },
  {
   "cell_type": "code",
   "execution_count": 153,
   "metadata": {},
   "outputs": [
    {
     "data": {
      "text/plain": [
       "<Axes: title={'center': 'Most sold games by developer'}, xlabel='Developer', ylabel='Total games sold (millions)'>"
      ]
     },
     "execution_count": 153,
     "metadata": {},
     "output_type": "execute_result"
    },
    {
     "data": {
      "image/png": "[encoded data removed]",
      "text/plain": [
       "<Figure size 640x480 with 1 Axes>"
      ]
     },
     "metadata": {},
     "output_type": "display_data"
    }
   ],
   "source": [
    "developer_sales.head(10).plot(kind='bar', title=\"Most sold games by developer\", xlabel=\"Developer\", ylabel=\"Total games sold (millions)\", rot=45)"
   ]
  },
  {
   "cell_type": "markdown",
   "metadata": {},
   "source": [
    "EA Canada verkar ha sålt flest spel. Vilka genrer sysslar de med? Vi kan filtrera `df` på utvecklare och räkna de olika värdena i kolumnen `genre` med metoden `value_counts()`."
   ]
  },
  {
   "cell_type": "code",
   "execution_count": 154,
   "metadata": {},
   "outputs": [
    {
     "data": {
      "text/plain": [
       "genre\n",
       "Sports      42\n",
       "Fighting     2\n",
       "Racing       1\n",
       "Name: count, dtype: int64"
      ]
     },
     "execution_count": 154,
     "metadata": {},
     "output_type": "execute_result"
    }
   ],
   "source": [
    "df[df.developer == \"EA Canada\"].genre.value_counts()"
   ]
  },
  {
   "cell_type": "code",
   "execution_count": 155,
   "metadata": {},
   "outputs": [
    {
     "data": {
      "text/plain": [
       "genre\n",
       "Shooter    8\n",
       "Action     2\n",
       "Name: count, dtype: int64"
      ]
     },
     "execution_count": 155,
     "metadata": {},
     "output_type": "execute_result"
    }
   ],
   "source": [
    "df[df.developer == \"Treyarch\"].genre.value_counts()"
   ]
  },
  {
   "cell_type": "code",
   "execution_count": 156,
   "metadata": {},
   "outputs": [
    {
     "data": {
      "text/plain": [
       "developer\n",
       "Sledgehammer Games                          17.590000\n",
       "Dice                                        17.320000\n",
       "Rockstar North                              14.348571\n",
       "Infinity Ward                               14.286250\n",
       "Rockstar Games                              13.940000\n",
       "                                              ...    \n",
       "Irrational Games / Looking Glass Studios     0.000000\n",
       "JAPAN Studio / Artoon                        0.000000\n",
       "Phenomic Game Development                    0.000000\n",
       "Valve Corporation                            0.000000\n",
       "MPS Labs                                     0.000000\n",
       "Name: total_sales, Length: 1014, dtype: float64"
      ]
     },
     "execution_count": 156,
     "metadata": {},
     "output_type": "execute_result"
    }
   ],
   "source": [
    "df.groupby('developer').total_sales.mean().sort_values(ascending=False)"
   ]
  },
  {
   "cell_type": "markdown",
   "metadata": {},
   "source": [
    "### Vilka genrer är vanligast?"
   ]
  },
  {
   "cell_type": "code",
   "execution_count": 157,
   "metadata": {},
   "outputs": [
    {
     "data": {
      "text/plain": [
       "genre\n",
       "Action              463\n",
       "Role-Playing        385\n",
       "Shooter             331\n",
       "Sports              299\n",
       "Racing              229\n",
       "Platform            212\n",
       "Adventure           167\n",
       "Fighting            166\n",
       "Misc                161\n",
       "Strategy            157\n",
       "Simulation          122\n",
       "Puzzle              106\n",
       "Action-Adventure     52\n",
       "Music                 9\n",
       "Party                 8\n",
       "MMO                   3\n",
       "Education             1\n",
       "Board Game            1\n",
       "Visual Novel          1\n",
       "Name: count, dtype: int64"
      ]
     },
     "execution_count": 157,
     "metadata": {},
     "output_type": "execute_result"
    }
   ],
   "source": [
    "df.genre.value_counts()"
   ]
  },
  {
   "cell_type": "markdown",
   "metadata": {},
   "source": [
    "### Vilka genrer får högst betyg?"
   ]
  },
  {
   "cell_type": "code",
   "execution_count": 158,
   "metadata": {},
   "outputs": [
    {
     "data": {
      "text/plain": [
       "genre\n",
       "Visual Novel        9.000000\n",
       "Education           8.000000\n",
       "Music               7.626111\n",
       "MMO                 7.338889\n",
       "Role-Playing        7.332264\n",
       "Strategy            7.329936\n",
       "Sports              7.267839\n",
       "Action-Adventure    7.257372\n",
       "Fighting            7.162349\n",
       "Puzzle              7.107547\n",
       "Shooter             7.059919\n",
       "Platform            6.990430\n",
       "Racing              6.988330\n",
       "Adventure           6.958455\n",
       "Simulation          6.763115\n",
       "Action              6.594985\n",
       "Misc                6.549513\n",
       "Party               5.550000\n",
       "Board Game          5.300000\n",
       "Name: critic_score, dtype: float64"
      ]
     },
     "execution_count": 158,
     "metadata": {},
     "output_type": "execute_result"
    }
   ],
   "source": [
    "df.groupby('genre').critic_score.mean().sort_values(ascending=False)"
   ]
  },
  {
   "cell_type": "code",
   "execution_count": 159,
   "metadata": {},
   "outputs": [
    {
     "data": {
      "text/html": [
       "<div>\n",
       "<style scoped>\n",
       "    .dataframe tbody tr th:only-of-type {\n",
       "        vertical-align: middle;\n",
       "    }\n",
       "\n",
       "    .dataframe tbody tr th {\n",
       "        vertical-align: top;\n",
       "    }\n",
       "\n",
       "    .dataframe thead th {\n",
       "        text-align: right;\n",
       "    }\n",
       "</style>\n",
       "<table border=\"1\" class=\"dataframe\">\n",
       "  <thead>\n",
       "    <tr style=\"text-align: right;\">\n",
       "      <th></th>\n",
       "      <th>title</th>\n",
       "      <th>genre</th>\n",
       "      <th>developer</th>\n",
       "      <th>critic_score</th>\n",
       "      <th>total_sales</th>\n",
       "      <th>release_date</th>\n",
       "    </tr>\n",
       "  </thead>\n",
       "  <tbody>\n",
       "    <tr>\n",
       "      <th>2606</th>\n",
       "      <td>Zero Escape: Virtue's Last Reward</td>\n",
       "      <td>Visual Novel</td>\n",
       "      <td>Spike Chunsoft</td>\n",
       "      <td>9.0</td>\n",
       "      <td>0.03</td>\n",
       "      <td>2012-10-23</td>\n",
       "    </tr>\n",
       "  </tbody>\n",
       "</table>\n",
       "</div>"
      ],
      "text/plain": [
       "                                  title         genre       developer  \\\n",
       "2606  Zero Escape: Virtue's Last Reward  Visual Novel  Spike Chunsoft   \n",
       "\n",
       "      critic_score  total_sales release_date  \n",
       "2606           9.0         0.03   2012-10-23  "
      ]
     },
     "execution_count": 159,
     "metadata": {},
     "output_type": "execute_result"
    }
   ],
   "source": [
    "df[df.genre == \"Visual Novel\"]"
   ]
  },
  {
   "cell_type": "code",
   "execution_count": 160,
   "metadata": {},
   "outputs": [],
   "source": [
    "df = df.groupby(\"genre\").filter(lambda x: x.genre.value_counts() > 55)"
   ]
  },
  {
   "cell_type": "markdown",
   "metadata": {},
   "source": [
    "### Vilka genrer säljer flest spel?"
   ]
  },
  {
   "cell_type": "code",
   "execution_count": 161,
   "metadata": {},
   "outputs": [],
   "source": [
    "genre_sales = df.groupby('genre').total_sales.sum().sort_values(ascending=False).head()"
   ]
  },
  {
   "cell_type": "code",
   "execution_count": 162,
   "metadata": {},
   "outputs": [
    {
     "data": {
      "text/plain": [
       "genre\n",
       "Shooter         609.04\n",
       "Action          575.62\n",
       "Sports          484.50\n",
       "Role-Playing    253.89\n",
       "Racing          252.26\n",
       "Name: total_sales, dtype: float64"
      ]
     },
     "execution_count": 162,
     "metadata": {},
     "output_type": "execute_result"
    }
   ],
   "source": [
    "genre_sales"
   ]
  },
  {
   "cell_type": "code",
   "execution_count": 163,
   "metadata": {},
   "outputs": [
    {
     "data": {
      "text/plain": [
       "<Axes: ylabel='total_sales'>"
      ]
     },
     "execution_count": 163,
     "metadata": {},
     "output_type": "execute_result"
    },
    {
     "data": {
      "image/png": "[encoded data removed]",
      "text/plain": [
       "<Figure size 640x480 with 1 Axes>"
      ]
     },
     "metadata": {},
     "output_type": "display_data"
    }
   ],
   "source": [
    "genre_sales.plot(kind='pie', autopct=\"%d%%\")"
   ]
  },
  {
   "cell_type": "code",
   "execution_count": 164,
   "metadata": {},
   "outputs": [
    {
     "data": {
      "text/plain": [
       "<Axes: title={'center': 'Most sold games by genre'}, xlabel='Genre', ylabel='Total games sold (millions)'>"
      ]
     },
     "execution_count": 164,
     "metadata": {},
     "output_type": "execute_result"
    },
    {
     "data": {
      "image/png": "[encoded data removed]",
      "text/plain": [
       "<Figure size 640x480 with 1 Axes>"
      ]
     },
     "metadata": {},
     "output_type": "display_data"
    }
   ],
   "source": [
    "genre_sales.plot(kind='bar', title=\"Most sold games by genre\", xlabel=\"Genre\", ylabel=\"Total games sold (millions)\", rot=45)"
   ]
  },
  {
   "cell_type": "markdown",
   "metadata": {},
   "source": [
    "### Vilka titlar har sålt bäst?"
   ]
  },
  {
   "cell_type": "code",
   "execution_count": 165,
   "metadata": {},
   "outputs": [
    {
     "data": {
      "text/html": [
       "<div>\n",
       "<style scoped>\n",
       "    .dataframe tbody tr th:only-of-type {\n",
       "        vertical-align: middle;\n",
       "    }\n",
       "\n",
       "    .dataframe tbody tr th {\n",
       "        vertical-align: top;\n",
       "    }\n",
       "\n",
       "    .dataframe thead th {\n",
       "        text-align: right;\n",
       "    }\n",
       "</style>\n",
       "<table border=\"1\" class=\"dataframe\">\n",
       "  <thead>\n",
       "    <tr style=\"text-align: right;\">\n",
       "      <th></th>\n",
       "      <th>title</th>\n",
       "      <th>genre</th>\n",
       "      <th>developer</th>\n",
       "      <th>critic_score</th>\n",
       "      <th>total_sales</th>\n",
       "      <th>release_date</th>\n",
       "    </tr>\n",
       "  </thead>\n",
       "  <tbody>\n",
       "    <tr>\n",
       "      <th>0</th>\n",
       "      <td>Grand Theft Auto V</td>\n",
       "      <td>Action</td>\n",
       "      <td>Rockstar North</td>\n",
       "      <td>9.366667</td>\n",
       "      <td>48.43</td>\n",
       "      <td>2013-09-17</td>\n",
       "    </tr>\n",
       "    <tr>\n",
       "      <th>1</th>\n",
       "      <td>Call of Duty: Black Ops</td>\n",
       "      <td>Shooter</td>\n",
       "      <td>Treyarch</td>\n",
       "      <td>8.100000</td>\n",
       "      <td>30.99</td>\n",
       "      <td>2010-11-09</td>\n",
       "    </tr>\n",
       "    <tr>\n",
       "      <th>2</th>\n",
       "      <td>Call of Duty: Modern Warfare 3</td>\n",
       "      <td>Shooter</td>\n",
       "      <td>Infinity Ward</td>\n",
       "      <td>7.500000</td>\n",
       "      <td>30.71</td>\n",
       "      <td>2011-11-08</td>\n",
       "    </tr>\n",
       "    <tr>\n",
       "      <th>3</th>\n",
       "      <td>Call of Duty: Ghosts</td>\n",
       "      <td>Shooter</td>\n",
       "      <td>Infinity Ward</td>\n",
       "      <td>7.833333</td>\n",
       "      <td>28.80</td>\n",
       "      <td>2013-11-05</td>\n",
       "    </tr>\n",
       "    <tr>\n",
       "      <th>4</th>\n",
       "      <td>Call of Duty: Black Ops II</td>\n",
       "      <td>Shooter</td>\n",
       "      <td>Treyarch</td>\n",
       "      <td>8.333333</td>\n",
       "      <td>28.08</td>\n",
       "      <td>2012-11-13</td>\n",
       "    </tr>\n",
       "    <tr>\n",
       "      <th>5</th>\n",
       "      <td>Call of Duty: Modern Warfare 2</td>\n",
       "      <td>Shooter</td>\n",
       "      <td>Infinity Ward</td>\n",
       "      <td>9.333333</td>\n",
       "      <td>25.02</td>\n",
       "      <td>2009-11-10</td>\n",
       "    </tr>\n",
       "    <tr>\n",
       "      <th>6</th>\n",
       "      <td>Grand Theft Auto IV</td>\n",
       "      <td>Action</td>\n",
       "      <td>Rockstar North</td>\n",
       "      <td>9.733333</td>\n",
       "      <td>22.53</td>\n",
       "      <td>2008-04-29</td>\n",
       "    </tr>\n",
       "    <tr>\n",
       "      <th>7</th>\n",
       "      <td>Call of Duty: Advanced Warfare</td>\n",
       "      <td>Shooter</td>\n",
       "      <td>Sledgehammer Games</td>\n",
       "      <td>8.720000</td>\n",
       "      <td>21.78</td>\n",
       "      <td>2014-11-04</td>\n",
       "    </tr>\n",
       "    <tr>\n",
       "      <th>8</th>\n",
       "      <td>The Elder Scrolls V: Skyrim</td>\n",
       "      <td>Role-Playing</td>\n",
       "      <td>Bethesda Game Studios</td>\n",
       "      <td>9.025000</td>\n",
       "      <td>20.51</td>\n",
       "      <td>2011-11-11</td>\n",
       "    </tr>\n",
       "    <tr>\n",
       "      <th>9</th>\n",
       "      <td>Call of Duty 4: Modern Warfare</td>\n",
       "      <td>Shooter</td>\n",
       "      <td>Infinity Ward</td>\n",
       "      <td>8.925000</td>\n",
       "      <td>18.33</td>\n",
       "      <td>2007-11-05</td>\n",
       "    </tr>\n",
       "  </tbody>\n",
       "</table>\n",
       "</div>"
      ],
      "text/plain": [
       "                            title         genre              developer  \\\n",
       "0              Grand Theft Auto V        Action         Rockstar North   \n",
       "1         Call of Duty: Black Ops       Shooter               Treyarch   \n",
       "2  Call of Duty: Modern Warfare 3       Shooter          Infinity Ward   \n",
       "3            Call of Duty: Ghosts       Shooter          Infinity Ward   \n",
       "4      Call of Duty: Black Ops II       Shooter               Treyarch   \n",
       "5  Call of Duty: Modern Warfare 2       Shooter          Infinity Ward   \n",
       "6             Grand Theft Auto IV        Action         Rockstar North   \n",
       "7  Call of Duty: Advanced Warfare       Shooter     Sledgehammer Games   \n",
       "8     The Elder Scrolls V: Skyrim  Role-Playing  Bethesda Game Studios   \n",
       "9  Call of Duty 4: Modern Warfare       Shooter          Infinity Ward   \n",
       "\n",
       "   critic_score  total_sales release_date  \n",
       "0      9.366667        48.43   2013-09-17  \n",
       "1      8.100000        30.99   2010-11-09  \n",
       "2      7.500000        30.71   2011-11-08  \n",
       "3      7.833333        28.80   2013-11-05  \n",
       "4      8.333333        28.08   2012-11-13  \n",
       "5      9.333333        25.02   2009-11-10  \n",
       "6      9.733333        22.53   2008-04-29  \n",
       "7      8.720000        21.78   2014-11-04  \n",
       "8      9.025000        20.51   2011-11-11  \n",
       "9      8.925000        18.33   2007-11-05  "
      ]
     },
     "execution_count": 165,
     "metadata": {},
     "output_type": "execute_result"
    }
   ],
   "source": [
    "df.sort_values('total_sales', ascending=False).head(10)"
   ]
  },
  {
   "cell_type": "markdown",
   "metadata": {},
   "source": [
    "### Vilka titlar har fått högst betyg?"
   ]
  },
  {
   "cell_type": "code",
   "execution_count": 166,
   "metadata": {},
   "outputs": [
    {
     "data": {
      "text/html": [
       "<div>\n",
       "<style scoped>\n",
       "    .dataframe tbody tr th:only-of-type {\n",
       "        vertical-align: middle;\n",
       "    }\n",
       "\n",
       "    .dataframe tbody tr th {\n",
       "        vertical-align: top;\n",
       "    }\n",
       "\n",
       "    .dataframe thead th {\n",
       "        text-align: right;\n",
       "    }\n",
       "</style>\n",
       "<table border=\"1\" class=\"dataframe\">\n",
       "  <thead>\n",
       "    <tr style=\"text-align: right;\">\n",
       "      <th></th>\n",
       "      <th>title</th>\n",
       "      <th>genre</th>\n",
       "      <th>developer</th>\n",
       "      <th>critic_score</th>\n",
       "      <th>total_sales</th>\n",
       "      <th>release_date</th>\n",
       "    </tr>\n",
       "  </thead>\n",
       "  <tbody>\n",
       "    <tr>\n",
       "      <th>321</th>\n",
       "      <td>Red Dead Redemption: Undead Nightmare</td>\n",
       "      <td>Action</td>\n",
       "      <td>Rockstar San Diego</td>\n",
       "      <td>10.000000</td>\n",
       "      <td>2.29</td>\n",
       "      <td>2010-11-23</td>\n",
       "    </tr>\n",
       "    <tr>\n",
       "      <th>156</th>\n",
       "      <td>Rockstar Games Double Pack: Grand Theft Auto I...</td>\n",
       "      <td>Action</td>\n",
       "      <td>Rockstar North</td>\n",
       "      <td>9.750000</td>\n",
       "      <td>4.21</td>\n",
       "      <td>2003-10-31</td>\n",
       "    </tr>\n",
       "    <tr>\n",
       "      <th>6</th>\n",
       "      <td>Grand Theft Auto IV</td>\n",
       "      <td>Action</td>\n",
       "      <td>Rockstar North</td>\n",
       "      <td>9.733333</td>\n",
       "      <td>22.53</td>\n",
       "      <td>2008-04-29</td>\n",
       "    </tr>\n",
       "    <tr>\n",
       "      <th>570</th>\n",
       "      <td>NFL 2K</td>\n",
       "      <td>Sports</td>\n",
       "      <td>Visual Concepts</td>\n",
       "      <td>9.700000</td>\n",
       "      <td>1.20</td>\n",
       "      <td>1999-09-09</td>\n",
       "    </tr>\n",
       "    <tr>\n",
       "      <th>775</th>\n",
       "      <td>The Walking Dead: A Telltale Games Series</td>\n",
       "      <td>Adventure</td>\n",
       "      <td>Telltale Games</td>\n",
       "      <td>9.700000</td>\n",
       "      <td>0.82</td>\n",
       "      <td>2012-11-20</td>\n",
       "    </tr>\n",
       "    <tr>\n",
       "      <th>610</th>\n",
       "      <td>NFL 2K1</td>\n",
       "      <td>Sports</td>\n",
       "      <td>Visual Concepts</td>\n",
       "      <td>9.600000</td>\n",
       "      <td>1.09</td>\n",
       "      <td>2000-09-07</td>\n",
       "    </tr>\n",
       "    <tr>\n",
       "      <th>181</th>\n",
       "      <td>Portal 2</td>\n",
       "      <td>Shooter</td>\n",
       "      <td>Valve Software</td>\n",
       "      <td>9.600000</td>\n",
       "      <td>3.79</td>\n",
       "      <td>2011-04-19</td>\n",
       "    </tr>\n",
       "    <tr>\n",
       "      <th>36</th>\n",
       "      <td>Batman: Arkham City</td>\n",
       "      <td>Action</td>\n",
       "      <td>Rocksteady Studios</td>\n",
       "      <td>9.550000</td>\n",
       "      <td>10.29</td>\n",
       "      <td>2011-10-18</td>\n",
       "    </tr>\n",
       "    <tr>\n",
       "      <th>1994</th>\n",
       "      <td>South Park: The Fractured But Whole</td>\n",
       "      <td>Role-Playing</td>\n",
       "      <td>Ubisoft San Francisco</td>\n",
       "      <td>9.500000</td>\n",
       "      <td>0.14</td>\n",
       "      <td>2018-04-24</td>\n",
       "    </tr>\n",
       "    <tr>\n",
       "      <th>359</th>\n",
       "      <td>Dragon Quest XI: Echoes of an Elusive Age</td>\n",
       "      <td>Role-Playing</td>\n",
       "      <td>Square Enix</td>\n",
       "      <td>9.500000</td>\n",
       "      <td>2.04</td>\n",
       "      <td>2018-09-04</td>\n",
       "    </tr>\n",
       "  </tbody>\n",
       "</table>\n",
       "</div>"
      ],
      "text/plain": [
       "                                                  title         genre  \\\n",
       "321               Red Dead Redemption: Undead Nightmare        Action   \n",
       "156   Rockstar Games Double Pack: Grand Theft Auto I...        Action   \n",
       "6                                   Grand Theft Auto IV        Action   \n",
       "570                                              NFL 2K        Sports   \n",
       "775           The Walking Dead: A Telltale Games Series     Adventure   \n",
       "610                                             NFL 2K1        Sports   \n",
       "181                                            Portal 2       Shooter   \n",
       "36                                  Batman: Arkham City        Action   \n",
       "1994                South Park: The Fractured But Whole  Role-Playing   \n",
       "359           Dragon Quest XI: Echoes of an Elusive Age  Role-Playing   \n",
       "\n",
       "                  developer  critic_score  total_sales release_date  \n",
       "321      Rockstar San Diego     10.000000         2.29   2010-11-23  \n",
       "156          Rockstar North      9.750000         4.21   2003-10-31  \n",
       "6            Rockstar North      9.733333        22.53   2008-04-29  \n",
       "570         Visual Concepts      9.700000         1.20   1999-09-09  \n",
       "775          Telltale Games      9.700000         0.82   2012-11-20  \n",
       "610         Visual Concepts      9.600000         1.09   2000-09-07  \n",
       "181          Valve Software      9.600000         3.79   2011-04-19  \n",
       "36       Rocksteady Studios      9.550000        10.29   2011-10-18  \n",
       "1994  Ubisoft San Francisco      9.500000         0.14   2018-04-24  \n",
       "359             Square Enix      9.500000         2.04   2018-09-04  "
      ]
     },
     "execution_count": 166,
     "metadata": {},
     "output_type": "execute_result"
    }
   ],
   "source": [
    "df.sort_values('critic_score', ascending=False).head(10)"
   ]
  },
  {
   "cell_type": "markdown",
   "metadata": {},
   "source": [
    "### Kan vi se ett samband mellan betyg och försäljning?"
   ]
  },
  {
   "cell_type": "code",
   "execution_count": 167,
   "metadata": {},
   "outputs": [
    {
     "data": {
      "text/plain": [
       "<Axes: xlabel='critic_score', ylabel='total_sales'>"
      ]
     },
     "execution_count": 167,
     "metadata": {},
     "output_type": "execute_result"
    },
    {
     "data": {
      "image/png": "[encoded data removed]",
      "text/plain": [
       "<Figure size 640x480 with 1 Axes>"
      ]
     },
     "metadata": {},
     "output_type": "display_data"
    }
   ],
   "source": [
    "df.plot(kind='scatter', x='critic_score', y='total_sales')"
   ]
  },
  {
   "cell_type": "code",
   "execution_count": 168,
   "metadata": {},
   "outputs": [],
   "source": [
    "import seaborn as sns"
   ]
  },
  {
   "cell_type": "code",
   "execution_count": 169,
   "metadata": {},
   "outputs": [
    {
     "data": {
      "text/plain": [
       "<Axes: xlabel='critic_score', ylabel='total_sales'>"
      ]
     },
     "execution_count": 169,
     "metadata": {},
     "output_type": "execute_result"
    },
    {
     "data": {
      "image/png": "[encoded data removed]",
      "text/plain": [
       "<Figure size 640x480 with 1 Axes>"
      ]
     },
     "metadata": {},
     "output_type": "display_data"
    }
   ],
   "source": [
    "sns.scatterplot(df, x=\"critic_score\", y=\"total_sales\", hue=\"genre\")"
   ]
  },
  {
   "cell_type": "markdown",
   "metadata": {},
   "source": [
    "## Mean sales per genre"
   ]
  },
  {
   "cell_type": "code",
   "execution_count": 170,
   "metadata": {},
   "outputs": [
    {
     "data": {
      "text/plain": [
       "genre\n",
       "Action          575.62\n",
       "Adventure       129.86\n",
       "Fighting        139.13\n",
       "Misc            166.98\n",
       "Platform        153.00\n",
       "Puzzle           32.07\n",
       "Racing          252.26\n",
       "Role-Playing    253.89\n",
       "Shooter         609.04\n",
       "Simulation       99.49\n",
       "Sports          484.50\n",
       "Strategy         47.49\n",
       "Name: total_sales, dtype: float64"
      ]
     },
     "execution_count": 170,
     "metadata": {},
     "output_type": "execute_result"
    }
   ],
   "source": [
    "df.groupby('genre').total_sales.sum()"
   ]
  },
  {
   "cell_type": "code",
   "execution_count": 171,
   "metadata": {},
   "outputs": [
    {
     "data": {
      "text/html": [
       "<div>\n",
       "<style scoped>\n",
       "    .dataframe tbody tr th:only-of-type {\n",
       "        vertical-align: middle;\n",
       "    }\n",
       "\n",
       "    .dataframe tbody tr th {\n",
       "        vertical-align: top;\n",
       "    }\n",
       "\n",
       "    .dataframe thead th {\n",
       "        text-align: right;\n",
       "    }\n",
       "</style>\n",
       "<table border=\"1\" class=\"dataframe\">\n",
       "  <thead>\n",
       "    <tr style=\"text-align: right;\">\n",
       "      <th></th>\n",
       "      <th>title</th>\n",
       "      <th>genre</th>\n",
       "      <th>developer</th>\n",
       "      <th>critic_score</th>\n",
       "      <th>total_sales</th>\n",
       "      <th>release_date</th>\n",
       "    </tr>\n",
       "  </thead>\n",
       "  <tbody>\n",
       "    <tr>\n",
       "      <th>1426</th>\n",
       "      <td>Beautiful Katamari</td>\n",
       "      <td>Puzzle</td>\n",
       "      <td>Now Production</td>\n",
       "      <td>7.300000</td>\n",
       "      <td>0.32</td>\n",
       "      <td>2007-10-16</td>\n",
       "    </tr>\n",
       "    <tr>\n",
       "      <th>2826</th>\n",
       "      <td>Egg Mania</td>\n",
       "      <td>Puzzle</td>\n",
       "      <td>HotGen Studios</td>\n",
       "      <td>7.300000</td>\n",
       "      <td>0.00</td>\n",
       "      <td>2002-09-16</td>\n",
       "    </tr>\n",
       "    <tr>\n",
       "      <th>851</th>\n",
       "      <td>NBA Live 06</td>\n",
       "      <td>Sports</td>\n",
       "      <td>EA Canada</td>\n",
       "      <td>7.300000</td>\n",
       "      <td>0.71</td>\n",
       "      <td>2005-10-04</td>\n",
       "    </tr>\n",
       "    <tr>\n",
       "      <th>1043</th>\n",
       "      <td>The Sims 3: Pets</td>\n",
       "      <td>Simulation</td>\n",
       "      <td>The Sims Studio</td>\n",
       "      <td>7.266667</td>\n",
       "      <td>0.54</td>\n",
       "      <td>2011-10-18</td>\n",
       "    </tr>\n",
       "    <tr>\n",
       "      <th>1047</th>\n",
       "      <td>Attack on Titan 2</td>\n",
       "      <td>Action</td>\n",
       "      <td>Omega Force</td>\n",
       "      <td>7.266667</td>\n",
       "      <td>0.54</td>\n",
       "      <td>2018-03-20</td>\n",
       "    </tr>\n",
       "    <tr>\n",
       "      <th>424</th>\n",
       "      <td>G-Force</td>\n",
       "      <td>Action</td>\n",
       "      <td>Keen Games</td>\n",
       "      <td>7.260000</td>\n",
       "      <td>1.72</td>\n",
       "      <td>2009-07-21</td>\n",
       "    </tr>\n",
       "    <tr>\n",
       "      <th>560</th>\n",
       "      <td>Ace Combat: Assault Horizon</td>\n",
       "      <td>Action</td>\n",
       "      <td>Project ACES</td>\n",
       "      <td>7.250000</td>\n",
       "      <td>1.23</td>\n",
       "      <td>2011-10-11</td>\n",
       "    </tr>\n",
       "    <tr>\n",
       "      <th>1265</th>\n",
       "      <td>50 Cent: Blood on the Sand</td>\n",
       "      <td>Shooter</td>\n",
       "      <td>Swordfish Studios</td>\n",
       "      <td>7.250000</td>\n",
       "      <td>0.40</td>\n",
       "      <td>2009-02-24</td>\n",
       "    </tr>\n",
       "    <tr>\n",
       "      <th>1424</th>\n",
       "      <td>Tenchu: Shadow Assassins</td>\n",
       "      <td>Action</td>\n",
       "      <td>Acquire</td>\n",
       "      <td>7.250000</td>\n",
       "      <td>0.33</td>\n",
       "      <td>2009-02-05</td>\n",
       "    </tr>\n",
       "    <tr>\n",
       "      <th>980</th>\n",
       "      <td>James Bond 007: Everything or Nothing</td>\n",
       "      <td>Shooter</td>\n",
       "      <td>EA Redwood Shores</td>\n",
       "      <td>7.250000</td>\n",
       "      <td>0.59</td>\n",
       "      <td>2004-02-17</td>\n",
       "    </tr>\n",
       "    <tr>\n",
       "      <th>811</th>\n",
       "      <td>Dungeon Siege III</td>\n",
       "      <td>Role-Playing</td>\n",
       "      <td>Obsidian Entertainment</td>\n",
       "      <td>7.250000</td>\n",
       "      <td>0.76</td>\n",
       "      <td>2011-06-21</td>\n",
       "    </tr>\n",
       "  </tbody>\n",
       "</table>\n",
       "</div>"
      ],
      "text/plain": [
       "                                      title         genre  \\\n",
       "1426                     Beautiful Katamari        Puzzle   \n",
       "2826                              Egg Mania        Puzzle   \n",
       "851                             NBA Live 06        Sports   \n",
       "1043                       The Sims 3: Pets    Simulation   \n",
       "1047                      Attack on Titan 2        Action   \n",
       "424                                 G-Force        Action   \n",
       "560             Ace Combat: Assault Horizon        Action   \n",
       "1265             50 Cent: Blood on the Sand       Shooter   \n",
       "1424               Tenchu: Shadow Assassins        Action   \n",
       "980   James Bond 007: Everything or Nothing       Shooter   \n",
       "811                       Dungeon Siege III  Role-Playing   \n",
       "\n",
       "                   developer  critic_score  total_sales release_date  \n",
       "1426          Now Production      7.300000         0.32   2007-10-16  \n",
       "2826          HotGen Studios      7.300000         0.00   2002-09-16  \n",
       "851                EA Canada      7.300000         0.71   2005-10-04  \n",
       "1043         The Sims Studio      7.266667         0.54   2011-10-18  \n",
       "1047             Omega Force      7.266667         0.54   2018-03-20  \n",
       "424               Keen Games      7.260000         1.72   2009-07-21  \n",
       "560             Project ACES      7.250000         1.23   2011-10-11  \n",
       "1265       Swordfish Studios      7.250000         0.40   2009-02-24  \n",
       "1424                 Acquire      7.250000         0.33   2009-02-05  \n",
       "980        EA Redwood Shores      7.250000         0.59   2004-02-17  \n",
       "811   Obsidian Entertainment      7.250000         0.76   2011-06-21  "
      ]
     },
     "execution_count": 171,
     "metadata": {},
     "output_type": "execute_result"
    }
   ],
   "source": [
    "df.sort_values(\"critic_score\", ascending=False).iloc[len(df)//2 - 5:len(df)//2 + 6]"
   ]
  },
  {
   "cell_type": "code",
   "execution_count": 172,
   "metadata": {},
   "outputs": [
    {
     "data": {
      "text/plain": [
       "genre\n",
       "Action          463\n",
       "Role-Playing    385\n",
       "Shooter         331\n",
       "Sports          299\n",
       "Racing          229\n",
       "Platform        212\n",
       "Adventure       167\n",
       "Fighting        166\n",
       "Misc            161\n",
       "Strategy        157\n",
       "Simulation      122\n",
       "Puzzle          106\n",
       "Name: count, dtype: int64"
      ]
     },
     "execution_count": 172,
     "metadata": {},
     "output_type": "execute_result"
    }
   ],
   "source": [
    "df.genre.value_counts()"
   ]
  },
  {
   "cell_type": "code",
   "execution_count": 173,
   "metadata": {},
   "outputs": [
    {
     "data": {
      "text/plain": [
       "genre\n",
       "Action          1.243240\n",
       "Adventure       0.777605\n",
       "Fighting        0.838133\n",
       "Misc            1.037143\n",
       "Platform        0.721698\n",
       "Puzzle          0.302547\n",
       "Racing          1.101572\n",
       "Role-Playing    0.659455\n",
       "Shooter         1.840000\n",
       "Simulation      0.815492\n",
       "Sports          1.620401\n",
       "Strategy        0.302484\n",
       "dtype: float64"
      ]
     },
     "execution_count": 173,
     "metadata": {},
     "output_type": "execute_result"
    }
   ],
   "source": [
    "df.groupby('genre').total_sales.sum() / df.genre.value_counts()"
   ]
  },
  {
   "cell_type": "code",
   "execution_count": 174,
   "metadata": {},
   "outputs": [
    {
     "data": {
      "text/plain": [
       "genre\n",
       "Shooter         609.04\n",
       "Action          575.62\n",
       "Sports          484.50\n",
       "Role-Playing    253.89\n",
       "Racing          252.26\n",
       "Misc            166.98\n",
       "Platform        153.00\n",
       "Fighting        139.13\n",
       "Adventure       129.86\n",
       "Simulation       99.49\n",
       "Strategy         47.49\n",
       "Puzzle           32.07\n",
       "Name: total_sales, dtype: float64"
      ]
     },
     "execution_count": 174,
     "metadata": {},
     "output_type": "execute_result"
    }
   ],
   "source": [
    "df.groupby('genre').total_sales.sum().sort_values(ascending=False)"
   ]
  },
  {
   "cell_type": "code",
   "execution_count": 175,
   "metadata": {},
   "outputs": [
    {
     "data": {
      "text/plain": [
       "genre\n",
       "Shooter         1.840000\n",
       "Sports          1.620401\n",
       "Action          1.243240\n",
       "Racing          1.101572\n",
       "Misc            1.037143\n",
       "Fighting        0.838133\n",
       "Simulation      0.815492\n",
       "Adventure       0.777605\n",
       "Platform        0.721698\n",
       "Role-Playing    0.659455\n",
       "Puzzle          0.302547\n",
       "Strategy        0.302484\n",
       "dtype: float64"
      ]
     },
     "execution_count": 175,
     "metadata": {},
     "output_type": "execute_result"
    }
   ],
   "source": [
    "(df.groupby('genre').total_sales.sum() / df.genre.value_counts()).sort_values(ascending=False)"
   ]
  },
  {
   "cell_type": "code",
   "execution_count": 176,
   "metadata": {},
   "outputs": [
    {
     "data": {
      "text/plain": [
       "<Axes: >"
      ]
     },
     "execution_count": 176,
     "metadata": {},
     "output_type": "execute_result"
    },
    {
     "data": {
      "image/png": "[encoded data removed]",
      "text/plain": [
       "<Figure size 640x480 with 1 Axes>"
      ]
     },
     "metadata": {},
     "output_type": "display_data"
    }
   ],
   "source": [
    "df[df.genre == 'Music'].total_sales.hist(bins=25)"
   ]
  },
  {
   "cell_type": "code",
   "execution_count": 177,
   "metadata": {},
   "outputs": [
    {
     "data": {
      "text/html": [
       "<div>\n",
       "<style scoped>\n",
       "    .dataframe tbody tr th:only-of-type {\n",
       "        vertical-align: middle;\n",
       "    }\n",
       "\n",
       "    .dataframe tbody tr th {\n",
       "        vertical-align: top;\n",
       "    }\n",
       "\n",
       "    .dataframe thead th {\n",
       "        text-align: right;\n",
       "    }\n",
       "</style>\n",
       "<table border=\"1\" class=\"dataframe\">\n",
       "  <thead>\n",
       "    <tr style=\"text-align: right;\">\n",
       "      <th></th>\n",
       "      <th>title</th>\n",
       "      <th>genre</th>\n",
       "      <th>developer</th>\n",
       "      <th>critic_score</th>\n",
       "      <th>total_sales</th>\n",
       "      <th>release_date</th>\n",
       "    </tr>\n",
       "  </thead>\n",
       "  <tbody>\n",
       "  </tbody>\n",
       "</table>\n",
       "</div>"
      ],
      "text/plain": [
       "Empty DataFrame\n",
       "Columns: [title, genre, developer, critic_score, total_sales, release_date]\n",
       "Index: []"
      ]
     },
     "execution_count": 177,
     "metadata": {},
     "output_type": "execute_result"
    }
   ],
   "source": [
    "df[df.genre == 'Action-Adventure'].sort_values('critic_score', ascending=False)"
   ]
  },
  {
   "cell_type": "code",
   "execution_count": 178,
   "metadata": {},
   "outputs": [],
   "source": [
    "df['score_ge_5'] = df.critic_score >= 5"
   ]
  },
  {
   "cell_type": "code",
   "execution_count": 179,
   "metadata": {},
   "outputs": [
    {
     "data": {
      "text/html": [
       "<div>\n",
       "<style scoped>\n",
       "    .dataframe tbody tr th:only-of-type {\n",
       "        vertical-align: middle;\n",
       "    }\n",
       "\n",
       "    .dataframe tbody tr th {\n",
       "        vertical-align: top;\n",
       "    }\n",
       "\n",
       "    .dataframe thead th {\n",
       "        text-align: right;\n",
       "    }\n",
       "</style>\n",
       "<table border=\"1\" class=\"dataframe\">\n",
       "  <thead>\n",
       "    <tr style=\"text-align: right;\">\n",
       "      <th></th>\n",
       "      <th>title</th>\n",
       "      <th>genre</th>\n",
       "      <th>developer</th>\n",
       "      <th>critic_score</th>\n",
       "      <th>total_sales</th>\n",
       "      <th>release_date</th>\n",
       "      <th>score_ge_5</th>\n",
       "    </tr>\n",
       "  </thead>\n",
       "  <tbody>\n",
       "    <tr>\n",
       "      <th>0</th>\n",
       "      <td>Grand Theft Auto V</td>\n",
       "      <td>Action</td>\n",
       "      <td>Rockstar North</td>\n",
       "      <td>9.366667</td>\n",
       "      <td>48.43</td>\n",
       "      <td>2013-09-17</td>\n",
       "      <td>True</td>\n",
       "    </tr>\n",
       "    <tr>\n",
       "      <th>1</th>\n",
       "      <td>Call of Duty: Black Ops</td>\n",
       "      <td>Shooter</td>\n",
       "      <td>Treyarch</td>\n",
       "      <td>8.100000</td>\n",
       "      <td>30.99</td>\n",
       "      <td>2010-11-09</td>\n",
       "      <td>True</td>\n",
       "    </tr>\n",
       "    <tr>\n",
       "      <th>2</th>\n",
       "      <td>Call of Duty: Modern Warfare 3</td>\n",
       "      <td>Shooter</td>\n",
       "      <td>Infinity Ward</td>\n",
       "      <td>7.500000</td>\n",
       "      <td>30.71</td>\n",
       "      <td>2011-11-08</td>\n",
       "      <td>True</td>\n",
       "    </tr>\n",
       "    <tr>\n",
       "      <th>3</th>\n",
       "      <td>Call of Duty: Ghosts</td>\n",
       "      <td>Shooter</td>\n",
       "      <td>Infinity Ward</td>\n",
       "      <td>7.833333</td>\n",
       "      <td>28.80</td>\n",
       "      <td>2013-11-05</td>\n",
       "      <td>True</td>\n",
       "    </tr>\n",
       "    <tr>\n",
       "      <th>4</th>\n",
       "      <td>Call of Duty: Black Ops II</td>\n",
       "      <td>Shooter</td>\n",
       "      <td>Treyarch</td>\n",
       "      <td>8.333333</td>\n",
       "      <td>28.08</td>\n",
       "      <td>2012-11-13</td>\n",
       "      <td>True</td>\n",
       "    </tr>\n",
       "    <tr>\n",
       "      <th>...</th>\n",
       "      <td>...</td>\n",
       "      <td>...</td>\n",
       "      <td>...</td>\n",
       "      <td>...</td>\n",
       "      <td>...</td>\n",
       "      <td>...</td>\n",
       "      <td>...</td>\n",
       "    </tr>\n",
       "    <tr>\n",
       "      <th>2868</th>\n",
       "      <td>Still Life</td>\n",
       "      <td>Adventure</td>\n",
       "      <td>Microids</td>\n",
       "      <td>6.400000</td>\n",
       "      <td>0.00</td>\n",
       "      <td>2005-05-04</td>\n",
       "      <td>True</td>\n",
       "    </tr>\n",
       "    <tr>\n",
       "      <th>2869</th>\n",
       "      <td>Zoo Tycoon 2: Endangered Species</td>\n",
       "      <td>Strategy</td>\n",
       "      <td>Blue Fang Games</td>\n",
       "      <td>6.200000</td>\n",
       "      <td>0.00</td>\n",
       "      <td>2005-10-19</td>\n",
       "      <td>True</td>\n",
       "    </tr>\n",
       "    <tr>\n",
       "      <th>2870</th>\n",
       "      <td>Zoo Tycoon 2: African Adventure</td>\n",
       "      <td>Strategy</td>\n",
       "      <td>Blue Fang Games</td>\n",
       "      <td>4.000000</td>\n",
       "      <td>0.00</td>\n",
       "      <td>2006-05-22</td>\n",
       "      <td>False</td>\n",
       "    </tr>\n",
       "    <tr>\n",
       "      <th>2871</th>\n",
       "      <td>echoshift</td>\n",
       "      <td>Puzzle</td>\n",
       "      <td>JAPAN Studio / Artoon</td>\n",
       "      <td>7.500000</td>\n",
       "      <td>0.00</td>\n",
       "      <td>2010-02-24</td>\n",
       "      <td>True</td>\n",
       "    </tr>\n",
       "    <tr>\n",
       "      <th>2872</th>\n",
       "      <td>bit Generations: Boundish</td>\n",
       "      <td>Action</td>\n",
       "      <td>skip Ltd.</td>\n",
       "      <td>4.000000</td>\n",
       "      <td>0.00</td>\n",
       "      <td>2006-07-13</td>\n",
       "      <td>False</td>\n",
       "    </tr>\n",
       "  </tbody>\n",
       "</table>\n",
       "<p>2798 rows × 7 columns</p>\n",
       "</div>"
      ],
      "text/plain": [
       "                                 title      genre              developer  \\\n",
       "0                   Grand Theft Auto V     Action         Rockstar North   \n",
       "1              Call of Duty: Black Ops    Shooter               Treyarch   \n",
       "2       Call of Duty: Modern Warfare 3    Shooter          Infinity Ward   \n",
       "3                 Call of Duty: Ghosts    Shooter          Infinity Ward   \n",
       "4           Call of Duty: Black Ops II    Shooter               Treyarch   \n",
       "...                                ...        ...                    ...   \n",
       "2868                        Still Life  Adventure               Microids   \n",
       "2869  Zoo Tycoon 2: Endangered Species   Strategy        Blue Fang Games   \n",
       "2870   Zoo Tycoon 2: African Adventure   Strategy        Blue Fang Games   \n",
       "2871                         echoshift     Puzzle  JAPAN Studio / Artoon   \n",
       "2872         bit Generations: Boundish     Action              skip Ltd.   \n",
       "\n",
       "      critic_score  total_sales release_date  score_ge_5  \n",
       "0         9.366667        48.43   2013-09-17        True  \n",
       "1         8.100000        30.99   2010-11-09        True  \n",
       "2         7.500000        30.71   2011-11-08        True  \n",
       "3         7.833333        28.80   2013-11-05        True  \n",
       "4         8.333333        28.08   2012-11-13        True  \n",
       "...            ...          ...          ...         ...  \n",
       "2868      6.400000         0.00   2005-05-04        True  \n",
       "2869      6.200000         0.00   2005-10-19        True  \n",
       "2870      4.000000         0.00   2006-05-22       False  \n",
       "2871      7.500000         0.00   2010-02-24        True  \n",
       "2872      4.000000         0.00   2006-07-13       False  \n",
       "\n",
       "[2798 rows x 7 columns]"
      ]
     },
     "execution_count": 179,
     "metadata": {},
     "output_type": "execute_result"
    }
   ],
   "source": [
    "df"
   ]
  },
  {
   "cell_type": "code",
   "execution_count": null,
   "metadata": {},
   "outputs": [],
   "source": []
  }
 ],
 "metadata": {
  "kernelspec": {
   "display_name": "env",
   "language": "python",
   "name": "python3"
  },
  "language_info": {
   "codemirror_mode": {
    "name": "ipython",
    "version": 3
   },
   "file_extension": ".py",
   "mimetype": "text/x-python",
   "name": "python",
   "nbconvert_exporter": "python",
   "pygments_lexer": "ipython3",
   "version": "3.13.0"
  }
 },
 "nbformat": 4,
 "nbformat_minor": 2
}
